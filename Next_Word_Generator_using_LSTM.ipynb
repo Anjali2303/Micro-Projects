{
  "nbformat": 4,
  "nbformat_minor": 0,
  "metadata": {
    "colab": {
      "provenance": []
    },
    "kernelspec": {
      "name": "python3",
      "display_name": "Python 3"
    },
    "language_info": {
      "name": "python"
    },
    "accelerator": "GPU",
    "gpuClass": "standard"
  },
  "cells": [
    {
      "cell_type": "markdown",
      "source": [
        "## Importing Libraries and upload our text file"
      ],
      "metadata": {
        "id": "1StZ26Qfb_NE"
      }
    },
    {
      "cell_type": "code",
      "execution_count": 1,
      "metadata": {
        "colab": {
          "base_uri": "https://localhost:8080/",
          "height": 73
        },
        "id": "8E0iBh_QbkAC",
        "outputId": "df31eb95-111d-4330-b5d0-f4debad6ad7d"
      },
      "outputs": [
        {
          "output_type": "display_data",
          "data": {
            "text/plain": [
              "<IPython.core.display.HTML object>"
            ],
            "text/html": [
              "\n",
              "     <input type=\"file\" id=\"files-840ae60f-da37-4086-a8a0-551fab1b01e4\" name=\"files[]\" multiple disabled\n",
              "        style=\"border:none\" />\n",
              "     <output id=\"result-840ae60f-da37-4086-a8a0-551fab1b01e4\">\n",
              "      Upload widget is only available when the cell has been executed in the\n",
              "      current browser session. Please rerun this cell to enable.\n",
              "      </output>\n",
              "      <script>// Copyright 2017 Google LLC\n",
              "//\n",
              "// Licensed under the Apache License, Version 2.0 (the \"License\");\n",
              "// you may not use this file except in compliance with the License.\n",
              "// You may obtain a copy of the License at\n",
              "//\n",
              "//      http://www.apache.org/licenses/LICENSE-2.0\n",
              "//\n",
              "// Unless required by applicable law or agreed to in writing, software\n",
              "// distributed under the License is distributed on an \"AS IS\" BASIS,\n",
              "// WITHOUT WARRANTIES OR CONDITIONS OF ANY KIND, either express or implied.\n",
              "// See the License for the specific language governing permissions and\n",
              "// limitations under the License.\n",
              "\n",
              "/**\n",
              " * @fileoverview Helpers for google.colab Python module.\n",
              " */\n",
              "(function(scope) {\n",
              "function span(text, styleAttributes = {}) {\n",
              "  const element = document.createElement('span');\n",
              "  element.textContent = text;\n",
              "  for (const key of Object.keys(styleAttributes)) {\n",
              "    element.style[key] = styleAttributes[key];\n",
              "  }\n",
              "  return element;\n",
              "}\n",
              "\n",
              "// Max number of bytes which will be uploaded at a time.\n",
              "const MAX_PAYLOAD_SIZE = 100 * 1024;\n",
              "\n",
              "function _uploadFiles(inputId, outputId) {\n",
              "  const steps = uploadFilesStep(inputId, outputId);\n",
              "  const outputElement = document.getElementById(outputId);\n",
              "  // Cache steps on the outputElement to make it available for the next call\n",
              "  // to uploadFilesContinue from Python.\n",
              "  outputElement.steps = steps;\n",
              "\n",
              "  return _uploadFilesContinue(outputId);\n",
              "}\n",
              "\n",
              "// This is roughly an async generator (not supported in the browser yet),\n",
              "// where there are multiple asynchronous steps and the Python side is going\n",
              "// to poll for completion of each step.\n",
              "// This uses a Promise to block the python side on completion of each step,\n",
              "// then passes the result of the previous step as the input to the next step.\n",
              "function _uploadFilesContinue(outputId) {\n",
              "  const outputElement = document.getElementById(outputId);\n",
              "  const steps = outputElement.steps;\n",
              "\n",
              "  const next = steps.next(outputElement.lastPromiseValue);\n",
              "  return Promise.resolve(next.value.promise).then((value) => {\n",
              "    // Cache the last promise value to make it available to the next\n",
              "    // step of the generator.\n",
              "    outputElement.lastPromiseValue = value;\n",
              "    return next.value.response;\n",
              "  });\n",
              "}\n",
              "\n",
              "/**\n",
              " * Generator function which is called between each async step of the upload\n",
              " * process.\n",
              " * @param {string} inputId Element ID of the input file picker element.\n",
              " * @param {string} outputId Element ID of the output display.\n",
              " * @return {!Iterable<!Object>} Iterable of next steps.\n",
              " */\n",
              "function* uploadFilesStep(inputId, outputId) {\n",
              "  const inputElement = document.getElementById(inputId);\n",
              "  inputElement.disabled = false;\n",
              "\n",
              "  const outputElement = document.getElementById(outputId);\n",
              "  outputElement.innerHTML = '';\n",
              "\n",
              "  const pickedPromise = new Promise((resolve) => {\n",
              "    inputElement.addEventListener('change', (e) => {\n",
              "      resolve(e.target.files);\n",
              "    });\n",
              "  });\n",
              "\n",
              "  const cancel = document.createElement('button');\n",
              "  inputElement.parentElement.appendChild(cancel);\n",
              "  cancel.textContent = 'Cancel upload';\n",
              "  const cancelPromise = new Promise((resolve) => {\n",
              "    cancel.onclick = () => {\n",
              "      resolve(null);\n",
              "    };\n",
              "  });\n",
              "\n",
              "  // Wait for the user to pick the files.\n",
              "  const files = yield {\n",
              "    promise: Promise.race([pickedPromise, cancelPromise]),\n",
              "    response: {\n",
              "      action: 'starting',\n",
              "    }\n",
              "  };\n",
              "\n",
              "  cancel.remove();\n",
              "\n",
              "  // Disable the input element since further picks are not allowed.\n",
              "  inputElement.disabled = true;\n",
              "\n",
              "  if (!files) {\n",
              "    return {\n",
              "      response: {\n",
              "        action: 'complete',\n",
              "      }\n",
              "    };\n",
              "  }\n",
              "\n",
              "  for (const file of files) {\n",
              "    const li = document.createElement('li');\n",
              "    li.append(span(file.name, {fontWeight: 'bold'}));\n",
              "    li.append(span(\n",
              "        `(${file.type || 'n/a'}) - ${file.size} bytes, ` +\n",
              "        `last modified: ${\n",
              "            file.lastModifiedDate ? file.lastModifiedDate.toLocaleDateString() :\n",
              "                                    'n/a'} - `));\n",
              "    const percent = span('0% done');\n",
              "    li.appendChild(percent);\n",
              "\n",
              "    outputElement.appendChild(li);\n",
              "\n",
              "    const fileDataPromise = new Promise((resolve) => {\n",
              "      const reader = new FileReader();\n",
              "      reader.onload = (e) => {\n",
              "        resolve(e.target.result);\n",
              "      };\n",
              "      reader.readAsArrayBuffer(file);\n",
              "    });\n",
              "    // Wait for the data to be ready.\n",
              "    let fileData = yield {\n",
              "      promise: fileDataPromise,\n",
              "      response: {\n",
              "        action: 'continue',\n",
              "      }\n",
              "    };\n",
              "\n",
              "    // Use a chunked sending to avoid message size limits. See b/62115660.\n",
              "    let position = 0;\n",
              "    do {\n",
              "      const length = Math.min(fileData.byteLength - position, MAX_PAYLOAD_SIZE);\n",
              "      const chunk = new Uint8Array(fileData, position, length);\n",
              "      position += length;\n",
              "\n",
              "      const base64 = btoa(String.fromCharCode.apply(null, chunk));\n",
              "      yield {\n",
              "        response: {\n",
              "          action: 'append',\n",
              "          file: file.name,\n",
              "          data: base64,\n",
              "        },\n",
              "      };\n",
              "\n",
              "      let percentDone = fileData.byteLength === 0 ?\n",
              "          100 :\n",
              "          Math.round((position / fileData.byteLength) * 100);\n",
              "      percent.textContent = `${percentDone}% done`;\n",
              "\n",
              "    } while (position < fileData.byteLength);\n",
              "  }\n",
              "\n",
              "  // All done.\n",
              "  yield {\n",
              "    response: {\n",
              "      action: 'complete',\n",
              "    }\n",
              "  };\n",
              "}\n",
              "\n",
              "scope.google = scope.google || {};\n",
              "scope.google.colab = scope.google.colab || {};\n",
              "scope.google.colab._files = {\n",
              "  _uploadFiles,\n",
              "  _uploadFilesContinue,\n",
              "};\n",
              "})(self);\n",
              "</script> "
            ]
          },
          "metadata": {}
        },
        {
          "output_type": "stream",
          "name": "stdout",
          "text": [
            "Saving Romio & Juliet.txt to Romio & Juliet.txt\n"
          ]
        }
      ],
      "source": [
        "import tensorflow as tf\n",
        "from tensorflow.keras.preprocessing.text import Tokenizer\n",
        "from tensorflow.keras.layers import Embedding, LSTM, Dense\n",
        "from tensorflow.keras.models import Sequential\n",
        "from tensorflow.keras.utils import to_categorical\n",
        "from tensorflow.keras.optimizers import Adam\n",
        "import pickle\n",
        "import numpy as np\n",
        "import os\n",
        "from google.colab import files\n",
        "uploaded = files.upload()"
      ]
    },
    {
      "cell_type": "markdown",
      "source": [
        "## Pre-processing the data"
      ],
      "metadata": {
        "id": "8UUgJdoCct3Q"
      }
    },
    {
      "cell_type": "code",
      "source": [
        "file = open(\"Romio & Juliet.txt\", \"r\", encoding = \"utf8\")"
      ],
      "metadata": {
        "id": "iY7Hpga4b7ay"
      },
      "execution_count": 2,
      "outputs": []
    },
    {
      "cell_type": "code",
      "source": [
        "# store file in list\n",
        "lines = []\n",
        "for i in file:\n",
        "    lines.append(i)"
      ],
      "metadata": {
        "id": "V0F4i6f4cOcL"
      },
      "execution_count": 3,
      "outputs": []
    },
    {
      "cell_type": "markdown",
      "source": [
        "This iterates each line in the file and stores it in a list"
      ],
      "metadata": {
        "id": "3GqFYC5Hc1ob"
      }
    },
    {
      "cell_type": "code",
      "source": [
        "# Convert list to string\n",
        "data = \"\"\n",
        "for i in lines:\n",
        "  data = ' '. join(lines) "
      ],
      "metadata": {
        "id": "rJS9w3r3cQph"
      },
      "execution_count": 4,
      "outputs": []
    },
    {
      "cell_type": "code",
      "source": [
        "#replace unnecessary stuff with space\n",
        "data = data.replace('\\n', '').replace('\\r', '').replace('\\ufeff', '').replace('“','').replace('”','')  \n",
        "#new line, carriage return, unicode character --> replace by space"
      ],
      "metadata": {
        "id": "XXj0oIU4cSNt"
      },
      "execution_count": 5,
      "outputs": []
    },
    {
      "cell_type": "code",
      "source": [
        "#remove unnecessary spaces \n",
        "data = data.split()\n",
        "data = ' '.join(data)"
      ],
      "metadata": {
        "id": "M3WuSsyAcZnl"
      },
      "execution_count": 6,
      "outputs": []
    },
    {
      "cell_type": "code",
      "source": [
        "data[:500]"
      ],
      "metadata": {
        "colab": {
          "base_uri": "https://localhost:8080/",
          "height": 0
        },
        "id": "nj2LPigwdGhh",
        "outputId": "a8637b8e-ab6a-4f9b-9a21-4b61f3246c28"
      },
      "execution_count": 7,
      "outputs": [
        {
          "output_type": "execute_result",
          "data": {
            "text/plain": [
              "'The Project Gutenberg eBook of Romeo and Juliet, by William Shakespeare This eBook is for the use of anyone anywhere in the United States and most other parts of the world at no cost and with almost no restrictions whatsoever. You may copy it, give it away or re-use it under the terms of the Project Gutenberg License included with this eBook or online at www.gutenberg.org. If you are not located in the United States, you will have to check the laws of the country where you are located before usi'"
            ],
            "application/vnd.google.colaboratory.intrinsic+json": {
              "type": "string"
            }
          },
          "metadata": {},
          "execution_count": 7
        }
      ]
    },
    {
      "cell_type": "code",
      "source": [
        "len(data)"
      ],
      "metadata": {
        "colab": {
          "base_uri": "https://localhost:8080/"
        },
        "id": "MgaOp7QKdHj5",
        "outputId": "f3fb753a-c4b5-4fb4-827a-04b28d867403"
      },
      "execution_count": 8,
      "outputs": [
        {
          "output_type": "execute_result",
          "data": {
            "text/plain": [
              "160221"
            ]
          },
          "metadata": {},
          "execution_count": 8
        }
      ]
    },
    {
      "cell_type": "markdown",
      "source": [
        "### Tokenization"
      ],
      "metadata": {
        "id": "npHh9sFpdT-E"
      }
    },
    {
      "cell_type": "markdown",
      "source": [
        "We don't use tokenizer from NLTK but from Tensorflow.keras because it provides us the ease to convert string to sequence and sequence to text, which we will use later."
      ],
      "metadata": {
        "id": "MyfMSCred-4x"
      }
    },
    {
      "cell_type": "code",
      "source": [
        "tokenizer = Tokenizer()\n",
        "tokenizer.fit_on_texts([data])"
      ],
      "metadata": {
        "id": "6cO1wUz9dORD"
      },
      "execution_count": 9,
      "outputs": []
    },
    {
      "cell_type": "code",
      "source": [
        "# Saving my tokenizer file using pickle\n",
        "# We will need it in the prediction function\n",
        "\n",
        "pickle.dump(tokenizer, open('token.pkl', 'wb'))"
      ],
      "metadata": {
        "id": "93upDibjdaDp"
      },
      "execution_count": 10,
      "outputs": []
    },
    {
      "cell_type": "code",
      "source": [
        "# We need to convert our string or text data into some numeric representation.\n",
        "sequence_data = tokenizer.texts_to_sequences([data])[0]"
      ],
      "metadata": {
        "id": "9F56wrFndvRz"
      },
      "execution_count": 11,
      "outputs": []
    },
    {
      "cell_type": "code",
      "source": [
        "sequence_data[:15]"
      ],
      "metadata": {
        "colab": {
          "base_uri": "https://localhost:8080/"
        },
        "id": "zgyHj3trd9wT",
        "outputId": "ef90c8e8-fc04-4664-f4c3-c4e42cef4c81"
      },
      "execution_count": 12,
      "outputs": [
        {
          "output_type": "execute_result",
          "data": {
            "text/plain": [
              "[1, 53, 49, 306, 6, 12, 2, 22, 32, 967, 783, 16, 306, 8, 18]"
            ]
          },
          "metadata": {},
          "execution_count": 12
        }
      ]
    },
    {
      "cell_type": "markdown",
      "source": [
        "The above function provides each unique element a numeric representation, hence when we find length below, it is less than the actual number of words in our data.\n",
        "\n",
        "Also, it filters out punctuations."
      ],
      "metadata": {
        "id": "gtnRtqdUehs_"
      }
    },
    {
      "cell_type": "code",
      "source": [
        "len(sequence_data), type(sequence_data)"
      ],
      "metadata": {
        "colab": {
          "base_uri": "https://localhost:8080/"
        },
        "id": "x7gBEO_XeMwg",
        "outputId": "e20a5287-ddf2-43a5-8745-26e5eefd0b81"
      },
      "execution_count": 13,
      "outputs": [
        {
          "output_type": "execute_result",
          "data": {
            "text/plain": [
              "(29352, list)"
            ]
          },
          "metadata": {},
          "execution_count": 13
        }
      ]
    },
    {
      "cell_type": "code",
      "source": [
        "vocab_size = len(tokenizer.word_index) + 1\n",
        "print(vocab_size)"
      ],
      "metadata": {
        "colab": {
          "base_uri": "https://localhost:8080/"
        },
        "id": "omg7LCEgeUvr",
        "outputId": "c433e6f9-4c9f-4ae0-a568-57dfab1ad605"
      },
      "execution_count": 14,
      "outputs": [
        {
          "output_type": "stream",
          "name": "stdout",
          "text": [
            "4282\n"
          ]
        }
      ]
    },
    {
      "cell_type": "markdown",
      "source": [
        "An index of 0 is usually reserved for padding, which is used to make all sequences of words the same length.\n",
        "\n",
        "When padding is used, the input sequences are padded with zeros (or other values) to ensure they have the same length. This is necessary because machine learning models typically require inputs of fixed size. By reserving index 0 for padding, we ensure that it is not assigned to any actual word in the text."
      ],
      "metadata": {
        "id": "8T498SlNfVyJ"
      }
    },
    {
      "cell_type": "code",
      "source": [
        "sequences = []\n",
        "\n",
        "for i in range(3, len(sequence_data)):\n",
        "    words = sequence_data[i-3:i+1]\n",
        "    sequences.append(words)\n",
        "    \n",
        "print(\"The Length of sequences are: \", len(sequences))"
      ],
      "metadata": {
        "colab": {
          "base_uri": "https://localhost:8080/"
        },
        "id": "J4SGRALIe6aI",
        "outputId": "afebe3ff-df2c-4a55-cc6e-ba5f846f63ea"
      },
      "execution_count": 15,
      "outputs": [
        {
          "output_type": "stream",
          "name": "stdout",
          "text": [
            "The Length of sequences are:  29349\n"
          ]
        }
      ]
    },
    {
      "cell_type": "markdown",
      "source": [
        "The '3' in the above code is the number of words i am using to predict the next word."
      ],
      "metadata": {
        "id": "cp0GRuAQflKA"
      }
    },
    {
      "cell_type": "markdown",
      "source": [
        "In the above code, we insert four words in the list at a time.\n",
        "\n",
        "Out of these, the first three will be the input and last will be the output."
      ],
      "metadata": {
        "id": "gPAWf9AEf3rV"
      }
    },
    {
      "cell_type": "code",
      "source": [
        "sequences = np.array(sequences)\n",
        "sequences[:10]"
      ],
      "metadata": {
        "colab": {
          "base_uri": "https://localhost:8080/"
        },
        "id": "mk-If4tXgohR",
        "outputId": "cb306920-0587-4fdd-b256-14792c2c5b2d"
      },
      "execution_count": 16,
      "outputs": [
        {
          "output_type": "execute_result",
          "data": {
            "text/plain": [
              "array([[  1,  53,  49, 306],\n",
              "       [ 53,  49, 306,   6],\n",
              "       [ 49, 306,   6,  12],\n",
              "       [306,   6,  12,   2],\n",
              "       [  6,  12,   2,  22],\n",
              "       [ 12,   2,  22,  32],\n",
              "       [  2,  22,  32, 967],\n",
              "       [ 22,  32, 967, 783],\n",
              "       [ 32, 967, 783,  16],\n",
              "       [967, 783,  16, 306]])"
            ]
          },
          "metadata": {},
          "execution_count": 16
        }
      ]
    },
    {
      "cell_type": "markdown",
      "source": [
        "Now, we will seperate our input and output:"
      ],
      "metadata": {
        "id": "ZcN0S2zfgxII"
      }
    },
    {
      "cell_type": "code",
      "source": [
        "X = []\n",
        "y = []"
      ],
      "metadata": {
        "id": "V1A2zozTfp56"
      },
      "execution_count": 17,
      "outputs": []
    },
    {
      "cell_type": "code",
      "source": [
        "for i in sequences:\n",
        "    X.append(i[0:3])\n",
        "    y.append(i[3])"
      ],
      "metadata": {
        "id": "nn5fBysPg3hD"
      },
      "execution_count": 18,
      "outputs": []
    },
    {
      "cell_type": "code",
      "source": [
        "X = np.array(X)\n",
        "y = np.array(y)"
      ],
      "metadata": {
        "id": "RNqLDpXEg5qC"
      },
      "execution_count": 19,
      "outputs": []
    },
    {
      "cell_type": "code",
      "source": [
        "X.shape, y.shape"
      ],
      "metadata": {
        "colab": {
          "base_uri": "https://localhost:8080/"
        },
        "id": "gTfqfggyg8uY",
        "outputId": "b0e3c886-a87b-4b13-fb4e-0bb9720c33cc"
      },
      "execution_count": 20,
      "outputs": [
        {
          "output_type": "execute_result",
          "data": {
            "text/plain": [
              "((29349, 3), (29349,))"
            ]
          },
          "metadata": {},
          "execution_count": 20
        }
      ]
    },
    {
      "cell_type": "code",
      "source": [
        "y = to_categorical(y, num_classes=vocab_size)\n",
        "y[:5]"
      ],
      "metadata": {
        "colab": {
          "base_uri": "https://localhost:8080/"
        },
        "id": "a1o5kCk_hCC6",
        "outputId": "c95a3544-5bed-443c-ff1b-0e8598fa9b51"
      },
      "execution_count": 21,
      "outputs": [
        {
          "output_type": "execute_result",
          "data": {
            "text/plain": [
              "array([[0., 0., 0., ..., 0., 0., 0.],\n",
              "       [0., 0., 0., ..., 0., 0., 0.],\n",
              "       [0., 0., 0., ..., 0., 0., 0.],\n",
              "       [0., 0., 1., ..., 0., 0., 0.],\n",
              "       [0., 0., 0., ..., 0., 0., 0.]], dtype=float32)"
            ]
          },
          "metadata": {},
          "execution_count": 21
        }
      ]
    },
    {
      "cell_type": "markdown",
      "source": [
        "The code snippet y = to_categorical(y, num_classes=vocab_size) converts y into a binary class matrix with vocab_size columns, where each row has a 1 in the column corresponding to the index of the correct next word and 0 in all other columns."
      ],
      "metadata": {
        "id": "KYOGFazviKnY"
      }
    },
    {
      "cell_type": "markdown",
      "source": [
        "This is necessary because the LSTM network is trained to output a probability distribution over all words in the vocabulary for the next word prediction task. The binary class matrix representation allows the network to compute the loss and optimize the model parameters using backpropagation during training."
      ],
      "metadata": {
        "id": "bQDi4c6liDrw"
      }
    },
    {
      "cell_type": "markdown",
      "source": [
        "## Creating the model"
      ],
      "metadata": {
        "id": "dInkYhCkiRPm"
      }
    },
    {
      "cell_type": "code",
      "source": [
        "model = Sequential()\n",
        "model.add(Embedding(vocab_size, 10, input_length=3))\n",
        "model.add(LSTM(1000, return_sequences=True))\n",
        "model.add(LSTM(1000))\n",
        "model.add(Dense(1000, activation=\"relu\"))\n",
        "model.add(Dense(vocab_size, activation=\"softmax\"))"
      ],
      "metadata": {
        "id": "gI-g-UgMiC9y"
      },
      "execution_count": 22,
      "outputs": []
    },
    {
      "cell_type": "markdown",
      "source": [
        "We use \"return_sequences=True\" when we intend to create another LSTM layer in continuation."
      ],
      "metadata": {
        "id": "n1Nz8c4hi5xE"
      }
    },
    {
      "cell_type": "code",
      "source": [
        "model.summary()"
      ],
      "metadata": {
        "colab": {
          "base_uri": "https://localhost:8080/"
        },
        "id": "Eovax9vhisZz",
        "outputId": "ca5bc50f-bbe5-4eed-dc5a-ba226b9c4cb1"
      },
      "execution_count": 23,
      "outputs": [
        {
          "output_type": "stream",
          "name": "stdout",
          "text": [
            "Model: \"sequential\"\n",
            "_________________________________________________________________\n",
            " Layer (type)                Output Shape              Param #   \n",
            "=================================================================\n",
            " embedding (Embedding)       (None, 3, 10)             42820     \n",
            "                                                                 \n",
            " lstm (LSTM)                 (None, 3, 1000)           4044000   \n",
            "                                                                 \n",
            " lstm_1 (LSTM)               (None, 1000)              8004000   \n",
            "                                                                 \n",
            " dense (Dense)               (None, 1000)              1001000   \n",
            "                                                                 \n",
            " dense_1 (Dense)             (None, 4282)              4286282   \n",
            "                                                                 \n",
            "=================================================================\n",
            "Total params: 17,378,102\n",
            "Trainable params: 17,378,102\n",
            "Non-trainable params: 0\n",
            "_________________________________________________________________\n"
          ]
        }
      ]
    },
    {
      "cell_type": "markdown",
      "source": [
        "## Ploting the model"
      ],
      "metadata": {
        "id": "qLQN--8ZjKVk"
      }
    },
    {
      "cell_type": "code",
      "source": [
        "from tensorflow import keras\n",
        "from keras.utils.vis_utils import plot_model"
      ],
      "metadata": {
        "id": "FmXR5B4JjAMc"
      },
      "execution_count": 24,
      "outputs": []
    },
    {
      "cell_type": "code",
      "source": [
        "keras.utils.plot_model(model, to_file='plot.png', show_layer_names=True)"
      ],
      "metadata": {
        "colab": {
          "base_uri": "https://localhost:8080/",
          "height": 0
        },
        "id": "4Nq1z4jRjc-U",
        "outputId": "067d1c8e-f441-498e-e89c-5ad7e2a7411f"
      },
      "execution_count": 25,
      "outputs": [
        {
          "output_type": "execute_result",
          "data": {
            "image/png": "[encoded data removed]",
            "text/plain": [
              "<IPython.core.display.Image object>"
            ]
          },
          "metadata": {},
          "execution_count": 25
        }
      ]
    },
    {
      "cell_type": "markdown",
      "source": [
        "## Training our model"
      ],
      "metadata": {
        "id": "n3At40zsjkW4"
      }
    },
    {
      "cell_type": "code",
      "source": [
        "from tensorflow.keras.callbacks import ModelCheckpoint"
      ],
      "metadata": {
        "id": "U5OX8jdfjdcp"
      },
      "execution_count": 26,
      "outputs": []
    },
    {
      "cell_type": "code",
      "source": [
        "checkpoint = ModelCheckpoint(\"next_words.h5\", monitor='loss', verbose=1, save_best_only=True)"
      ],
      "metadata": {
        "id": "wOxRGb3wjwgU"
      },
      "execution_count": 27,
      "outputs": []
    },
    {
      "cell_type": "markdown",
      "source": [
        "The ModelCheckpoint callback is used to save the model weights at certain intervals during training, which can be useful for resuming training if interrupted or for selecting the best model based on a validation metric. In this case, the callback is configured to save the model weights to a file named \"next_words.h5\", monitor the training loss, display verbose output, and save only the weights that result in the best loss value."
      ],
      "metadata": {
        "id": "eekORpgXkJiT"
      }
    },
    {
      "cell_type": "code",
      "source": [
        "model.compile(loss=\"categorical_crossentropy\", optimizer=Adam(learning_rate=0.001))"
      ],
      "metadata": {
        "id": "1UqaRO65j_bv"
      },
      "execution_count": 28,
      "outputs": []
    },
    {
      "cell_type": "code",
      "source": [
        "model.fit(X, y, epochs=80, batch_size=64, callbacks=[checkpoint])"
      ],
      "metadata": {
        "colab": {
          "base_uri": "https://localhost:8080/"
        },
        "id": "CpILXCzekA6M",
        "outputId": "166e3860-7579-485a-a129-ff8a68b90dc6"
      },
      "execution_count": 30,
      "outputs": [
        {
          "output_type": "stream",
          "name": "stdout",
          "text": [
            "Epoch 1/80\n",
            "456/459 [============================>.] - ETA: 0s - loss: 0.1974\n",
            "Epoch 1: loss improved from 0.21820 to 0.19826, saving model to next_words.h5\n",
            "459/459 [==============================] - 7s 15ms/step - loss: 0.1983\n",
            "Epoch 2/80\n",
            "459/459 [==============================] - ETA: 0s - loss: 0.1964\n",
            "Epoch 2: loss improved from 0.19826 to 0.19637, saving model to next_words.h5\n",
            "459/459 [==============================] - 7s 15ms/step - loss: 0.1964\n",
            "Epoch 3/80\n",
            "458/459 [============================>.] - ETA: 0s - loss: 0.2070\n",
            "Epoch 3: loss did not improve from 0.19637\n",
            "459/459 [==============================] - 6s 14ms/step - loss: 0.2072\n",
            "Epoch 4/80\n",
            "456/459 [============================>.] - ETA: 0s - loss: 0.2452\n",
            "Epoch 4: loss did not improve from 0.19637\n",
            "459/459 [==============================] - 7s 16ms/step - loss: 0.2453\n",
            "Epoch 5/80\n",
            "457/459 [============================>.] - ETA: 0s - loss: 0.2449\n",
            "Epoch 5: loss did not improve from 0.19637\n",
            "459/459 [==============================] - 6s 13ms/step - loss: 0.2456\n",
            "Epoch 6/80\n",
            "458/459 [============================>.] - ETA: 0s - loss: 0.2021\n",
            "Epoch 6: loss did not improve from 0.19637\n",
            "459/459 [==============================] - 6s 14ms/step - loss: 0.2025\n",
            "Epoch 7/80\n",
            "458/459 [============================>.] - ETA: 0s - loss: 0.1786\n",
            "Epoch 7: loss improved from 0.19637 to 0.17867, saving model to next_words.h5\n",
            "459/459 [==============================] - 7s 15ms/step - loss: 0.1787\n",
            "Epoch 8/80\n",
            "457/459 [============================>.] - ETA: 0s - loss: 0.1639\n",
            "Epoch 8: loss improved from 0.17867 to 0.16433, saving model to next_words.h5\n",
            "459/459 [==============================] - 7s 16ms/step - loss: 0.1643\n",
            "Epoch 9/80\n",
            "459/459 [==============================] - ETA: 0s - loss: 0.1642\n",
            "Epoch 9: loss improved from 0.16433 to 0.16418, saving model to next_words.h5\n",
            "459/459 [==============================] - 7s 15ms/step - loss: 0.1642\n",
            "Epoch 10/80\n",
            "458/459 [============================>.] - ETA: 0s - loss: 0.1644\n",
            "Epoch 10: loss did not improve from 0.16418\n",
            "459/459 [==============================] - 6s 14ms/step - loss: 0.1649\n",
            "Epoch 11/80\n",
            "459/459 [==============================] - ETA: 0s - loss: 0.1958\n",
            "Epoch 11: loss did not improve from 0.16418\n",
            "459/459 [==============================] - 7s 14ms/step - loss: 0.1958\n",
            "Epoch 12/80\n",
            "457/459 [============================>.] - ETA: 0s - loss: 0.2480\n",
            "Epoch 12: loss did not improve from 0.16418\n",
            "459/459 [==============================] - 6s 13ms/step - loss: 0.2483\n",
            "Epoch 13/80\n",
            "458/459 [============================>.] - ETA: 0s - loss: 0.2053\n",
            "Epoch 13: loss did not improve from 0.16418\n",
            "459/459 [==============================] - 6s 14ms/step - loss: 0.2055\n",
            "Epoch 14/80\n",
            "457/459 [============================>.] - ETA: 0s - loss: 0.1779\n",
            "Epoch 14: loss did not improve from 0.16418\n",
            "459/459 [==============================] - 6s 13ms/step - loss: 0.1778\n",
            "Epoch 15/80\n",
            "457/459 [============================>.] - ETA: 0s - loss: 0.1606\n",
            "Epoch 15: loss improved from 0.16418 to 0.16089, saving model to next_words.h5\n",
            "459/459 [==============================] - 7s 16ms/step - loss: 0.1609\n",
            "Epoch 16/80\n",
            "458/459 [============================>.] - ETA: 0s - loss: 0.1586\n",
            "Epoch 16: loss improved from 0.16089 to 0.15857, saving model to next_words.h5\n",
            "459/459 [==============================] - 7s 15ms/step - loss: 0.1586\n",
            "Epoch 17/80\n",
            "456/459 [============================>.] - ETA: 0s - loss: 0.1647\n",
            "Epoch 17: loss did not improve from 0.15857\n",
            "459/459 [==============================] - 6s 14ms/step - loss: 0.1651\n",
            "Epoch 18/80\n",
            "459/459 [==============================] - ETA: 0s - loss: 0.1905\n",
            "Epoch 18: loss did not improve from 0.15857\n",
            "459/459 [==============================] - 7s 14ms/step - loss: 0.1905\n",
            "Epoch 19/80\n",
            "456/459 [============================>.] - ETA: 0s - loss: 0.1772\n",
            "Epoch 19: loss did not improve from 0.15857\n",
            "459/459 [==============================] - 6s 14ms/step - loss: 0.1775\n",
            "Epoch 20/80\n",
            "457/459 [============================>.] - ETA: 0s - loss: 0.1604\n",
            "Epoch 20: loss did not improve from 0.15857\n",
            "459/459 [==============================] - 6s 13ms/step - loss: 0.1605\n",
            "Epoch 21/80\n",
            "457/459 [============================>.] - ETA: 0s - loss: 0.1470\n",
            "Epoch 21: loss improved from 0.15857 to 0.14694, saving model to next_words.h5\n",
            "459/459 [==============================] - 7s 15ms/step - loss: 0.1469\n",
            "Epoch 22/80\n",
            "457/459 [============================>.] - ETA: 0s - loss: 0.1447\n",
            "Epoch 22: loss improved from 0.14694 to 0.14459, saving model to next_words.h5\n",
            "459/459 [==============================] - 7s 15ms/step - loss: 0.1446\n",
            "Epoch 23/80\n",
            "459/459 [==============================] - ETA: 0s - loss: 0.1424\n",
            "Epoch 23: loss improved from 0.14459 to 0.14243, saving model to next_words.h5\n",
            "459/459 [==============================] - 7s 15ms/step - loss: 0.1424\n",
            "Epoch 24/80\n",
            "456/459 [============================>.] - ETA: 0s - loss: 0.1769\n",
            "Epoch 24: loss did not improve from 0.14243\n",
            "459/459 [==============================] - 6s 13ms/step - loss: 0.1769\n",
            "Epoch 25/80\n",
            "456/459 [============================>.] - ETA: 0s - loss: 0.2068\n",
            "Epoch 25: loss did not improve from 0.14243\n",
            "459/459 [==============================] - 6s 14ms/step - loss: 0.2070\n",
            "Epoch 26/80\n",
            "457/459 [============================>.] - ETA: 0s - loss: 0.1747\n",
            "Epoch 26: loss did not improve from 0.14243\n",
            "459/459 [==============================] - 6s 14ms/step - loss: 0.1747\n",
            "Epoch 27/80\n",
            "459/459 [==============================] - ETA: 0s - loss: 0.1552\n",
            "Epoch 27: loss did not improve from 0.14243\n",
            "459/459 [==============================] - 7s 14ms/step - loss: 0.1552\n",
            "Epoch 28/80\n",
            "457/459 [============================>.] - ETA: 0s - loss: 0.1419\n",
            "Epoch 28: loss improved from 0.14243 to 0.14194, saving model to next_words.h5\n",
            "459/459 [==============================] - 7s 15ms/step - loss: 0.1419\n",
            "Epoch 29/80\n",
            "458/459 [============================>.] - ETA: 0s - loss: 0.1304\n",
            "Epoch 29: loss improved from 0.14194 to 0.13038, saving model to next_words.h5\n",
            "459/459 [==============================] - 7s 16ms/step - loss: 0.1304\n",
            "Epoch 30/80\n",
            "459/459 [==============================] - ETA: 0s - loss: 0.1306\n",
            "Epoch 30: loss did not improve from 0.13038\n",
            "459/459 [==============================] - 6s 14ms/step - loss: 0.1306\n",
            "Epoch 31/80\n",
            "459/459 [==============================] - ETA: 0s - loss: 0.1340\n",
            "Epoch 31: loss did not improve from 0.13038\n",
            "459/459 [==============================] - 6s 14ms/step - loss: 0.1340\n",
            "Epoch 32/80\n",
            "458/459 [============================>.] - ETA: 0s - loss: 0.1742\n",
            "Epoch 32: loss did not improve from 0.13038\n",
            "459/459 [==============================] - 6s 14ms/step - loss: 0.1741\n",
            "Epoch 33/80\n",
            "459/459 [==============================] - ETA: 0s - loss: 0.2129\n",
            "Epoch 33: loss did not improve from 0.13038\n",
            "459/459 [==============================] - 6s 14ms/step - loss: 0.2129\n",
            "Epoch 34/80\n",
            "456/459 [============================>.] - ETA: 0s - loss: 0.1616\n",
            "Epoch 34: loss did not improve from 0.13038\n",
            "459/459 [==============================] - 6s 14ms/step - loss: 0.1617\n",
            "Epoch 35/80\n",
            "456/459 [============================>.] - ETA: 0s - loss: 0.1374\n",
            "Epoch 35: loss did not improve from 0.13038\n",
            "459/459 [==============================] - 6s 14ms/step - loss: 0.1375\n",
            "Epoch 36/80\n",
            "456/459 [============================>.] - ETA: 0s - loss: 0.1247\n",
            "Epoch 36: loss improved from 0.13038 to 0.12466, saving model to next_words.h5\n",
            "459/459 [==============================] - 7s 15ms/step - loss: 0.1247\n",
            "Epoch 37/80\n",
            "459/459 [==============================] - ETA: 0s - loss: 0.1191\n",
            "Epoch 37: loss improved from 0.12466 to 0.11906, saving model to next_words.h5\n",
            "459/459 [==============================] - 7s 15ms/step - loss: 0.1191\n",
            "Epoch 38/80\n",
            "458/459 [============================>.] - ETA: 0s - loss: 0.1193\n",
            "Epoch 38: loss did not improve from 0.11906\n",
            "459/459 [==============================] - 7s 15ms/step - loss: 0.1194\n",
            "Epoch 39/80\n",
            "457/459 [============================>.] - ETA: 0s - loss: 0.1200\n",
            "Epoch 39: loss did not improve from 0.11906\n",
            "459/459 [==============================] - 6s 13ms/step - loss: 0.1201\n",
            "Epoch 40/80\n",
            "459/459 [==============================] - ETA: 0s - loss: 0.1321\n",
            "Epoch 40: loss did not improve from 0.11906\n",
            "459/459 [==============================] - 6s 14ms/step - loss: 0.1321\n",
            "Epoch 41/80\n",
            "457/459 [============================>.] - ETA: 0s - loss: 0.2335\n",
            "Epoch 41: loss did not improve from 0.11906\n",
            "459/459 [==============================] - 6s 13ms/step - loss: 0.2346\n",
            "Epoch 42/80\n",
            "459/459 [==============================] - ETA: 0s - loss: 0.1892\n",
            "Epoch 42: loss did not improve from 0.11906\n",
            "459/459 [==============================] - 7s 14ms/step - loss: 0.1892\n",
            "Epoch 43/80\n",
            "457/459 [============================>.] - ETA: 0s - loss: 0.1361\n",
            "Epoch 43: loss did not improve from 0.11906\n",
            "459/459 [==============================] - 6s 13ms/step - loss: 0.1360\n",
            "Epoch 44/80\n",
            "456/459 [============================>.] - ETA: 0s - loss: 0.1178\n",
            "Epoch 44: loss improved from 0.11906 to 0.11792, saving model to next_words.h5\n",
            "459/459 [==============================] - 7s 15ms/step - loss: 0.1179\n",
            "Epoch 45/80\n",
            "457/459 [============================>.] - ETA: 0s - loss: 0.1133\n",
            "Epoch 45: loss improved from 0.11792 to 0.11331, saving model to next_words.h5\n",
            "459/459 [==============================] - 7s 15ms/step - loss: 0.1133\n",
            "Epoch 46/80\n",
            "458/459 [============================>.] - ETA: 0s - loss: 0.1175\n",
            "Epoch 46: loss did not improve from 0.11331\n",
            "459/459 [==============================] - 7s 15ms/step - loss: 0.1174\n",
            "Epoch 47/80\n",
            "459/459 [==============================] - ETA: 0s - loss: 0.1167\n",
            "Epoch 47: loss did not improve from 0.11331\n",
            "459/459 [==============================] - 6s 13ms/step - loss: 0.1167\n",
            "Epoch 48/80\n",
            "458/459 [============================>.] - ETA: 0s - loss: 0.1369\n",
            "Epoch 48: loss did not improve from 0.11331\n",
            "459/459 [==============================] - 6s 14ms/step - loss: 0.1367\n",
            "Epoch 49/80\n",
            "456/459 [============================>.] - ETA: 0s - loss: 0.1873\n",
            "Epoch 49: loss did not improve from 0.11331\n",
            "459/459 [==============================] - 6s 14ms/step - loss: 0.1870\n",
            "Epoch 50/80\n",
            "458/459 [============================>.] - ETA: 0s - loss: 0.1798\n",
            "Epoch 50: loss did not improve from 0.11331\n",
            "459/459 [==============================] - 7s 14ms/step - loss: 0.1797\n",
            "Epoch 51/80\n",
            "458/459 [============================>.] - ETA: 0s - loss: 0.1301\n",
            "Epoch 51: loss did not improve from 0.11331\n",
            "459/459 [==============================] - 6s 14ms/step - loss: 0.1301\n",
            "Epoch 52/80\n",
            "458/459 [============================>.] - ETA: 0s - loss: 0.1171\n",
            "Epoch 52: loss did not improve from 0.11331\n",
            "459/459 [==============================] - 6s 14ms/step - loss: 0.1172\n",
            "Epoch 53/80\n",
            "457/459 [============================>.] - ETA: 0s - loss: 0.1143\n",
            "Epoch 53: loss did not improve from 0.11331\n",
            "459/459 [==============================] - 6s 13ms/step - loss: 0.1142\n",
            "Epoch 54/80\n",
            "456/459 [============================>.] - ETA: 0s - loss: 0.1108\n",
            "Epoch 54: loss improved from 0.11331 to 0.11106, saving model to next_words.h5\n",
            "459/459 [==============================] - 7s 15ms/step - loss: 0.1111\n",
            "Epoch 55/80\n",
            "458/459 [============================>.] - ETA: 0s - loss: 0.1108\n",
            "Epoch 55: loss improved from 0.11106 to 0.11072, saving model to next_words.h5\n",
            "459/459 [==============================] - 7s 15ms/step - loss: 0.1107\n",
            "Epoch 56/80\n",
            "459/459 [==============================] - ETA: 0s - loss: 0.1108\n",
            "Epoch 56: loss did not improve from 0.11072\n",
            "459/459 [==============================] - 6s 14ms/step - loss: 0.1108\n",
            "Epoch 57/80\n",
            "459/459 [==============================] - ETA: 0s - loss: 0.1146\n",
            "Epoch 57: loss did not improve from 0.11072\n",
            "459/459 [==============================] - 6s 14ms/step - loss: 0.1146\n",
            "Epoch 58/80\n",
            "458/459 [============================>.] - ETA: 0s - loss: 0.2093\n",
            "Epoch 58: loss did not improve from 0.11072\n",
            "459/459 [==============================] - 6s 14ms/step - loss: 0.2093\n",
            "Epoch 59/80\n",
            "457/459 [============================>.] - ETA: 0s - loss: 0.2024\n",
            "Epoch 59: loss did not improve from 0.11072\n",
            "459/459 [==============================] - 6s 14ms/step - loss: 0.2023\n",
            "Epoch 60/80\n",
            "459/459 [==============================] - ETA: 0s - loss: 0.1276\n",
            "Epoch 60: loss did not improve from 0.11072\n",
            "459/459 [==============================] - 6s 14ms/step - loss: 0.1276\n",
            "Epoch 61/80\n",
            "458/459 [============================>.] - ETA: 0s - loss: 0.1135\n",
            "Epoch 61: loss did not improve from 0.11072\n",
            "459/459 [==============================] - 7s 15ms/step - loss: 0.1135\n",
            "Epoch 62/80\n",
            "456/459 [============================>.] - ETA: 0s - loss: 0.1055\n",
            "Epoch 62: loss improved from 0.11072 to 0.10570, saving model to next_words.h5\n",
            "459/459 [==============================] - 7s 15ms/step - loss: 0.1057\n",
            "Epoch 63/80\n",
            "459/459 [==============================] - ETA: 0s - loss: 0.1037\n",
            "Epoch 63: loss improved from 0.10570 to 0.10369, saving model to next_words.h5\n",
            "459/459 [==============================] - 7s 15ms/step - loss: 0.1037\n",
            "Epoch 64/80\n",
            "456/459 [============================>.] - ETA: 0s - loss: 0.1046\n",
            "Epoch 64: loss did not improve from 0.10369\n",
            "459/459 [==============================] - 6s 13ms/step - loss: 0.1047\n",
            "Epoch 65/80\n",
            "457/459 [============================>.] - ETA: 0s - loss: 0.1058\n",
            "Epoch 65: loss did not improve from 0.10369\n",
            "459/459 [==============================] - 6s 14ms/step - loss: 0.1056\n",
            "Epoch 66/80\n",
            "457/459 [============================>.] - ETA: 0s - loss: 0.1142\n",
            "Epoch 66: loss did not improve from 0.10369\n",
            "459/459 [==============================] - 6s 13ms/step - loss: 0.1143\n",
            "Epoch 67/80\n",
            "459/459 [==============================] - ETA: 0s - loss: 0.2259\n",
            "Epoch 67: loss did not improve from 0.10369\n",
            "459/459 [==============================] - 6s 14ms/step - loss: 0.2259\n",
            "Epoch 68/80\n",
            "457/459 [============================>.] - ETA: 0s - loss: 0.1687\n",
            "Epoch 68: loss did not improve from 0.10369\n",
            "459/459 [==============================] - 6s 13ms/step - loss: 0.1683\n",
            "Epoch 69/80\n",
            "459/459 [==============================] - ETA: 0s - loss: 0.1201\n",
            "Epoch 69: loss did not improve from 0.10369\n",
            "459/459 [==============================] - 6s 14ms/step - loss: 0.1201\n",
            "Epoch 70/80\n",
            "458/459 [============================>.] - ETA: 0s - loss: 0.1059\n",
            "Epoch 70: loss did not improve from 0.10369\n",
            "459/459 [==============================] - 6s 13ms/step - loss: 0.1059\n",
            "Epoch 71/80\n",
            "457/459 [============================>.] - ETA: 0s - loss: 0.1004\n",
            "Epoch 71: loss improved from 0.10369 to 0.10043, saving model to next_words.h5\n",
            "459/459 [==============================] - 7s 15ms/step - loss: 0.1004\n",
            "Epoch 72/80\n",
            "457/459 [============================>.] - ETA: 0s - loss: 0.0996\n",
            "Epoch 72: loss improved from 0.10043 to 0.09981, saving model to next_words.h5\n",
            "459/459 [==============================] - 7s 15ms/step - loss: 0.0998\n",
            "Epoch 73/80\n",
            "459/459 [==============================] - ETA: 0s - loss: 0.1009\n",
            "Epoch 73: loss did not improve from 0.09981\n",
            "459/459 [==============================] - 7s 15ms/step - loss: 0.1009\n",
            "Epoch 74/80\n",
            "459/459 [==============================] - ETA: 0s - loss: 0.1020\n",
            "Epoch 74: loss did not improve from 0.09981\n",
            "459/459 [==============================] - 6s 14ms/step - loss: 0.1020\n",
            "Epoch 75/80\n",
            "459/459 [==============================] - ETA: 0s - loss: 0.1059\n",
            "Epoch 75: loss did not improve from 0.09981\n",
            "459/459 [==============================] - 7s 14ms/step - loss: 0.1059\n",
            "Epoch 76/80\n",
            "457/459 [============================>.] - ETA: 0s - loss: 0.2225\n",
            "Epoch 76: loss did not improve from 0.09981\n",
            "459/459 [==============================] - 6s 13ms/step - loss: 0.2227\n",
            "Epoch 77/80\n",
            "458/459 [============================>.] - ETA: 0s - loss: 0.1745\n",
            "Epoch 77: loss did not improve from 0.09981\n",
            "459/459 [==============================] - 6s 14ms/step - loss: 0.1744\n",
            "Epoch 78/80\n",
            "457/459 [============================>.] - ETA: 0s - loss: 0.1177\n",
            "Epoch 78: loss did not improve from 0.09981\n",
            "459/459 [==============================] - 6s 13ms/step - loss: 0.1178\n",
            "Epoch 79/80\n",
            "458/459 [============================>.] - ETA: 0s - loss: 0.1023\n",
            "Epoch 79: loss did not improve from 0.09981\n",
            "459/459 [==============================] - 7s 14ms/step - loss: 0.1023\n",
            "Epoch 80/80\n",
            "457/459 [============================>.] - ETA: 0s - loss: 0.0987\n",
            "Epoch 80: loss improved from 0.09981 to 0.09885, saving model to next_words.h5\n",
            "459/459 [==============================] - 7s 15ms/step - loss: 0.0989\n"
          ]
        },
        {
          "output_type": "execute_result",
          "data": {
            "text/plain": [
              "<keras.callbacks.History at 0x7f889caec700>"
            ]
          },
          "metadata": {},
          "execution_count": 30
        }
      ]
    },
    {
      "cell_type": "markdown",
      "source": [
        "## Prediction"
      ],
      "metadata": {
        "id": "lAd-WpJEkzG6"
      }
    },
    {
      "cell_type": "code",
      "source": [
        "from tensorflow.keras.models import load_model\n",
        "import numpy as np\n",
        "import pickle"
      ],
      "metadata": {
        "id": "8VzXBugIkZE0"
      },
      "execution_count": 31,
      "outputs": []
    },
    {
      "cell_type": "code",
      "source": [
        "# Load the model and tokenizer\n",
        "model = load_model('next_words.h5')\n",
        "tokenizer = pickle.load(open('token.pkl', 'rb'))"
      ],
      "metadata": {
        "id": "thuzG3Zmk38L"
      },
      "execution_count": 32,
      "outputs": []
    },
    {
      "cell_type": "code",
      "source": [
        "def Predict_Next_Words(model, tokenizer, text):\n",
        "\n",
        "  sequence = tokenizer.texts_to_sequences([text])\n",
        "  sequence = np.array(sequence)\n",
        "  preds = np.argmax(model.predict(sequence))\n",
        "  predicted_word = \"\"\n",
        "  \n",
        "  for key, value in tokenizer.word_index.items():\n",
        "      if value == preds:\n",
        "          predicted_word = key\n",
        "          break\n",
        "  \n",
        "  print(predicted_word)\n",
        "  return predicted_word"
      ],
      "metadata": {
        "id": "NVIFpSf_k4BJ"
      },
      "execution_count": 33,
      "outputs": []
    },
    {
      "cell_type": "code",
      "source": [
        "while(True):\n",
        "  text = input(\"Enter your line: \")\n",
        "  \n",
        "  if text == \"0\":\n",
        "      print(\"Execution completed.....\")\n",
        "      break\n",
        "  \n",
        "  else:\n",
        "      try:\n",
        "          text = text.split(\" \")\n",
        "          text = text[-3:]\n",
        "          print(text)\n",
        "        \n",
        "          Predict_Next_Words(model, tokenizer, text)\n",
        "          \n",
        "      except Exception as e:\n",
        "        print(\"Error occurred: \",e)\n",
        "        continue"
      ],
      "metadata": {
        "colab": {
          "base_uri": "https://localhost:8080/"
        },
        "id": "6OS62-wtk4B7",
        "outputId": "21e514c7-91fb-447b-9787-12b7e8cdd58e"
      },
      "execution_count": 34,
      "outputs": [
        {
          "output_type": "stream",
          "name": "stdout",
          "text": [
            "Enter your line: are you the\n",
            "['are', 'you', 'the']\n",
            "1/1 [==============================] - 1s 680ms/step\n",
            "lark\n",
            "Enter your line: Can you please\n",
            "['Can', 'you', 'please']\n",
            "1/1 [==============================] - 0s 19ms/step\n",
            "see\n",
            "Enter your line: I definitly mean\n",
            "['I', 'definitly', 'mean']\n",
            "1/1 [==============================] - 1s 608ms/step\n",
            "to\n",
            "Enter your line: romeo fo not\n",
            "['romeo', 'fo', 'not']\n",
            "1/1 [==============================] - 0s 24ms/step\n",
            "i\n",
            "Enter your line: romeo do not\n",
            "['romeo', 'do', 'not']\n",
            "1/1 [==============================] - 0s 27ms/step\n",
            "know\n",
            "Enter your line: do not know\n",
            "['do', 'not', 'know']\n",
            "1/1 [==============================] - 0s 27ms/step\n",
            "the\n",
            "Enter your line: not know thw\n",
            "['not', 'know', 'thw']\n",
            "1/1 [==============================] - 0s 27ms/step\n",
            "the\n",
            "Enter your line: not know the\n",
            "['not', 'know', 'the']\n",
            "1/1 [==============================] - 0s 18ms/step\n",
            "lady’s\n",
            "Enter your line: know thw lady's\n",
            "['know', 'thw', \"lady's\"]\n",
            "1/1 [==============================] - 0s 20ms/step\n",
            "it\n",
            "Enter your line: \n",
            "['']\n",
            "Error occurred:  in user code:\n",
            "\n",
            "    File \"/usr/local/lib/python3.9/dist-packages/keras/engine/training.py\", line 2169, in predict_function  *\n",
            "        return step_function(self, iterator)\n",
            "    File \"/usr/local/lib/python3.9/dist-packages/keras/engine/training.py\", line 2155, in step_function  **\n",
            "        outputs = model.distribute_strategy.run(run_step, args=(data,))\n",
            "    File \"/usr/local/lib/python3.9/dist-packages/keras/engine/training.py\", line 2143, in run_step  **\n",
            "        outputs = model.predict_step(data)\n",
            "    File \"/usr/local/lib/python3.9/dist-packages/keras/engine/training.py\", line 2111, in predict_step\n",
            "        return self(x, training=False)\n",
            "    File \"/usr/local/lib/python3.9/dist-packages/keras/utils/traceback_utils.py\", line 70, in error_handler\n",
            "        raise e.with_traceback(filtered_tb) from None\n",
            "    File \"/usr/local/lib/python3.9/dist-packages/keras/engine/input_spec.py\", line 298, in assert_input_compatibility\n",
            "        raise ValueError(\n",
            "\n",
            "    ValueError: Input 0 of layer \"sequential\" is incompatible with the layer: expected shape=(None, 3), found shape=(None, 0)\n",
            "\n",
            "Enter your line: 0\n",
            "Execution completed.....\n"
          ]
        }
      ]
    }
  ]
}