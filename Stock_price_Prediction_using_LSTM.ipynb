{
  "nbformat": 4,
  "nbformat_minor": 0,
  "metadata": {
    "colab": {
      "provenance": []
    },
    "kernelspec": {
      "name": "python3",
      "display_name": "Python 3"
    },
    "language_info": {
      "name": "python"
    }
  },
  "cells": [
    {
      "cell_type": "markdown",
      "source": [
        "#STEPS:\n",
        "\n",
        "1. Collect the data\n",
        "2. Preprocess the data (LSTM is sensitive to scaling)\n",
        "3. Divide into train and test\n",
        "4. Create a stacked LSTM model\n",
        "5. Predict the test data and plot the output\n",
        "6. Predict future 30 days and plot the output"
      ],
      "metadata": {
        "id": "jNBOvvQsCsoS"
      }
    },
    {
      "cell_type": "markdown",
      "source": [
        "### Collecting the data"
      ],
      "metadata": {
        "id": "ug2CP7AEDGXP"
      }
    },
    {
      "cell_type": "code",
      "execution_count": 1,
      "metadata": {
        "id": "Fd-7g0-D7zfr"
      },
      "outputs": [],
      "source": [
        "import os, time\n",
        "import tensorflow as tf\n",
        "import tensorflow_hub as hub\n",
        "import matplotlib.pyplot as plt\n",
        "from six import BytesIO\n",
        "import numpy as np\n",
        "import pandas as pd\n",
        "from PIL import Image, ImageColor, ImageDraw, ImageFont, ImageOps\n",
        "import seaborn as sns\n",
        "import plotly.express as px"
      ]
    },
    {
      "cell_type": "code",
      "source": [
        "import io\n",
        "from google.colab import files"
      ],
      "metadata": {
        "id": "D-X96Rhg-hQU"
      },
      "execution_count": 2,
      "outputs": []
    },
    {
      "cell_type": "code",
      "source": [
        "! pip install -q kaggle\n",
        "files.upload()\n",
        "! mkdir ~/.kaggle\n",
        "! cp kaggle.json ~/.kaggle/\n",
        "! kaggle datasets download -d jainilcoder/netflix-stock-price-prediction"
      ],
      "metadata": {
        "colab": {
          "base_uri": "https://localhost:8080/",
          "height": 162
        },
        "id": "sIXiTode-jcj",
        "outputId": "577be3f4-b079-4ecb-b636-5403a0ba119d"
      },
      "execution_count": 3,
      "outputs": [
        {
          "output_type": "display_data",
          "data": {
            "text/plain": [
              "<IPython.core.display.HTML object>"
            ],
            "text/html": [
              "\n",
              "     <input type=\"file\" id=\"files-dee38724-abfd-4ccd-a270-f30c1cec61fe\" name=\"files[]\" multiple disabled\n",
              "        style=\"border:none\" />\n",
              "     <output id=\"result-dee38724-abfd-4ccd-a270-f30c1cec61fe\">\n",
              "      Upload widget is only available when the cell has been executed in the\n",
              "      current browser session. Please rerun this cell to enable.\n",
              "      </output>\n",
              "      <script>// Copyright 2017 Google LLC\n",
              "//\n",
              "// Licensed under the Apache License, Version 2.0 (the \"License\");\n",
              "// you may not use this file except in compliance with the License.\n",
              "// You may obtain a copy of the License at\n",
              "//\n",
              "//      http://www.apache.org/licenses/LICENSE-2.0\n",
              "//\n",
              "// Unless required by applicable law or agreed to in writing, software\n",
              "// distributed under the License is distributed on an \"AS IS\" BASIS,\n",
              "// WITHOUT WARRANTIES OR CONDITIONS OF ANY KIND, either express or implied.\n",
              "// See the License for the specific language governing permissions and\n",
              "// limitations under the License.\n",
              "\n",
              "/**\n",
              " * @fileoverview Helpers for google.colab Python module.\n",
              " */\n",
              "(function(scope) {\n",
              "function span(text, styleAttributes = {}) {\n",
              "  const element = document.createElement('span');\n",
              "  element.textContent = text;\n",
              "  for (const key of Object.keys(styleAttributes)) {\n",
              "    element.style[key] = styleAttributes[key];\n",
              "  }\n",
              "  return element;\n",
              "}\n",
              "\n",
              "// Max number of bytes which will be uploaded at a time.\n",
              "const MAX_PAYLOAD_SIZE = 100 * 1024;\n",
              "\n",
              "function _uploadFiles(inputId, outputId) {\n",
              "  const steps = uploadFilesStep(inputId, outputId);\n",
              "  const outputElement = document.getElementById(outputId);\n",
              "  // Cache steps on the outputElement to make it available for the next call\n",
              "  // to uploadFilesContinue from Python.\n",
              "  outputElement.steps = steps;\n",
              "\n",
              "  return _uploadFilesContinue(outputId);\n",
              "}\n",
              "\n",
              "// This is roughly an async generator (not supported in the browser yet),\n",
              "// where there are multiple asynchronous steps and the Python side is going\n",
              "// to poll for completion of each step.\n",
              "// This uses a Promise to block the python side on completion of each step,\n",
              "// then passes the result of the previous step as the input to the next step.\n",
              "function _uploadFilesContinue(outputId) {\n",
              "  const outputElement = document.getElementById(outputId);\n",
              "  const steps = outputElement.steps;\n",
              "\n",
              "  const next = steps.next(outputElement.lastPromiseValue);\n",
              "  return Promise.resolve(next.value.promise).then((value) => {\n",
              "    // Cache the last promise value to make it available to the next\n",
              "    // step of the generator.\n",
              "    outputElement.lastPromiseValue = value;\n",
              "    return next.value.response;\n",
              "  });\n",
              "}\n",
              "\n",
              "/**\n",
              " * Generator function which is called between each async step of the upload\n",
              " * process.\n",
              " * @param {string} inputId Element ID of the input file picker element.\n",
              " * @param {string} outputId Element ID of the output display.\n",
              " * @return {!Iterable<!Object>} Iterable of next steps.\n",
              " */\n",
              "function* uploadFilesStep(inputId, outputId) {\n",
              "  const inputElement = document.getElementById(inputId);\n",
              "  inputElement.disabled = false;\n",
              "\n",
              "  const outputElement = document.getElementById(outputId);\n",
              "  outputElement.innerHTML = '';\n",
              "\n",
              "  const pickedPromise = new Promise((resolve) => {\n",
              "    inputElement.addEventListener('change', (e) => {\n",
              "      resolve(e.target.files);\n",
              "    });\n",
              "  });\n",
              "\n",
              "  const cancel = document.createElement('button');\n",
              "  inputElement.parentElement.appendChild(cancel);\n",
              "  cancel.textContent = 'Cancel upload';\n",
              "  const cancelPromise = new Promise((resolve) => {\n",
              "    cancel.onclick = () => {\n",
              "      resolve(null);\n",
              "    };\n",
              "  });\n",
              "\n",
              "  // Wait for the user to pick the files.\n",
              "  const files = yield {\n",
              "    promise: Promise.race([pickedPromise, cancelPromise]),\n",
              "    response: {\n",
              "      action: 'starting',\n",
              "    }\n",
              "  };\n",
              "\n",
              "  cancel.remove();\n",
              "\n",
              "  // Disable the input element since further picks are not allowed.\n",
              "  inputElement.disabled = true;\n",
              "\n",
              "  if (!files) {\n",
              "    return {\n",
              "      response: {\n",
              "        action: 'complete',\n",
              "      }\n",
              "    };\n",
              "  }\n",
              "\n",
              "  for (const file of files) {\n",
              "    const li = document.createElement('li');\n",
              "    li.append(span(file.name, {fontWeight: 'bold'}));\n",
              "    li.append(span(\n",
              "        `(${file.type || 'n/a'}) - ${file.size} bytes, ` +\n",
              "        `last modified: ${\n",
              "            file.lastModifiedDate ? file.lastModifiedDate.toLocaleDateString() :\n",
              "                                    'n/a'} - `));\n",
              "    const percent = span('0% done');\n",
              "    li.appendChild(percent);\n",
              "\n",
              "    outputElement.appendChild(li);\n",
              "\n",
              "    const fileDataPromise = new Promise((resolve) => {\n",
              "      const reader = new FileReader();\n",
              "      reader.onload = (e) => {\n",
              "        resolve(e.target.result);\n",
              "      };\n",
              "      reader.readAsArrayBuffer(file);\n",
              "    });\n",
              "    // Wait for the data to be ready.\n",
              "    let fileData = yield {\n",
              "      promise: fileDataPromise,\n",
              "      response: {\n",
              "        action: 'continue',\n",
              "      }\n",
              "    };\n",
              "\n",
              "    // Use a chunked sending to avoid message size limits. See b/62115660.\n",
              "    let position = 0;\n",
              "    do {\n",
              "      const length = Math.min(fileData.byteLength - position, MAX_PAYLOAD_SIZE);\n",
              "      const chunk = new Uint8Array(fileData, position, length);\n",
              "      position += length;\n",
              "\n",
              "      const base64 = btoa(String.fromCharCode.apply(null, chunk));\n",
              "      yield {\n",
              "        response: {\n",
              "          action: 'append',\n",
              "          file: file.name,\n",
              "          data: base64,\n",
              "        },\n",
              "      };\n",
              "\n",
              "      let percentDone = fileData.byteLength === 0 ?\n",
              "          100 :\n",
              "          Math.round((position / fileData.byteLength) * 100);\n",
              "      percent.textContent = `${percentDone}% done`;\n",
              "\n",
              "    } while (position < fileData.byteLength);\n",
              "  }\n",
              "\n",
              "  // All done.\n",
              "  yield {\n",
              "    response: {\n",
              "      action: 'complete',\n",
              "    }\n",
              "  };\n",
              "}\n",
              "\n",
              "scope.google = scope.google || {};\n",
              "scope.google.colab = scope.google.colab || {};\n",
              "scope.google.colab._files = {\n",
              "  _uploadFiles,\n",
              "  _uploadFilesContinue,\n",
              "};\n",
              "})(self);\n",
              "</script> "
            ]
          },
          "metadata": {}
        },
        {
          "output_type": "stream",
          "name": "stdout",
          "text": [
            "Saving kaggle.json to kaggle.json\n",
            "Warning: Your Kaggle API key is readable by other users on this system! To fix this, you can run 'chmod 600 /root/.kaggle/kaggle.json'\n",
            "Downloading netflix-stock-price-prediction.zip to /content\n",
            "  0% 0.00/20.9k [00:00<?, ?B/s]\n",
            "100% 20.9k/20.9k [00:00<00:00, 15.8MB/s]\n"
          ]
        }
      ]
    },
    {
      "cell_type": "code",
      "source": [
        "! unzip netflix-stock-price-prediction.zip"
      ],
      "metadata": {
        "colab": {
          "base_uri": "https://localhost:8080/"
        },
        "id": "zNuIIt-L-p1D",
        "outputId": "15109461-89a2-44b6-9acd-b8b4f87e5602"
      },
      "execution_count": 4,
      "outputs": [
        {
          "output_type": "stream",
          "name": "stdout",
          "text": [
            "Archive:  netflix-stock-price-prediction.zip\n",
            "  inflating: NFLX.csv                \n"
          ]
        }
      ]
    },
    {
      "cell_type": "code",
      "source": [
        "df = pd.read_csv('NFLX.csv')"
      ],
      "metadata": {
        "id": "rhJc-fV5-0di"
      },
      "execution_count": 5,
      "outputs": []
    },
    {
      "cell_type": "code",
      "source": [
        "df"
      ],
      "metadata": {
        "colab": {
          "base_uri": "https://localhost:8080/",
          "height": 641
        },
        "id": "EByValz0-7ES",
        "outputId": "1825ec9e-2bde-44bc-e522-980eac9a1a56"
      },
      "execution_count": 6,
      "outputs": [
        {
          "output_type": "execute_result",
          "data": {
            "text/plain": [
              "            Date        Open        High         Low       Close   Adj Close  \\\n",
              "0     2018-02-05  262.000000  267.899994  250.029999  254.259995  254.259995   \n",
              "1     2018-02-06  247.699997  266.700012  245.000000  265.720001  265.720001   \n",
              "2     2018-02-07  266.579987  272.450012  264.329987  264.559998  264.559998   \n",
              "3     2018-02-08  267.079987  267.619995  250.000000  250.100006  250.100006   \n",
              "4     2018-02-09  253.850006  255.800003  236.110001  249.470001  249.470001   \n",
              "...          ...         ...         ...         ...         ...         ...   \n",
              "1004  2022-01-31  401.970001  427.700012  398.200012  427.140015  427.140015   \n",
              "1005  2022-02-01  432.959991  458.480011  425.540009  457.130005  457.130005   \n",
              "1006  2022-02-02  448.250000  451.980011  426.480011  429.480011  429.480011   \n",
              "1007  2022-02-03  421.440002  429.260010  404.279999  405.600006  405.600006   \n",
              "1008  2022-02-04  407.309998  412.769989  396.640015  410.170013  410.170013   \n",
              "\n",
              "        Volume  \n",
              "0     11896100  \n",
              "1     12595800  \n",
              "2      8981500  \n",
              "3      9306700  \n",
              "4     16906900  \n",
              "...        ...  \n",
              "1004  20047500  \n",
              "1005  22542300  \n",
              "1006  14346000  \n",
              "1007   9905200  \n",
              "1008   7782400  \n",
              "\n",
              "[1009 rows x 7 columns]"
            ],
            "text/html": [
              "\n",
              "  <div id=\"df-25577147-822b-44a0-83b4-787d0da66dc4\">\n",
              "    <div class=\"colab-df-container\">\n",
              "      <div>\n",
              "<style scoped>\n",
              "    .dataframe tbody tr th:only-of-type {\n",
              "        vertical-align: middle;\n",
              "    }\n",
              "\n",
              "    .dataframe tbody tr th {\n",
              "        vertical-align: top;\n",
              "    }\n",
              "\n",
              "    .dataframe thead th {\n",
              "        text-align: right;\n",
              "    }\n",
              "</style>\n",
              "<table border=\"1\" class=\"dataframe\">\n",
              "  <thead>\n",
              "    <tr style=\"text-align: right;\">\n",
              "      <th></th>\n",
              "      <th>Date</th>\n",
              "      <th>Open</th>\n",
              "      <th>High</th>\n",
              "      <th>Low</th>\n",
              "      <th>Close</th>\n",
              "      <th>Adj Close</th>\n",
              "      <th>Volume</th>\n",
              "    </tr>\n",
              "  </thead>\n",
              "  <tbody>\n",
              "    <tr>\n",
              "      <th>0</th>\n",
              "      <td>2018-02-05</td>\n",
              "      <td>262.000000</td>\n",
              "      <td>267.899994</td>\n",
              "      <td>250.029999</td>\n",
              "      <td>254.259995</td>\n",
              "      <td>254.259995</td>\n",
              "      <td>11896100</td>\n",
              "    </tr>\n",
              "    <tr>\n",
              "      <th>1</th>\n",
              "      <td>2018-02-06</td>\n",
              "      <td>247.699997</td>\n",
              "      <td>266.700012</td>\n",
              "      <td>245.000000</td>\n",
              "      <td>265.720001</td>\n",
              "      <td>265.720001</td>\n",
              "      <td>12595800</td>\n",
              "    </tr>\n",
              "    <tr>\n",
              "      <th>2</th>\n",
              "      <td>2018-02-07</td>\n",
              "      <td>266.579987</td>\n",
              "      <td>272.450012</td>\n",
              "      <td>264.329987</td>\n",
              "      <td>264.559998</td>\n",
              "      <td>264.559998</td>\n",
              "      <td>8981500</td>\n",
              "    </tr>\n",
              "    <tr>\n",
              "      <th>3</th>\n",
              "      <td>2018-02-08</td>\n",
              "      <td>267.079987</td>\n",
              "      <td>267.619995</td>\n",
              "      <td>250.000000</td>\n",
              "      <td>250.100006</td>\n",
              "      <td>250.100006</td>\n",
              "      <td>9306700</td>\n",
              "    </tr>\n",
              "    <tr>\n",
              "      <th>4</th>\n",
              "      <td>2018-02-09</td>\n",
              "      <td>253.850006</td>\n",
              "      <td>255.800003</td>\n",
              "      <td>236.110001</td>\n",
              "      <td>249.470001</td>\n",
              "      <td>249.470001</td>\n",
              "      <td>16906900</td>\n",
              "    </tr>\n",
              "    <tr>\n",
              "      <th>...</th>\n",
              "      <td>...</td>\n",
              "      <td>...</td>\n",
              "      <td>...</td>\n",
              "      <td>...</td>\n",
              "      <td>...</td>\n",
              "      <td>...</td>\n",
              "      <td>...</td>\n",
              "    </tr>\n",
              "    <tr>\n",
              "      <th>1004</th>\n",
              "      <td>2022-01-31</td>\n",
              "      <td>401.970001</td>\n",
              "      <td>427.700012</td>\n",
              "      <td>398.200012</td>\n",
              "      <td>427.140015</td>\n",
              "      <td>427.140015</td>\n",
              "      <td>20047500</td>\n",
              "    </tr>\n",
              "    <tr>\n",
              "      <th>1005</th>\n",
              "      <td>2022-02-01</td>\n",
              "      <td>432.959991</td>\n",
              "      <td>458.480011</td>\n",
              "      <td>425.540009</td>\n",
              "      <td>457.130005</td>\n",
              "      <td>457.130005</td>\n",
              "      <td>22542300</td>\n",
              "    </tr>\n",
              "    <tr>\n",
              "      <th>1006</th>\n",
              "      <td>2022-02-02</td>\n",
              "      <td>448.250000</td>\n",
              "      <td>451.980011</td>\n",
              "      <td>426.480011</td>\n",
              "      <td>429.480011</td>\n",
              "      <td>429.480011</td>\n",
              "      <td>14346000</td>\n",
              "    </tr>\n",
              "    <tr>\n",
              "      <th>1007</th>\n",
              "      <td>2022-02-03</td>\n",
              "      <td>421.440002</td>\n",
              "      <td>429.260010</td>\n",
              "      <td>404.279999</td>\n",
              "      <td>405.600006</td>\n",
              "      <td>405.600006</td>\n",
              "      <td>9905200</td>\n",
              "    </tr>\n",
              "    <tr>\n",
              "      <th>1008</th>\n",
              "      <td>2022-02-04</td>\n",
              "      <td>407.309998</td>\n",
              "      <td>412.769989</td>\n",
              "      <td>396.640015</td>\n",
              "      <td>410.170013</td>\n",
              "      <td>410.170013</td>\n",
              "      <td>7782400</td>\n",
              "    </tr>\n",
              "  </tbody>\n",
              "</table>\n",
              "<p>1009 rows × 7 columns</p>\n",
              "</div>\n",
              "      <button class=\"colab-df-convert\" onclick=\"convertToInteractive('df-25577147-822b-44a0-83b4-787d0da66dc4')\"\n",
              "              title=\"Convert this dataframe to an interactive table.\"\n",
              "              style=\"display:none;\">\n",
              "        \n",
              "  <svg xmlns=\"http://www.w3.org/2000/svg\" height=\"24px\"viewBox=\"0 0 24 24\"\n",
              "       width=\"24px\">\n",
              "    <path d=\"M0 0h24v24H0V0z\" fill=\"none\"/>\n",
              "    <path d=\"M18.56 5.44l.94 2.06.94-2.06 2.06-.94-2.06-.94-.94-2.06-.94 2.06-2.06.94zm-11 1L8.5 8.5l.94-2.06 2.06-.94-2.06-.94L8.5 2.5l-.94 2.06-2.06.94zm10 10l.94 2.06.94-2.06 2.06-.94-2.06-.94-.94-2.06-.94 2.06-2.06.94z\"/><path d=\"M17.41 7.96l-1.37-1.37c-.4-.4-.92-.59-1.43-.59-.52 0-1.04.2-1.43.59L10.3 9.45l-7.72 7.72c-.78.78-.78 2.05 0 2.83L4 21.41c.39.39.9.59 1.41.59.51 0 1.02-.2 1.41-.59l7.78-7.78 2.81-2.81c.8-.78.8-2.07 0-2.86zM5.41 20L4 18.59l7.72-7.72 1.47 1.35L5.41 20z\"/>\n",
              "  </svg>\n",
              "      </button>\n",
              "      \n",
              "  <style>\n",
              "    .colab-df-container {\n",
              "      display:flex;\n",
              "      flex-wrap:wrap;\n",
              "      gap: 12px;\n",
              "    }\n",
              "\n",
              "    .colab-df-convert {\n",
              "      background-color: #E8F0FE;\n",
              "      border: none;\n",
              "      border-radius: 50%;\n",
              "      cursor: pointer;\n",
              "      display: none;\n",
              "      fill: #1967D2;\n",
              "      height: 32px;\n",
              "      padding: 0 0 0 0;\n",
              "      width: 32px;\n",
              "    }\n",
              "\n",
              "    .colab-df-convert:hover {\n",
              "      background-color: #E2EBFA;\n",
              "      box-shadow: 0px 1px 2px rgba(60, 64, 67, 0.3), 0px 1px 3px 1px rgba(60, 64, 67, 0.15);\n",
              "      fill: #174EA6;\n",
              "    }\n",
              "\n",
              "    [theme=dark] .colab-df-convert {\n",
              "      background-color: #3B4455;\n",
              "      fill: #D2E3FC;\n",
              "    }\n",
              "\n",
              "    [theme=dark] .colab-df-convert:hover {\n",
              "      background-color: #434B5C;\n",
              "      box-shadow: 0px 1px 3px 1px rgba(0, 0, 0, 0.15);\n",
              "      filter: drop-shadow(0px 1px 2px rgba(0, 0, 0, 0.3));\n",
              "      fill: #FFFFFF;\n",
              "    }\n",
              "  </style>\n",
              "\n",
              "      <script>\n",
              "        const buttonEl =\n",
              "          document.querySelector('#df-25577147-822b-44a0-83b4-787d0da66dc4 button.colab-df-convert');\n",
              "        buttonEl.style.display =\n",
              "          google.colab.kernel.accessAllowed ? 'block' : 'none';\n",
              "\n",
              "        async function convertToInteractive(key) {\n",
              "          const element = document.querySelector('#df-25577147-822b-44a0-83b4-787d0da66dc4');\n",
              "          const dataTable =\n",
              "            await google.colab.kernel.invokeFunction('convertToInteractive',\n",
              "                                                     [key], {});\n",
              "          if (!dataTable) return;\n",
              "\n",
              "          const docLinkHtml = 'Like what you see? Visit the ' +\n",
              "            '<a target=\"_blank\" href=https://colab.research.google.com/notebooks/data_table.ipynb>data table notebook</a>'\n",
              "            + ' to learn more about interactive tables.';\n",
              "          element.innerHTML = '';\n",
              "          dataTable['output_type'] = 'display_data';\n",
              "          await google.colab.output.renderOutput(dataTable, element);\n",
              "          const docLink = document.createElement('div');\n",
              "          docLink.innerHTML = docLinkHtml;\n",
              "          element.appendChild(docLink);\n",
              "        }\n",
              "      </script>\n",
              "    </div>\n",
              "  </div>\n",
              "  "
            ]
          },
          "metadata": {},
          "execution_count": 6
        }
      ]
    },
    {
      "cell_type": "code",
      "source": [
        "df.head()"
      ],
      "metadata": {
        "colab": {
          "base_uri": "https://localhost:8080/",
          "height": 250
        },
        "id": "hrF2FwR0-713",
        "outputId": "d1fe6918-a09e-4b6e-c5d8-0296110b119d"
      },
      "execution_count": 7,
      "outputs": [
        {
          "output_type": "execute_result",
          "data": {
            "text/plain": [
              "         Date        Open        High         Low       Close   Adj Close  \\\n",
              "0  2018-02-05  262.000000  267.899994  250.029999  254.259995  254.259995   \n",
              "1  2018-02-06  247.699997  266.700012  245.000000  265.720001  265.720001   \n",
              "2  2018-02-07  266.579987  272.450012  264.329987  264.559998  264.559998   \n",
              "3  2018-02-08  267.079987  267.619995  250.000000  250.100006  250.100006   \n",
              "4  2018-02-09  253.850006  255.800003  236.110001  249.470001  249.470001   \n",
              "\n",
              "     Volume  \n",
              "0  11896100  \n",
              "1  12595800  \n",
              "2   8981500  \n",
              "3   9306700  \n",
              "4  16906900  "
            ],
            "text/html": [
              "\n",
              "  <div id=\"df-cec031b9-2bdc-4528-8621-a31ce8900451\">\n",
              "    <div class=\"colab-df-container\">\n",
              "      <div>\n",
              "<style scoped>\n",
              "    .dataframe tbody tr th:only-of-type {\n",
              "        vertical-align: middle;\n",
              "    }\n",
              "\n",
              "    .dataframe tbody tr th {\n",
              "        vertical-align: top;\n",
              "    }\n",
              "\n",
              "    .dataframe thead th {\n",
              "        text-align: right;\n",
              "    }\n",
              "</style>\n",
              "<table border=\"1\" class=\"dataframe\">\n",
              "  <thead>\n",
              "    <tr style=\"text-align: right;\">\n",
              "      <th></th>\n",
              "      <th>Date</th>\n",
              "      <th>Open</th>\n",
              "      <th>High</th>\n",
              "      <th>Low</th>\n",
              "      <th>Close</th>\n",
              "      <th>Adj Close</th>\n",
              "      <th>Volume</th>\n",
              "    </tr>\n",
              "  </thead>\n",
              "  <tbody>\n",
              "    <tr>\n",
              "      <th>0</th>\n",
              "      <td>2018-02-05</td>\n",
              "      <td>262.000000</td>\n",
              "      <td>267.899994</td>\n",
              "      <td>250.029999</td>\n",
              "      <td>254.259995</td>\n",
              "      <td>254.259995</td>\n",
              "      <td>11896100</td>\n",
              "    </tr>\n",
              "    <tr>\n",
              "      <th>1</th>\n",
              "      <td>2018-02-06</td>\n",
              "      <td>247.699997</td>\n",
              "      <td>266.700012</td>\n",
              "      <td>245.000000</td>\n",
              "      <td>265.720001</td>\n",
              "      <td>265.720001</td>\n",
              "      <td>12595800</td>\n",
              "    </tr>\n",
              "    <tr>\n",
              "      <th>2</th>\n",
              "      <td>2018-02-07</td>\n",
              "      <td>266.579987</td>\n",
              "      <td>272.450012</td>\n",
              "      <td>264.329987</td>\n",
              "      <td>264.559998</td>\n",
              "      <td>264.559998</td>\n",
              "      <td>8981500</td>\n",
              "    </tr>\n",
              "    <tr>\n",
              "      <th>3</th>\n",
              "      <td>2018-02-08</td>\n",
              "      <td>267.079987</td>\n",
              "      <td>267.619995</td>\n",
              "      <td>250.000000</td>\n",
              "      <td>250.100006</td>\n",
              "      <td>250.100006</td>\n",
              "      <td>9306700</td>\n",
              "    </tr>\n",
              "    <tr>\n",
              "      <th>4</th>\n",
              "      <td>2018-02-09</td>\n",
              "      <td>253.850006</td>\n",
              "      <td>255.800003</td>\n",
              "      <td>236.110001</td>\n",
              "      <td>249.470001</td>\n",
              "      <td>249.470001</td>\n",
              "      <td>16906900</td>\n",
              "    </tr>\n",
              "  </tbody>\n",
              "</table>\n",
              "</div>\n",
              "      <button class=\"colab-df-convert\" onclick=\"convertToInteractive('df-cec031b9-2bdc-4528-8621-a31ce8900451')\"\n",
              "              title=\"Convert this dataframe to an interactive table.\"\n",
              "              style=\"display:none;\">\n",
              "        \n",
              "  <svg xmlns=\"http://www.w3.org/2000/svg\" height=\"24px\"viewBox=\"0 0 24 24\"\n",
              "       width=\"24px\">\n",
              "    <path d=\"M0 0h24v24H0V0z\" fill=\"none\"/>\n",
              "    <path d=\"M18.56 5.44l.94 2.06.94-2.06 2.06-.94-2.06-.94-.94-2.06-.94 2.06-2.06.94zm-11 1L8.5 8.5l.94-2.06 2.06-.94-2.06-.94L8.5 2.5l-.94 2.06-2.06.94zm10 10l.94 2.06.94-2.06 2.06-.94-2.06-.94-.94-2.06-.94 2.06-2.06.94z\"/><path d=\"M17.41 7.96l-1.37-1.37c-.4-.4-.92-.59-1.43-.59-.52 0-1.04.2-1.43.59L10.3 9.45l-7.72 7.72c-.78.78-.78 2.05 0 2.83L4 21.41c.39.39.9.59 1.41.59.51 0 1.02-.2 1.41-.59l7.78-7.78 2.81-2.81c.8-.78.8-2.07 0-2.86zM5.41 20L4 18.59l7.72-7.72 1.47 1.35L5.41 20z\"/>\n",
              "  </svg>\n",
              "      </button>\n",
              "      \n",
              "  <style>\n",
              "    .colab-df-container {\n",
              "      display:flex;\n",
              "      flex-wrap:wrap;\n",
              "      gap: 12px;\n",
              "    }\n",
              "\n",
              "    .colab-df-convert {\n",
              "      background-color: #E8F0FE;\n",
              "      border: none;\n",
              "      border-radius: 50%;\n",
              "      cursor: pointer;\n",
              "      display: none;\n",
              "      fill: #1967D2;\n",
              "      height: 32px;\n",
              "      padding: 0 0 0 0;\n",
              "      width: 32px;\n",
              "    }\n",
              "\n",
              "    .colab-df-convert:hover {\n",
              "      background-color: #E2EBFA;\n",
              "      box-shadow: 0px 1px 2px rgba(60, 64, 67, 0.3), 0px 1px 3px 1px rgba(60, 64, 67, 0.15);\n",
              "      fill: #174EA6;\n",
              "    }\n",
              "\n",
              "    [theme=dark] .colab-df-convert {\n",
              "      background-color: #3B4455;\n",
              "      fill: #D2E3FC;\n",
              "    }\n",
              "\n",
              "    [theme=dark] .colab-df-convert:hover {\n",
              "      background-color: #434B5C;\n",
              "      box-shadow: 0px 1px 3px 1px rgba(0, 0, 0, 0.15);\n",
              "      filter: drop-shadow(0px 1px 2px rgba(0, 0, 0, 0.3));\n",
              "      fill: #FFFFFF;\n",
              "    }\n",
              "  </style>\n",
              "\n",
              "      <script>\n",
              "        const buttonEl =\n",
              "          document.querySelector('#df-cec031b9-2bdc-4528-8621-a31ce8900451 button.colab-df-convert');\n",
              "        buttonEl.style.display =\n",
              "          google.colab.kernel.accessAllowed ? 'block' : 'none';\n",
              "\n",
              "        async function convertToInteractive(key) {\n",
              "          const element = document.querySelector('#df-cec031b9-2bdc-4528-8621-a31ce8900451');\n",
              "          const dataTable =\n",
              "            await google.colab.kernel.invokeFunction('convertToInteractive',\n",
              "                                                     [key], {});\n",
              "          if (!dataTable) return;\n",
              "\n",
              "          const docLinkHtml = 'Like what you see? Visit the ' +\n",
              "            '<a target=\"_blank\" href=https://colab.research.google.com/notebooks/data_table.ipynb>data table notebook</a>'\n",
              "            + ' to learn more about interactive tables.';\n",
              "          element.innerHTML = '';\n",
              "          dataTable['output_type'] = 'display_data';\n",
              "          await google.colab.output.renderOutput(dataTable, element);\n",
              "          const docLink = document.createElement('div');\n",
              "          docLink.innerHTML = docLinkHtml;\n",
              "          element.appendChild(docLink);\n",
              "        }\n",
              "      </script>\n",
              "    </div>\n",
              "  </div>\n",
              "  "
            ]
          },
          "metadata": {},
          "execution_count": 7
        }
      ]
    },
    {
      "cell_type": "code",
      "source": [
        "# Plot the data\n",
        "plt.figure(figsize=(10,6))\n",
        "plt.title('Netflix Stock Price History')\n",
        "plt.plot(df['Close'])\n",
        "plt.xlabel('Date', fontsize=18)\n",
        "plt.ylabel('Closing Price USD ($)', fontsize=18)\n",
        "plt.show()"
      ],
      "metadata": {
        "colab": {
          "base_uri": "https://localhost:8080/",
          "height": 435
        },
        "id": "4GEtZrIy_SP_",
        "outputId": "9a422c8f-195b-4e17-e6c2-68d6d2fdcd5d"
      },
      "execution_count": 10,
      "outputs": [
        {
          "output_type": "display_data",
          "data": {
            "text/plain": [
              "<Figure size 1000x600 with 1 Axes>"
            ],
            "image/png": "[encoded data removed]"
          },
          "metadata": {}
        }
      ]
    },
    {
      "cell_type": "code",
      "source": [
        "df1 = df.reset_index()['Close']"
      ],
      "metadata": {
        "id": "ZCu0q39-BlWL"
      },
      "execution_count": 17,
      "outputs": []
    },
    {
      "cell_type": "code",
      "source": [
        "df1.shape, type(df1)"
      ],
      "metadata": {
        "colab": {
          "base_uri": "https://localhost:8080/"
        },
        "id": "fPidE8d0BlYW",
        "outputId": "387ea3d6-5a51-47c4-b154-dfc97b1d1584"
      },
      "execution_count": 20,
      "outputs": [
        {
          "output_type": "execute_result",
          "data": {
            "text/plain": [
              "((1009,), pandas.core.series.Series)"
            ]
          },
          "metadata": {},
          "execution_count": 20
        }
      ]
    },
    {
      "cell_type": "markdown",
      "source": [
        "### Preprocessing the Data\n"
      ],
      "metadata": {
        "id": "MrsvLLuHCOHm"
      }
    },
    {
      "cell_type": "code",
      "source": [
        "from sklearn.preprocessing import MinMaxScaler"
      ],
      "metadata": {
        "id": "yMFQaKNx_yip"
      },
      "execution_count": 12,
      "outputs": []
    },
    {
      "cell_type": "code",
      "source": [
        "# Preprocess the data\n",
        "scaler = MinMaxScaler(feature_range=(0,1))\n",
        "df1 = scaler.fit_transform(np.array(df1).reshape(-1,1))"
      ],
      "metadata": {
        "id": "_TmoO4fp_d5h"
      },
      "execution_count": 23,
      "outputs": []
    },
    {
      "cell_type": "markdown",
      "source": [
        "By scaling the data, we can ensure that the LSTM model can effectively learn from the input data, and that the gradients used during training do not become too large or too small. This can help to improve the performance of the model and reduce the risk of overfitting."
      ],
      "metadata": {
        "id": "lESRc81jALHG"
      }
    },
    {
      "cell_type": "code",
      "source": [
        "df1"
      ],
      "metadata": {
        "colab": {
          "base_uri": "https://localhost:8080/"
        },
        "id": "6-oh0WC7CdNf",
        "outputId": "87b6363e-6e0c-41ad-adf1-83393ccb4d05"
      },
      "execution_count": 24,
      "outputs": [
        {
          "output_type": "execute_result",
          "data": {
            "text/plain": [
              "array([[0.04451626],\n",
              "       [0.06954849],\n",
              "       [0.06701469],\n",
              "       ...,\n",
              "       [0.4272515 ],\n",
              "       [0.37509011],\n",
              "       [0.38507243]])"
            ]
          },
          "metadata": {},
          "execution_count": 24
        }
      ]
    },
    {
      "cell_type": "markdown",
      "source": [
        "if you have a sequence of time-series data with shape (batch_size, timesteps, input_dim), where batch_size is the number of samples in each batch, timesteps is the length of the sequence, and input_dim is the number of features at each time step, you may need to reshape it to (batch_size, timesteps, features) to match the expected input shape of the LSTM layer.\n",
        "\n",
        "Alternatively, if you have a 2D input with shape (batch_size, features) that you want to process with an LSTM layer, you may need to reshape it to (batch_size, timesteps, features) by adding a time dimension."
      ],
      "metadata": {
        "id": "fj1yYWJYWYN-"
      }
    },
    {
      "cell_type": "code",
      "source": [
        "df1.shape, type(df1)"
      ],
      "metadata": {
        "colab": {
          "base_uri": "https://localhost:8080/"
        },
        "id": "YiG4dKCsCdP5",
        "outputId": "c2ddbaa6-12a7-4413-a78c-759d156401bf"
      },
      "execution_count": 25,
      "outputs": [
        {
          "output_type": "execute_result",
          "data": {
            "text/plain": [
              "((1009, 1), numpy.ndarray)"
            ]
          },
          "metadata": {},
          "execution_count": 25
        }
      ]
    },
    {
      "cell_type": "markdown",
      "source": [
        "### Splitting into train and test"
      ],
      "metadata": {
        "id": "P7RgDNAsCrpk"
      }
    },
    {
      "cell_type": "markdown",
      "source": [
        "In case of time-series data, ordered with respect to date, we should split the dataset according to that order only.\n",
        "\n",
        "This is because a particular value in time is dependent on all the previous values."
      ],
      "metadata": {
        "id": "u-A8uqGRDiWW"
      }
    },
    {
      "cell_type": "code",
      "source": [
        "training_size = int(len(df1)*0.60)\n",
        "test_size = len(df1) - training_size"
      ],
      "metadata": {
        "id": "w926zYa9CpbP"
      },
      "execution_count": 80,
      "outputs": []
    },
    {
      "cell_type": "code",
      "source": [
        "training_size, test_size"
      ],
      "metadata": {
        "colab": {
          "base_uri": "https://localhost:8080/"
        },
        "id": "DtCbojjTFRrv",
        "outputId": "8a06b4db-f991-475d-bbb5-91fba705e10b"
      },
      "execution_count": 81,
      "outputs": [
        {
          "output_type": "execute_result",
          "data": {
            "text/plain": [
              "(605, 404)"
            ]
          },
          "metadata": {},
          "execution_count": 81
        }
      ]
    },
    {
      "cell_type": "code",
      "source": [
        "train_data, test_data = df1[0:training_size,:], df1[training_size:len(df1),:1]"
      ],
      "metadata": {
        "id": "IGMXPbW6CpdY"
      },
      "execution_count": 82,
      "outputs": []
    },
    {
      "cell_type": "code",
      "source": [
        "def create_dataset(dataset, time_step):\n",
        "  dataX, dataY = [], []\n",
        "\n",
        "  for i in range(len(dataset) - time_step - 1):\n",
        "    a = dataset[i:(i + time_step),:]\n",
        "    dataX.append(a)\n",
        "    dataY.append(dataset[i + time_step,0])\n",
        "  \n",
        "  return np.array(dataX), np.array(dataY)"
      ],
      "metadata": {
        "id": "T9TpKAetCphS"
      },
      "execution_count": 83,
      "outputs": []
    },
    {
      "cell_type": "code",
      "source": [
        "time_step = 100"
      ],
      "metadata": {
        "id": "Jfr8eZsoCpjs"
      },
      "execution_count": 84,
      "outputs": []
    },
    {
      "cell_type": "code",
      "source": [
        "X_train, y_train = create_dataset(train_data, time_step)\n",
        "X_test, y_test = create_dataset(test_data,time_step)"
      ],
      "metadata": {
        "id": "GC8GwcxdCpl8"
      },
      "execution_count": 85,
      "outputs": []
    },
    {
      "cell_type": "code",
      "source": [
        "X_train.shape, y_train.shape"
      ],
      "metadata": {
        "colab": {
          "base_uri": "https://localhost:8080/"
        },
        "id": "xYHuLiOxCpo7",
        "outputId": "c74d79eb-98a9-4c3f-bbd0-058703207282"
      },
      "execution_count": 86,
      "outputs": [
        {
          "output_type": "execute_result",
          "data": {
            "text/plain": [
              "((504, 100, 1), (504,))"
            ]
          },
          "metadata": {},
          "execution_count": 86
        }
      ]
    },
    {
      "cell_type": "code",
      "source": [
        "X_test.shape, y_test.shape"
      ],
      "metadata": {
        "colab": {
          "base_uri": "https://localhost:8080/"
        },
        "id": "2Dloh3GMCdVa",
        "outputId": "6768d515-9fe8-425e-ee68-ab39367b551f"
      },
      "execution_count": 87,
      "outputs": [
        {
          "output_type": "execute_result",
          "data": {
            "text/plain": [
              "((303, 100, 1), (303,))"
            ]
          },
          "metadata": {},
          "execution_count": 87
        }
      ]
    },
    {
      "cell_type": "markdown",
      "source": [
        "### Create a stacked LSTM model"
      ],
      "metadata": {
        "id": "ILi2YDAwGc52"
      }
    },
    {
      "cell_type": "markdown",
      "source": [
        "Stacked LSTM implies that we have multiple LSTM layers, one after the other, in our model."
      ],
      "metadata": {
        "id": "jeaB_optMszw"
      }
    },
    {
      "cell_type": "code",
      "source": [
        "from tensorflow.keras.models import Sequential\n",
        "from tensorflow.keras.layers import Dense\n",
        "from tensorflow.keras.layers import LSTM"
      ],
      "metadata": {
        "id": "bvJw8OGbARcx"
      },
      "execution_count": 88,
      "outputs": []
    },
    {
      "cell_type": "code",
      "source": [
        "model = Sequential()\n",
        "model.add(LSTM(50, return_sequences = True, input_shape = (100,1)))\n",
        "model.add(LSTM(50, return_sequences = True))\n",
        "model.add(LSTM(50))\n",
        "model.add(Dense(1))"
      ],
      "metadata": {
        "id": "BRc_tJAdL9yP"
      },
      "execution_count": 97,
      "outputs": []
    },
    {
      "cell_type": "code",
      "source": [
        "model.compile(loss = 'mean_squared_error', optimizer = 'adam')"
      ],
      "metadata": {
        "id": "SoYwoDLPMdAl"
      },
      "execution_count": 98,
      "outputs": []
    },
    {
      "cell_type": "code",
      "source": [
        "model.summary()"
      ],
      "metadata": {
        "colab": {
          "base_uri": "https://localhost:8080/"
        },
        "id": "2BaKYBA6NMgV",
        "outputId": "c5aa7205-8c5e-498f-a591-be63bddda56b"
      },
      "execution_count": 99,
      "outputs": [
        {
          "output_type": "stream",
          "name": "stdout",
          "text": [
            "Model: \"sequential_3\"\n",
            "_________________________________________________________________\n",
            " Layer (type)                Output Shape              Param #   \n",
            "=================================================================\n",
            " lstm_9 (LSTM)               (None, 100, 50)           10400     \n",
            "                                                                 \n",
            " lstm_10 (LSTM)              (None, 100, 50)           20200     \n",
            "                                                                 \n",
            " lstm_11 (LSTM)              (None, 50)                20200     \n",
            "                                                                 \n",
            " dense_3 (Dense)             (None, 1)                 51        \n",
            "                                                                 \n",
            "=================================================================\n",
            "Total params: 50,851\n",
            "Trainable params: 50,851\n",
            "Non-trainable params: 0\n",
            "_________________________________________________________________\n"
          ]
        }
      ]
    },
    {
      "cell_type": "code",
      "source": [
        "model.fit(X_train, y_train, validation_data = (X_test, y_test), \n",
        "          epochs = 100, batch_size = 64, verbose = 1)"
      ],
      "metadata": {
        "colab": {
          "base_uri": "https://localhost:8080/"
        },
        "id": "XtNY3tzWNRhG",
        "outputId": "616d5151-2011-42e9-804e-19793b19edc4"
      },
      "execution_count": 100,
      "outputs": [
        {
          "output_type": "stream",
          "name": "stdout",
          "text": [
            "Epoch 1/100\n",
            "8/8 [==============================] - 10s 394ms/step - loss: 0.0193 - val_loss: 0.0326\n",
            "Epoch 2/100\n",
            "8/8 [==============================] - 2s 222ms/step - loss: 0.0063 - val_loss: 0.0702\n",
            "Epoch 3/100\n",
            "8/8 [==============================] - 2s 217ms/step - loss: 0.0044 - val_loss: 0.0254\n",
            "Epoch 4/100\n",
            "8/8 [==============================] - 2s 213ms/step - loss: 0.0039 - val_loss: 0.0435\n",
            "Epoch 5/100\n",
            "8/8 [==============================] - 2s 220ms/step - loss: 0.0034 - val_loss: 0.0163\n",
            "Epoch 6/100\n",
            "8/8 [==============================] - 3s 365ms/step - loss: 0.0029 - val_loss: 0.0143\n",
            "Epoch 7/100\n",
            "8/8 [==============================] - 2s 217ms/step - loss: 0.0027 - val_loss: 0.0077\n",
            "Epoch 8/100\n",
            "8/8 [==============================] - 2s 219ms/step - loss: 0.0025 - val_loss: 0.0061\n",
            "Epoch 9/100\n",
            "8/8 [==============================] - 2s 216ms/step - loss: 0.0024 - val_loss: 0.0060\n",
            "Epoch 10/100\n",
            "8/8 [==============================] - 2s 214ms/step - loss: 0.0023 - val_loss: 0.0064\n",
            "Epoch 11/100\n",
            "8/8 [==============================] - 2s 224ms/step - loss: 0.0022 - val_loss: 0.0051\n",
            "Epoch 12/100\n",
            "8/8 [==============================] - 2s 240ms/step - loss: 0.0021 - val_loss: 0.0048\n",
            "Epoch 13/100\n",
            "8/8 [==============================] - 3s 342ms/step - loss: 0.0020 - val_loss: 0.0064\n",
            "Epoch 14/100\n",
            "8/8 [==============================] - 2s 212ms/step - loss: 0.0019 - val_loss: 0.0047\n",
            "Epoch 15/100\n",
            "8/8 [==============================] - 2s 221ms/step - loss: 0.0019 - val_loss: 0.0044\n",
            "Epoch 16/100\n",
            "8/8 [==============================] - 2s 219ms/step - loss: 0.0019 - val_loss: 0.0050\n",
            "Epoch 17/100\n",
            "8/8 [==============================] - 2s 219ms/step - loss: 0.0019 - val_loss: 0.0055\n",
            "Epoch 18/100\n",
            "8/8 [==============================] - 2s 219ms/step - loss: 0.0019 - val_loss: 0.0059\n",
            "Epoch 19/100\n",
            "8/8 [==============================] - 2s 288ms/step - loss: 0.0018 - val_loss: 0.0044\n",
            "Epoch 20/100\n",
            "8/8 [==============================] - 2s 288ms/step - loss: 0.0017 - val_loss: 0.0052\n",
            "Epoch 21/100\n",
            "8/8 [==============================] - 2s 218ms/step - loss: 0.0017 - val_loss: 0.0063\n",
            "Epoch 22/100\n",
            "8/8 [==============================] - 2s 288ms/step - loss: 0.0017 - val_loss: 0.0043\n",
            "Epoch 23/100\n",
            "8/8 [==============================] - 3s 336ms/step - loss: 0.0016 - val_loss: 0.0054\n",
            "Epoch 24/100\n",
            "8/8 [==============================] - 3s 358ms/step - loss: 0.0016 - val_loss: 0.0067\n",
            "Epoch 25/100\n",
            "8/8 [==============================] - 4s 481ms/step - loss: 0.0016 - val_loss: 0.0041\n",
            "Epoch 26/100\n",
            "8/8 [==============================] - 2s 218ms/step - loss: 0.0017 - val_loss: 0.0038\n",
            "Epoch 27/100\n",
            "8/8 [==============================] - 2s 230ms/step - loss: 0.0017 - val_loss: 0.0039\n",
            "Epoch 28/100\n",
            "8/8 [==============================] - 2s 240ms/step - loss: 0.0018 - val_loss: 0.0040\n",
            "Epoch 29/100\n",
            "8/8 [==============================] - 2s 215ms/step - loss: 0.0015 - val_loss: 0.0057\n",
            "Epoch 30/100\n",
            "8/8 [==============================] - 2s 213ms/step - loss: 0.0015 - val_loss: 0.0096\n",
            "Epoch 31/100\n",
            "8/8 [==============================] - 3s 365ms/step - loss: 0.0015 - val_loss: 0.0065\n",
            "Epoch 32/100\n",
            "8/8 [==============================] - 2s 218ms/step - loss: 0.0015 - val_loss: 0.0042\n",
            "Epoch 33/100\n",
            "8/8 [==============================] - 2s 216ms/step - loss: 0.0015 - val_loss: 0.0042\n",
            "Epoch 34/100\n",
            "8/8 [==============================] - 3s 415ms/step - loss: 0.0015 - val_loss: 0.0043\n",
            "Epoch 35/100\n",
            "8/8 [==============================] - 2s 299ms/step - loss: 0.0015 - val_loss: 0.0038\n",
            "Epoch 36/100\n",
            "8/8 [==============================] - 4s 577ms/step - loss: 0.0015 - val_loss: 0.0040\n",
            "Epoch 37/100\n",
            "8/8 [==============================] - 2s 217ms/step - loss: 0.0014 - val_loss: 0.0058\n",
            "Epoch 38/100\n",
            "8/8 [==============================] - 2s 297ms/step - loss: 0.0014 - val_loss: 0.0040\n",
            "Epoch 39/100\n",
            "8/8 [==============================] - 3s 330ms/step - loss: 0.0015 - val_loss: 0.0034\n",
            "Epoch 40/100\n",
            "8/8 [==============================] - 2s 233ms/step - loss: 0.0015 - val_loss: 0.0035\n",
            "Epoch 41/100\n",
            "8/8 [==============================] - 2s 223ms/step - loss: 0.0014 - val_loss: 0.0033\n",
            "Epoch 42/100\n",
            "8/8 [==============================] - 3s 455ms/step - loss: 0.0015 - val_loss: 0.0034\n",
            "Epoch 43/100\n",
            "8/8 [==============================] - 3s 389ms/step - loss: 0.0016 - val_loss: 0.0034\n",
            "Epoch 44/100\n",
            "8/8 [==============================] - 3s 334ms/step - loss: 0.0014 - val_loss: 0.0047\n",
            "Epoch 45/100\n",
            "8/8 [==============================] - 3s 375ms/step - loss: 0.0013 - val_loss: 0.0033\n",
            "Epoch 46/100\n",
            "8/8 [==============================] - 4s 538ms/step - loss: 0.0013 - val_loss: 0.0036\n",
            "Epoch 47/100\n",
            "8/8 [==============================] - 4s 456ms/step - loss: 0.0013 - val_loss: 0.0063\n",
            "Epoch 48/100\n",
            "8/8 [==============================] - 3s 347ms/step - loss: 0.0013 - val_loss: 0.0067\n",
            "Epoch 49/100\n",
            "8/8 [==============================] - 3s 446ms/step - loss: 0.0013 - val_loss: 0.0049\n",
            "Epoch 50/100\n",
            "8/8 [==============================] - 4s 493ms/step - loss: 0.0012 - val_loss: 0.0066\n",
            "Epoch 51/100\n",
            "8/8 [==============================] - 3s 330ms/step - loss: 0.0012 - val_loss: 0.0068\n",
            "Epoch 52/100\n",
            "8/8 [==============================] - 3s 413ms/step - loss: 0.0012 - val_loss: 0.0076\n",
            "Epoch 53/100\n",
            "8/8 [==============================] - 3s 368ms/step - loss: 0.0012 - val_loss: 0.0090\n",
            "Epoch 54/100\n",
            "8/8 [==============================] - 4s 477ms/step - loss: 0.0012 - val_loss: 0.0053\n",
            "Epoch 55/100\n",
            "8/8 [==============================] - 2s 289ms/step - loss: 0.0012 - val_loss: 0.0054\n",
            "Epoch 56/100\n",
            "8/8 [==============================] - 2s 329ms/step - loss: 0.0011 - val_loss: 0.0055\n",
            "Epoch 57/100\n",
            "8/8 [==============================] - 3s 345ms/step - loss: 0.0011 - val_loss: 0.0037\n",
            "Epoch 58/100\n",
            "8/8 [==============================] - 3s 410ms/step - loss: 0.0011 - val_loss: 0.0046\n",
            "Epoch 59/100\n",
            "8/8 [==============================] - 4s 550ms/step - loss: 0.0011 - val_loss: 0.0094\n",
            "Epoch 60/100\n",
            "8/8 [==============================] - 3s 384ms/step - loss: 0.0011 - val_loss: 0.0058\n",
            "Epoch 61/100\n",
            "8/8 [==============================] - 3s 346ms/step - loss: 0.0010 - val_loss: 0.0025\n",
            "Epoch 62/100\n",
            "8/8 [==============================] - 3s 387ms/step - loss: 0.0010 - val_loss: 0.0027\n",
            "Epoch 63/100\n",
            "8/8 [==============================] - 4s 460ms/step - loss: 9.6263e-04 - val_loss: 0.0073\n",
            "Epoch 64/100\n",
            "8/8 [==============================] - 4s 483ms/step - loss: 9.1953e-04 - val_loss: 0.0031\n",
            "Epoch 65/100\n",
            "8/8 [==============================] - 3s 408ms/step - loss: 0.0010 - val_loss: 0.0097\n",
            "Epoch 66/100\n",
            "8/8 [==============================] - 5s 667ms/step - loss: 9.9482e-04 - val_loss: 0.0092\n",
            "Epoch 67/100\n",
            "8/8 [==============================] - 2s 296ms/step - loss: 0.0011 - val_loss: 0.0067\n",
            "Epoch 68/100\n",
            "8/8 [==============================] - 4s 501ms/step - loss: 9.7220e-04 - val_loss: 0.0021\n",
            "Epoch 69/100\n",
            "8/8 [==============================] - 2s 243ms/step - loss: 8.7121e-04 - val_loss: 0.0035\n",
            "Epoch 70/100\n",
            "8/8 [==============================] - 3s 380ms/step - loss: 8.0815e-04 - val_loss: 0.0029\n",
            "Epoch 71/100\n",
            "8/8 [==============================] - 4s 456ms/step - loss: 7.9159e-04 - val_loss: 0.0044\n",
            "Epoch 72/100\n",
            "8/8 [==============================] - 2s 300ms/step - loss: 7.5523e-04 - val_loss: 0.0031\n",
            "Epoch 73/100\n",
            "8/8 [==============================] - 2s 220ms/step - loss: 7.4601e-04 - val_loss: 0.0041\n",
            "Epoch 74/100\n",
            "8/8 [==============================] - 2s 328ms/step - loss: 7.7423e-04 - val_loss: 0.0024\n",
            "Epoch 75/100\n",
            "8/8 [==============================] - 3s 447ms/step - loss: 6.9367e-04 - val_loss: 0.0020\n",
            "Epoch 76/100\n",
            "8/8 [==============================] - 3s 355ms/step - loss: 7.2364e-04 - val_loss: 0.0082\n",
            "Epoch 77/100\n",
            "8/8 [==============================] - 2s 224ms/step - loss: 7.2544e-04 - val_loss: 0.0017\n",
            "Epoch 78/100\n",
            "8/8 [==============================] - 2s 278ms/step - loss: 7.2447e-04 - val_loss: 0.0049\n",
            "Epoch 79/100\n",
            "8/8 [==============================] - 3s 336ms/step - loss: 7.8189e-04 - val_loss: 0.0019\n",
            "Epoch 80/100\n",
            "8/8 [==============================] - 2s 311ms/step - loss: 6.6605e-04 - val_loss: 0.0015\n",
            "Epoch 81/100\n",
            "8/8 [==============================] - 3s 377ms/step - loss: 5.8692e-04 - val_loss: 0.0023\n",
            "Epoch 82/100\n",
            "8/8 [==============================] - 3s 340ms/step - loss: 5.9301e-04 - val_loss: 0.0026\n",
            "Epoch 83/100\n",
            "8/8 [==============================] - 3s 366ms/step - loss: 5.6962e-04 - val_loss: 0.0022\n",
            "Epoch 84/100\n",
            "8/8 [==============================] - 3s 352ms/step - loss: 5.3717e-04 - val_loss: 0.0017\n",
            "Epoch 85/100\n",
            "8/8 [==============================] - 3s 367ms/step - loss: 5.1857e-04 - val_loss: 0.0030\n",
            "Epoch 86/100\n",
            "8/8 [==============================] - 3s 428ms/step - loss: 5.1895e-04 - val_loss: 0.0023\n",
            "Epoch 87/100\n",
            "8/8 [==============================] - 3s 377ms/step - loss: 5.2476e-04 - val_loss: 0.0022\n",
            "Epoch 88/100\n",
            "8/8 [==============================] - 2s 279ms/step - loss: 5.0794e-04 - val_loss: 0.0015\n",
            "Epoch 89/100\n",
            "8/8 [==============================] - 2s 236ms/step - loss: 6.2396e-04 - val_loss: 0.0014\n",
            "Epoch 90/100\n",
            "8/8 [==============================] - 3s 350ms/step - loss: 6.1588e-04 - val_loss: 0.0045\n",
            "Epoch 91/100\n",
            "8/8 [==============================] - 2s 220ms/step - loss: 6.5921e-04 - val_loss: 0.0013\n",
            "Epoch 92/100\n",
            "8/8 [==============================] - 2s 219ms/step - loss: 5.7812e-04 - val_loss: 0.0012\n",
            "Epoch 93/100\n",
            "8/8 [==============================] - 3s 345ms/step - loss: 5.7198e-04 - val_loss: 0.0035\n",
            "Epoch 94/100\n",
            "8/8 [==============================] - 2s 222ms/step - loss: 5.0780e-04 - val_loss: 0.0016\n",
            "Epoch 95/100\n",
            "8/8 [==============================] - 3s 428ms/step - loss: 5.0119e-04 - val_loss: 0.0014\n",
            "Epoch 96/100\n",
            "8/8 [==============================] - 3s 363ms/step - loss: 4.8167e-04 - val_loss: 0.0021\n",
            "Epoch 97/100\n",
            "8/8 [==============================] - 2s 306ms/step - loss: 4.8831e-04 - val_loss: 0.0013\n",
            "Epoch 98/100\n",
            "8/8 [==============================] - 2s 290ms/step - loss: 4.6328e-04 - val_loss: 0.0018\n",
            "Epoch 99/100\n",
            "8/8 [==============================] - 2s 223ms/step - loss: 4.7248e-04 - val_loss: 0.0021\n",
            "Epoch 100/100\n",
            "8/8 [==============================] - 4s 553ms/step - loss: 4.4469e-04 - val_loss: 0.0017\n"
          ]
        },
        {
          "output_type": "execute_result",
          "data": {
            "text/plain": [
              "<keras.callbacks.History at 0x7f29928b76a0>"
            ]
          },
          "metadata": {},
          "execution_count": 100
        }
      ]
    },
    {
      "cell_type": "markdown",
      "source": [
        "### Predict the test data and plot the output"
      ],
      "metadata": {
        "id": "esj0h3zrPhl0"
      }
    },
    {
      "cell_type": "code",
      "source": [
        "train_predict = model.predict(X_train)\n",
        "test_predict = model.predict(X_test)"
      ],
      "metadata": {
        "colab": {
          "base_uri": "https://localhost:8080/"
        },
        "id": "NUFd9BykPnGE",
        "outputId": "3e776a2e-4bae-42fe-a387-4e512a22c71f"
      },
      "execution_count": 101,
      "outputs": [
        {
          "output_type": "stream",
          "name": "stdout",
          "text": [
            "16/16 [==============================] - 2s 39ms/step\n",
            "10/10 [==============================] - 1s 99ms/step\n"
          ]
        }
      ]
    },
    {
      "cell_type": "markdown",
      "source": [
        "Now we will perform inverse scaling because we also want to find out the RMSE matrix"
      ],
      "metadata": {
        "id": "_W9lqZYiQA-S"
      }
    },
    {
      "cell_type": "code",
      "source": [
        "train_predict = scaler.inverse_transform(train_predict)\n",
        "test_predict = scaler.inverse_transform(test_predict)"
      ],
      "metadata": {
        "id": "WGJb1RDjP0zQ"
      },
      "execution_count": 102,
      "outputs": []
    },
    {
      "cell_type": "code",
      "source": [
        "train_predict.shape, test_predict.shape"
      ],
      "metadata": {
        "colab": {
          "base_uri": "https://localhost:8080/"
        },
        "id": "EBrYhnC1QQpC",
        "outputId": "c097ae28-1ef2-4b78-90e4-b75cebfffaa7"
      },
      "execution_count": 103,
      "outputs": [
        {
          "output_type": "execute_result",
          "data": {
            "text/plain": [
              "((504, 1), (303, 1))"
            ]
          },
          "metadata": {},
          "execution_count": 103
        }
      ]
    },
    {
      "cell_type": "markdown",
      "source": [
        "Calculating RMSE Performane Metric:"
      ],
      "metadata": {
        "id": "1VgHAprdRCLw"
      }
    },
    {
      "cell_type": "code",
      "source": [
        "import math\n",
        "from sklearn.metrics import mean_squared_error"
      ],
      "metadata": {
        "id": "J8oHTqdzQcsh"
      },
      "execution_count": 104,
      "outputs": []
    },
    {
      "cell_type": "code",
      "source": [
        "math.sqrt(mean_squared_error(y_train, train_predict))"
      ],
      "metadata": {
        "colab": {
          "base_uri": "https://localhost:8080/"
        },
        "id": "71h-XL3jQpZT",
        "outputId": "c651081d-14fb-40ac-dfce-a6b8d45a0415"
      },
      "execution_count": 105,
      "outputs": [
        {
          "output_type": "execute_result",
          "data": {
            "text/plain": [
              "347.1362841074369"
            ]
          },
          "metadata": {},
          "execution_count": 105
        }
      ]
    },
    {
      "cell_type": "code",
      "source": [
        "math.sqrt(mean_squared_error(y_test, test_predict))"
      ],
      "metadata": {
        "colab": {
          "base_uri": "https://localhost:8080/"
        },
        "id": "aXdmtSwhRFqy",
        "outputId": "064a4304-0739-4dc6-946c-bf37a069535f"
      },
      "execution_count": 106,
      "outputs": [
        {
          "output_type": "execute_result",
          "data": {
            "text/plain": [
              "560.8681527571641"
            ]
          },
          "metadata": {},
          "execution_count": 106
        }
      ]
    },
    {
      "cell_type": "markdown",
      "source": [
        "#### Plotting the output"
      ],
      "metadata": {
        "id": "546YefbwRmVF"
      }
    },
    {
      "cell_type": "code",
      "source": [
        "look_back = 100\n",
        "\n",
        "# Shift train predictions for plotting\n",
        "trainPredictPlot = np.empty_like(df1)\n",
        "trainPredictPlot[:,:] = np.nan\n",
        "trainPredictPlot[look_back:len(train_predict) + look_back, :] = train_predict\n",
        "\n",
        "# Shift test predictions for plotting\n",
        "testPredictPlot = np.empty_like(df1)\n",
        "testPredictPlot[:,:] = np.nan\n",
        "testPredictPlot[len(train_predict) + (look_back*2) + 1: len(df1) - 1, :] = test_predict\n",
        "\n",
        "# Plotting Baseline and Predictions\n",
        "plt.plot(scaler.inverse_transform(df1))\n",
        "plt.plot(trainPredictPlot)\n",
        "plt.plot(testPredictPlot)\n",
        "plt.show"
      ],
      "metadata": {
        "colab": {
          "base_uri": "https://localhost:8080/",
          "height": 447
        },
        "id": "b_7yd59ERPrW",
        "outputId": "dfbdd23c-7de6-406a-a88f-adda659b8fc2"
      },
      "execution_count": 108,
      "outputs": [
        {
          "output_type": "execute_result",
          "data": {
            "text/plain": [
              "<function matplotlib.pyplot.show(close=None, block=None)>"
            ]
          },
          "metadata": {},
          "execution_count": 108
        },
        {
          "output_type": "display_data",
          "data": {
            "text/plain": [
              "<Figure size 640x480 with 1 Axes>"
            ],
            "image/png": "[encoded data removed]"
          },
          "metadata": {}
        }
      ]
    },
    {
      "cell_type": "markdown",
      "source": [
        "Here:\n",
        "\n",
        "1. Green : Predicted Output\n",
        "2. Orange : Training prediction\n",
        "3. Blue : The actual dataset"
      ],
      "metadata": {
        "id": "6DTzY5zmTQZ6"
      }
    },
    {
      "cell_type": "markdown",
      "source": [
        "### Predict future 30 days and plot the output"
      ],
      "metadata": {
        "id": "rFOFqMKsUPXi"
      }
    },
    {
      "cell_type": "code",
      "source": [
        "len(test_data)"
      ],
      "metadata": {
        "colab": {
          "base_uri": "https://localhost:8080/"
        },
        "id": "lkpAIsJARv8L",
        "outputId": "53804196-aa98-4b0c-f099-c2a14629e66a"
      },
      "execution_count": 109,
      "outputs": [
        {
          "output_type": "execute_result",
          "data": {
            "text/plain": [
              "404"
            ]
          },
          "metadata": {},
          "execution_count": 109
        }
      ]
    },
    {
      "cell_type": "code",
      "source": [
        "len(test_data) - 100"
      ],
      "metadata": {
        "colab": {
          "base_uri": "https://localhost:8080/"
        },
        "id": "YGl4peHCRv-u",
        "outputId": "94bcb5a7-d160-4185-ce08-0ffd0fb6515e"
      },
      "execution_count": 110,
      "outputs": [
        {
          "output_type": "execute_result",
          "data": {
            "text/plain": [
              "304"
            ]
          },
          "metadata": {},
          "execution_count": 110
        }
      ]
    },
    {
      "cell_type": "markdown",
      "source": [
        "Therefore, 304 to 404 are my previous hundred days for the first output of forecasting"
      ],
      "metadata": {
        "id": "BBDV4FIqUqca"
      }
    },
    {
      "cell_type": "code",
      "source": [
        "x_input = test_data[304:].reshape(1,-1)\n",
        "x_input.shape"
      ],
      "metadata": {
        "colab": {
          "base_uri": "https://localhost:8080/"
        },
        "id": "i4_ax3alRwBV",
        "outputId": "77937236-bc26-4aed-cd7d-d877f018fb67"
      },
      "execution_count": 111,
      "outputs": [
        {
          "output_type": "execute_result",
          "data": {
            "text/plain": [
              "(1, 100)"
            ]
          },
          "metadata": {},
          "execution_count": 111
        }
      ]
    },
    {
      "cell_type": "code",
      "source": [
        "temp_input = list(x_input)\n",
        "temp_input = temp_input[0].tolist()"
      ],
      "metadata": {
        "id": "seA5nVnkRwDw"
      },
      "execution_count": 112,
      "outputs": []
    },
    {
      "cell_type": "code",
      "source": [
        "type(temp_input)"
      ],
      "metadata": {
        "colab": {
          "base_uri": "https://localhost:8080/"
        },
        "id": "7T6SmGyYRwGB",
        "outputId": "56b8328a-520c-448e-b37a-3b6aea5c9bc3"
      },
      "execution_count": 114,
      "outputs": [
        {
          "output_type": "execute_result",
          "data": {
            "text/plain": [
              "list"
            ]
          },
          "metadata": {},
          "execution_count": 114
        }
      ]
    },
    {
      "cell_type": "code",
      "source": [
        "len(temp_input)"
      ],
      "metadata": {
        "colab": {
          "base_uri": "https://localhost:8080/"
        },
        "id": "XHIOfSPPRwIa",
        "outputId": "becb90d7-c3ae-4cde-e39b-40a8c3ac9253"
      },
      "execution_count": 115,
      "outputs": [
        {
          "output_type": "execute_result",
          "data": {
            "text/plain": [
              "100"
            ]
          },
          "metadata": {},
          "execution_count": 115
        }
      ]
    },
    {
      "cell_type": "code",
      "source": [
        "temp_input"
      ],
      "metadata": {
        "colab": {
          "base_uri": "https://localhost:8080/"
        },
        "id": "LFz_ldTaRwKz",
        "outputId": "c6647a51-e544-4dad-c699-26615b34b899"
      },
      "execution_count": 116,
      "outputs": [
        {
          "output_type": "execute_result",
          "data": {
            "text/plain": [
              "[0.7623031220089325,\n",
              " 0.770232186519946,\n",
              " 0.7764574241046989,\n",
              " 0.7460518342503559,\n",
              " 0.741049807175792,\n",
              " 0.779297134920363,\n",
              " 0.7849981594001756,\n",
              " 0.7830978186350088,\n",
              " 0.7836438967059076,\n",
              " 0.7644437065449226,\n",
              " 0.797667144433283,\n",
              " 0.8223062503372986,\n",
              " 0.8284441613012656,\n",
              " 0.8070377960750383,\n",
              " 0.8757563085718285,\n",
              " 0.8851269602135838,\n",
              " 0.8692906961575151,\n",
              " 0.8710599825542908,\n",
              " 0.8587841584420446,\n",
              " 0.8541971550699885,\n",
              " 0.8647255577514177,\n",
              " 0.8735501313222742,\n",
              " 0.8615145487965392,\n",
              " 0.8826586764115594,\n",
              " 0.884908581408719,\n",
              " 0.854634045922767,\n",
              " 0.9158383843680022,\n",
              " 0.9412202154248719,\n",
              " 0.9562481616145222,\n",
              " 0.9493895237067091,\n",
              " 0.9371572940990189,\n",
              " 0.9614687007370002,\n",
              " 0.9969856403113886,\n",
              " 0.9770209932746399,\n",
              " 0.9694850896844873,\n",
              " 0.9925732858122798,\n",
              " 0.9491274149699269,\n",
              " 0.8995870966094257,\n",
              " 0.9121032955512327,\n",
              " 0.9220200252638868,\n",
              " 0.9021864325955293,\n",
              " 0.9254931407712357,\n",
              " 0.9801664073316425,\n",
              " 0.9730019329394415,\n",
              " 0.9906293483582447,\n",
              " 1.0,\n",
              " 0.9788777395352508,\n",
              " 0.9718441840840797,\n",
              " 0.9290317157490993,\n",
              " 0.9178043200310453,\n",
              " 0.9270439173044094,\n",
              " 0.943098693408392,\n",
              " 0.9391669575096673,\n",
              " 0.8912431394546414,\n",
              " 0.8385356753142286,\n",
              " 0.8356959623142521,\n",
              " 0.8043729984341079,\n",
              " 0.8274393295959415,\n",
              " 0.8555951476961738,\n",
              " 0.8610559284051631,\n",
              " 0.82374783746804,\n",
              " 0.8251894245987816,\n",
              " 0.8096808619930593,\n",
              " 0.7953299128153377,\n",
              " 0.8107292882029398,\n",
              " 0.7801926461645177,\n",
              " 0.7707345346589274,\n",
              " 0.786046585610056,\n",
              " 0.8104671816504696,\n",
              " 0.8308249874237674,\n",
              " 0.8304974214007823,\n",
              " 0.8283785685877016,\n",
              " 0.8231144349606676,\n",
              " 0.8227430057627159,\n",
              " 0.8261287968335911,\n",
              " 0.8050501286890859,\n",
              " 0.7939756501210697,\n",
              " 0.7803892910621608,\n",
              " 0.7287739830635458,\n",
              " 0.6976911275268634,\n",
              " 0.6709770319847339,\n",
              " 0.6683339660667129,\n",
              " 0.6704965466273991,\n",
              " 0.6625892138392948,\n",
              " 0.6232279960457043,\n",
              " 0.6374041609231176,\n",
              " 0.6048797204400058,\n",
              " 0.6159323340420633,\n",
              " 0.5993097503285842,\n",
              " 0.3573971649203631,\n",
              " 0.3347895196792742,\n",
              " 0.2895087675422692,\n",
              " 0.27483018681219396,\n",
              " 0.3338066184692773,\n",
              " 0.3286952687492317,\n",
              " 0.4221402137708232,\n",
              " 0.4876477173127347,\n",
              " 0.427251495777188,\n",
              " 0.3750901075233618,\n",
              " 0.38507242994958]"
            ]
          },
          "metadata": {},
          "execution_count": 116
        }
      ]
    },
    {
      "cell_type": "code",
      "source": [
        "# demonstrate prediction for next 10 days\n",
        "from numpy import array"
      ],
      "metadata": {
        "id": "_d4aQXtPRwOF"
      },
      "execution_count": 117,
      "outputs": []
    },
    {
      "cell_type": "code",
      "source": [
        "lst_output=[]\n",
        "n_steps=100\n",
        "i=0"
      ],
      "metadata": {
        "id": "UNvRl79mXBO9"
      },
      "execution_count": 118,
      "outputs": []
    },
    {
      "cell_type": "code",
      "source": [
        "while(i<30):\n",
        "    \n",
        "    if(len(temp_input)>100):\n",
        "        #print(temp_input)\n",
        "        x_input=np.array(temp_input[1:])\n",
        "        print(\"{} day input {}\".format(i,x_input))\n",
        "        x_input=x_input.reshape(1,-1)\n",
        "        x_input = x_input.reshape((1, n_steps, 1))\n",
        "        #print(x_input)\n",
        "        yhat = model.predict(x_input, verbose=0)\n",
        "        print(\"{} day output {}\".format(i,yhat))\n",
        "        temp_input.extend(yhat[0].tolist())\n",
        "        temp_input=temp_input[1:]\n",
        "        #print(temp_input)\n",
        "        lst_output.extend(yhat.tolist())\n",
        "        i=i+1\n",
        "    else:\n",
        "        x_input = x_input.reshape((1, n_steps,1))\n",
        "        yhat = model.predict(x_input, verbose=0)\n",
        "        print(yhat[0])\n",
        "        temp_input.extend(yhat[0].tolist())\n",
        "        print(len(temp_input))\n",
        "        lst_output.extend(yhat.tolist())\n",
        "        i=i+1"
      ],
      "metadata": {
        "colab": {
          "base_uri": "https://localhost:8080/"
        },
        "id": "GF9U4EFUXDe9",
        "outputId": "e14c11ad-a9ee-44c2-b216-1b39ed273fc6"
      },
      "execution_count": 119,
      "outputs": [
        {
          "output_type": "stream",
          "name": "stdout",
          "text": [
            "[0.34575257]\n",
            "101\n",
            "1 day input [0.77023219 0.77645742 0.74605183 0.74104981 0.77929713 0.78499816\n",
            " 0.78309782 0.7836439  0.76444371 0.79766714 0.82230625 0.82844416\n",
            " 0.8070378  0.87575631 0.88512696 0.8692907  0.87105998 0.85878416\n",
            " 0.85419716 0.86472556 0.87355013 0.86151455 0.88265868 0.88490858\n",
            " 0.85463405 0.91583838 0.94122022 0.95624816 0.94938952 0.93715729\n",
            " 0.9614687  0.99698564 0.97702099 0.96948509 0.99257329 0.94912741\n",
            " 0.8995871  0.9121033  0.92202003 0.90218643 0.92549314 0.98016641\n",
            " 0.97300193 0.99062935 1.         0.97887774 0.97184418 0.92903172\n",
            " 0.91780432 0.92704392 0.94309869 0.93916696 0.89124314 0.83853568\n",
            " 0.83569596 0.804373   0.82743933 0.85559515 0.86105593 0.82374784\n",
            " 0.82518942 0.80968086 0.79532991 0.81072929 0.78019265 0.77073453\n",
            " 0.78604659 0.81046718 0.83082499 0.83049742 0.82837857 0.82311443\n",
            " 0.82274301 0.8261288  0.80505013 0.79397565 0.78038929 0.72877398\n",
            " 0.69769113 0.67097703 0.66833397 0.67049655 0.66258921 0.623228\n",
            " 0.63740416 0.60487972 0.61593233 0.59930975 0.35739716 0.33478952\n",
            " 0.28950877 0.27483019 0.33380662 0.32869527 0.42214021 0.48764772\n",
            " 0.4272515  0.37509011 0.38507243 0.34575257]\n",
            "1 day output [[0.3321852]]\n",
            "2 day input [0.77645742 0.74605183 0.74104981 0.77929713 0.78499816 0.78309782\n",
            " 0.7836439  0.76444371 0.79766714 0.82230625 0.82844416 0.8070378\n",
            " 0.87575631 0.88512696 0.8692907  0.87105998 0.85878416 0.85419716\n",
            " 0.86472556 0.87355013 0.86151455 0.88265868 0.88490858 0.85463405\n",
            " 0.91583838 0.94122022 0.95624816 0.94938952 0.93715729 0.9614687\n",
            " 0.99698564 0.97702099 0.96948509 0.99257329 0.94912741 0.8995871\n",
            " 0.9121033  0.92202003 0.90218643 0.92549314 0.98016641 0.97300193\n",
            " 0.99062935 1.         0.97887774 0.97184418 0.92903172 0.91780432\n",
            " 0.92704392 0.94309869 0.93916696 0.89124314 0.83853568 0.83569596\n",
            " 0.804373   0.82743933 0.85559515 0.86105593 0.82374784 0.82518942\n",
            " 0.80968086 0.79532991 0.81072929 0.78019265 0.77073453 0.78604659\n",
            " 0.81046718 0.83082499 0.83049742 0.82837857 0.82311443 0.82274301\n",
            " 0.8261288  0.80505013 0.79397565 0.78038929 0.72877398 0.69769113\n",
            " 0.67097703 0.66833397 0.67049655 0.66258921 0.623228   0.63740416\n",
            " 0.60487972 0.61593233 0.59930975 0.35739716 0.33478952 0.28950877\n",
            " 0.27483019 0.33380662 0.32869527 0.42214021 0.48764772 0.4272515\n",
            " 0.37509011 0.38507243 0.34575257 0.33218521]\n",
            "2 day output [[0.32829365]]\n",
            "3 day input [0.74605183 0.74104981 0.77929713 0.78499816 0.78309782 0.7836439\n",
            " 0.76444371 0.79766714 0.82230625 0.82844416 0.8070378  0.87575631\n",
            " 0.88512696 0.8692907  0.87105998 0.85878416 0.85419716 0.86472556\n",
            " 0.87355013 0.86151455 0.88265868 0.88490858 0.85463405 0.91583838\n",
            " 0.94122022 0.95624816 0.94938952 0.93715729 0.9614687  0.99698564\n",
            " 0.97702099 0.96948509 0.99257329 0.94912741 0.8995871  0.9121033\n",
            " 0.92202003 0.90218643 0.92549314 0.98016641 0.97300193 0.99062935\n",
            " 1.         0.97887774 0.97184418 0.92903172 0.91780432 0.92704392\n",
            " 0.94309869 0.93916696 0.89124314 0.83853568 0.83569596 0.804373\n",
            " 0.82743933 0.85559515 0.86105593 0.82374784 0.82518942 0.80968086\n",
            " 0.79532991 0.81072929 0.78019265 0.77073453 0.78604659 0.81046718\n",
            " 0.83082499 0.83049742 0.82837857 0.82311443 0.82274301 0.8261288\n",
            " 0.80505013 0.79397565 0.78038929 0.72877398 0.69769113 0.67097703\n",
            " 0.66833397 0.67049655 0.66258921 0.623228   0.63740416 0.60487972\n",
            " 0.61593233 0.59930975 0.35739716 0.33478952 0.28950877 0.27483019\n",
            " 0.33380662 0.32869527 0.42214021 0.48764772 0.4272515  0.37509011\n",
            " 0.38507243 0.34575257 0.33218521 0.32829365]\n",
            "3 day output [[0.33363914]]\n",
            "4 day input [0.74104981 0.77929713 0.78499816 0.78309782 0.7836439  0.76444371\n",
            " 0.79766714 0.82230625 0.82844416 0.8070378  0.87575631 0.88512696\n",
            " 0.8692907  0.87105998 0.85878416 0.85419716 0.86472556 0.87355013\n",
            " 0.86151455 0.88265868 0.88490858 0.85463405 0.91583838 0.94122022\n",
            " 0.95624816 0.94938952 0.93715729 0.9614687  0.99698564 0.97702099\n",
            " 0.96948509 0.99257329 0.94912741 0.8995871  0.9121033  0.92202003\n",
            " 0.90218643 0.92549314 0.98016641 0.97300193 0.99062935 1.\n",
            " 0.97887774 0.97184418 0.92903172 0.91780432 0.92704392 0.94309869\n",
            " 0.93916696 0.89124314 0.83853568 0.83569596 0.804373   0.82743933\n",
            " 0.85559515 0.86105593 0.82374784 0.82518942 0.80968086 0.79532991\n",
            " 0.81072929 0.78019265 0.77073453 0.78604659 0.81046718 0.83082499\n",
            " 0.83049742 0.82837857 0.82311443 0.82274301 0.8261288  0.80505013\n",
            " 0.79397565 0.78038929 0.72877398 0.69769113 0.67097703 0.66833397\n",
            " 0.67049655 0.66258921 0.623228   0.63740416 0.60487972 0.61593233\n",
            " 0.59930975 0.35739716 0.33478952 0.28950877 0.27483019 0.33380662\n",
            " 0.32869527 0.42214021 0.48764772 0.4272515  0.37509011 0.38507243\n",
            " 0.34575257 0.33218521 0.32829365 0.33363914]\n",
            "4 day output [[0.34580973]]\n",
            "5 day input [0.77929713 0.78499816 0.78309782 0.7836439  0.76444371 0.79766714\n",
            " 0.82230625 0.82844416 0.8070378  0.87575631 0.88512696 0.8692907\n",
            " 0.87105998 0.85878416 0.85419716 0.86472556 0.87355013 0.86151455\n",
            " 0.88265868 0.88490858 0.85463405 0.91583838 0.94122022 0.95624816\n",
            " 0.94938952 0.93715729 0.9614687  0.99698564 0.97702099 0.96948509\n",
            " 0.99257329 0.94912741 0.8995871  0.9121033  0.92202003 0.90218643\n",
            " 0.92549314 0.98016641 0.97300193 0.99062935 1.         0.97887774\n",
            " 0.97184418 0.92903172 0.91780432 0.92704392 0.94309869 0.93916696\n",
            " 0.89124314 0.83853568 0.83569596 0.804373   0.82743933 0.85559515\n",
            " 0.86105593 0.82374784 0.82518942 0.80968086 0.79532991 0.81072929\n",
            " 0.78019265 0.77073453 0.78604659 0.81046718 0.83082499 0.83049742\n",
            " 0.82837857 0.82311443 0.82274301 0.8261288  0.80505013 0.79397565\n",
            " 0.78038929 0.72877398 0.69769113 0.67097703 0.66833397 0.67049655\n",
            " 0.66258921 0.623228   0.63740416 0.60487972 0.61593233 0.59930975\n",
            " 0.35739716 0.33478952 0.28950877 0.27483019 0.33380662 0.32869527\n",
            " 0.42214021 0.48764772 0.4272515  0.37509011 0.38507243 0.34575257\n",
            " 0.33218521 0.32829365 0.33363914 0.34580973]\n",
            "5 day output [[0.36134234]]\n",
            "6 day input [0.78499816 0.78309782 0.7836439  0.76444371 0.79766714 0.82230625\n",
            " 0.82844416 0.8070378  0.87575631 0.88512696 0.8692907  0.87105998\n",
            " 0.85878416 0.85419716 0.86472556 0.87355013 0.86151455 0.88265868\n",
            " 0.88490858 0.85463405 0.91583838 0.94122022 0.95624816 0.94938952\n",
            " 0.93715729 0.9614687  0.99698564 0.97702099 0.96948509 0.99257329\n",
            " 0.94912741 0.8995871  0.9121033  0.92202003 0.90218643 0.92549314\n",
            " 0.98016641 0.97300193 0.99062935 1.         0.97887774 0.97184418\n",
            " 0.92903172 0.91780432 0.92704392 0.94309869 0.93916696 0.89124314\n",
            " 0.83853568 0.83569596 0.804373   0.82743933 0.85559515 0.86105593\n",
            " 0.82374784 0.82518942 0.80968086 0.79532991 0.81072929 0.78019265\n",
            " 0.77073453 0.78604659 0.81046718 0.83082499 0.83049742 0.82837857\n",
            " 0.82311443 0.82274301 0.8261288  0.80505013 0.79397565 0.78038929\n",
            " 0.72877398 0.69769113 0.67097703 0.66833397 0.67049655 0.66258921\n",
            " 0.623228   0.63740416 0.60487972 0.61593233 0.59930975 0.35739716\n",
            " 0.33478952 0.28950877 0.27483019 0.33380662 0.32869527 0.42214021\n",
            " 0.48764772 0.4272515  0.37509011 0.38507243 0.34575257 0.33218521\n",
            " 0.32829365 0.33363914 0.34580973 0.36134234]\n",
            "6 day output [[0.37688434]]\n",
            "7 day input [0.78309782 0.7836439  0.76444371 0.79766714 0.82230625 0.82844416\n",
            " 0.8070378  0.87575631 0.88512696 0.8692907  0.87105998 0.85878416\n",
            " 0.85419716 0.86472556 0.87355013 0.86151455 0.88265868 0.88490858\n",
            " 0.85463405 0.91583838 0.94122022 0.95624816 0.94938952 0.93715729\n",
            " 0.9614687  0.99698564 0.97702099 0.96948509 0.99257329 0.94912741\n",
            " 0.8995871  0.9121033  0.92202003 0.90218643 0.92549314 0.98016641\n",
            " 0.97300193 0.99062935 1.         0.97887774 0.97184418 0.92903172\n",
            " 0.91780432 0.92704392 0.94309869 0.93916696 0.89124314 0.83853568\n",
            " 0.83569596 0.804373   0.82743933 0.85559515 0.86105593 0.82374784\n",
            " 0.82518942 0.80968086 0.79532991 0.81072929 0.78019265 0.77073453\n",
            " 0.78604659 0.81046718 0.83082499 0.83049742 0.82837857 0.82311443\n",
            " 0.82274301 0.8261288  0.80505013 0.79397565 0.78038929 0.72877398\n",
            " 0.69769113 0.67097703 0.66833397 0.67049655 0.66258921 0.623228\n",
            " 0.63740416 0.60487972 0.61593233 0.59930975 0.35739716 0.33478952\n",
            " 0.28950877 0.27483019 0.33380662 0.32869527 0.42214021 0.48764772\n",
            " 0.4272515  0.37509011 0.38507243 0.34575257 0.33218521 0.32829365\n",
            " 0.33363914 0.34580973 0.36134234 0.37688434]\n",
            "7 day output [[0.38972107]]\n",
            "8 day input [0.7836439  0.76444371 0.79766714 0.82230625 0.82844416 0.8070378\n",
            " 0.87575631 0.88512696 0.8692907  0.87105998 0.85878416 0.85419716\n",
            " 0.86472556 0.87355013 0.86151455 0.88265868 0.88490858 0.85463405\n",
            " 0.91583838 0.94122022 0.95624816 0.94938952 0.93715729 0.9614687\n",
            " 0.99698564 0.97702099 0.96948509 0.99257329 0.94912741 0.8995871\n",
            " 0.9121033  0.92202003 0.90218643 0.92549314 0.98016641 0.97300193\n",
            " 0.99062935 1.         0.97887774 0.97184418 0.92903172 0.91780432\n",
            " 0.92704392 0.94309869 0.93916696 0.89124314 0.83853568 0.83569596\n",
            " 0.804373   0.82743933 0.85559515 0.86105593 0.82374784 0.82518942\n",
            " 0.80968086 0.79532991 0.81072929 0.78019265 0.77073453 0.78604659\n",
            " 0.81046718 0.83082499 0.83049742 0.82837857 0.82311443 0.82274301\n",
            " 0.8261288  0.80505013 0.79397565 0.78038929 0.72877398 0.69769113\n",
            " 0.67097703 0.66833397 0.67049655 0.66258921 0.623228   0.63740416\n",
            " 0.60487972 0.61593233 0.59930975 0.35739716 0.33478952 0.28950877\n",
            " 0.27483019 0.33380662 0.32869527 0.42214021 0.48764772 0.4272515\n",
            " 0.37509011 0.38507243 0.34575257 0.33218521 0.32829365 0.33363914\n",
            " 0.34580973 0.36134234 0.37688434 0.38972107]\n",
            "8 day output [[0.39805818]]\n",
            "9 day input [0.76444371 0.79766714 0.82230625 0.82844416 0.8070378  0.87575631\n",
            " 0.88512696 0.8692907  0.87105998 0.85878416 0.85419716 0.86472556\n",
            " 0.87355013 0.86151455 0.88265868 0.88490858 0.85463405 0.91583838\n",
            " 0.94122022 0.95624816 0.94938952 0.93715729 0.9614687  0.99698564\n",
            " 0.97702099 0.96948509 0.99257329 0.94912741 0.8995871  0.9121033\n",
            " 0.92202003 0.90218643 0.92549314 0.98016641 0.97300193 0.99062935\n",
            " 1.         0.97887774 0.97184418 0.92903172 0.91780432 0.92704392\n",
            " 0.94309869 0.93916696 0.89124314 0.83853568 0.83569596 0.804373\n",
            " 0.82743933 0.85559515 0.86105593 0.82374784 0.82518942 0.80968086\n",
            " 0.79532991 0.81072929 0.78019265 0.77073453 0.78604659 0.81046718\n",
            " 0.83082499 0.83049742 0.82837857 0.82311443 0.82274301 0.8261288\n",
            " 0.80505013 0.79397565 0.78038929 0.72877398 0.69769113 0.67097703\n",
            " 0.66833397 0.67049655 0.66258921 0.623228   0.63740416 0.60487972\n",
            " 0.61593233 0.59930975 0.35739716 0.33478952 0.28950877 0.27483019\n",
            " 0.33380662 0.32869527 0.42214021 0.48764772 0.4272515  0.37509011\n",
            " 0.38507243 0.34575257 0.33218521 0.32829365 0.33363914 0.34580973\n",
            " 0.36134234 0.37688434 0.38972107 0.39805818]\n",
            "9 day output [[0.4011713]]\n",
            "10 day input [0.79766714 0.82230625 0.82844416 0.8070378  0.87575631 0.88512696\n",
            " 0.8692907  0.87105998 0.85878416 0.85419716 0.86472556 0.87355013\n",
            " 0.86151455 0.88265868 0.88490858 0.85463405 0.91583838 0.94122022\n",
            " 0.95624816 0.94938952 0.93715729 0.9614687  0.99698564 0.97702099\n",
            " 0.96948509 0.99257329 0.94912741 0.8995871  0.9121033  0.92202003\n",
            " 0.90218643 0.92549314 0.98016641 0.97300193 0.99062935 1.\n",
            " 0.97887774 0.97184418 0.92903172 0.91780432 0.92704392 0.94309869\n",
            " 0.93916696 0.89124314 0.83853568 0.83569596 0.804373   0.82743933\n",
            " 0.85559515 0.86105593 0.82374784 0.82518942 0.80968086 0.79532991\n",
            " 0.81072929 0.78019265 0.77073453 0.78604659 0.81046718 0.83082499\n",
            " 0.83049742 0.82837857 0.82311443 0.82274301 0.8261288  0.80505013\n",
            " 0.79397565 0.78038929 0.72877398 0.69769113 0.67097703 0.66833397\n",
            " 0.67049655 0.66258921 0.623228   0.63740416 0.60487972 0.61593233\n",
            " 0.59930975 0.35739716 0.33478952 0.28950877 0.27483019 0.33380662\n",
            " 0.32869527 0.42214021 0.48764772 0.4272515  0.37509011 0.38507243\n",
            " 0.34575257 0.33218521 0.32829365 0.33363914 0.34580973 0.36134234\n",
            " 0.37688434 0.38972107 0.39805818 0.4011713 ]\n",
            "10 day output [[0.39940664]]\n",
            "11 day input [0.82230625 0.82844416 0.8070378  0.87575631 0.88512696 0.8692907\n",
            " 0.87105998 0.85878416 0.85419716 0.86472556 0.87355013 0.86151455\n",
            " 0.88265868 0.88490858 0.85463405 0.91583838 0.94122022 0.95624816\n",
            " 0.94938952 0.93715729 0.9614687  0.99698564 0.97702099 0.96948509\n",
            " 0.99257329 0.94912741 0.8995871  0.9121033  0.92202003 0.90218643\n",
            " 0.92549314 0.98016641 0.97300193 0.99062935 1.         0.97887774\n",
            " 0.97184418 0.92903172 0.91780432 0.92704392 0.94309869 0.93916696\n",
            " 0.89124314 0.83853568 0.83569596 0.804373   0.82743933 0.85559515\n",
            " 0.86105593 0.82374784 0.82518942 0.80968086 0.79532991 0.81072929\n",
            " 0.78019265 0.77073453 0.78604659 0.81046718 0.83082499 0.83049742\n",
            " 0.82837857 0.82311443 0.82274301 0.8261288  0.80505013 0.79397565\n",
            " 0.78038929 0.72877398 0.69769113 0.67097703 0.66833397 0.67049655\n",
            " 0.66258921 0.623228   0.63740416 0.60487972 0.61593233 0.59930975\n",
            " 0.35739716 0.33478952 0.28950877 0.27483019 0.33380662 0.32869527\n",
            " 0.42214021 0.48764772 0.4272515  0.37509011 0.38507243 0.34575257\n",
            " 0.33218521 0.32829365 0.33363914 0.34580973 0.36134234 0.37688434\n",
            " 0.38972107 0.39805818 0.4011713  0.39940664]\n",
            "11 day output [[0.39400038]]\n",
            "12 day input [0.82844416 0.8070378  0.87575631 0.88512696 0.8692907  0.87105998\n",
            " 0.85878416 0.85419716 0.86472556 0.87355013 0.86151455 0.88265868\n",
            " 0.88490858 0.85463405 0.91583838 0.94122022 0.95624816 0.94938952\n",
            " 0.93715729 0.9614687  0.99698564 0.97702099 0.96948509 0.99257329\n",
            " 0.94912741 0.8995871  0.9121033  0.92202003 0.90218643 0.92549314\n",
            " 0.98016641 0.97300193 0.99062935 1.         0.97887774 0.97184418\n",
            " 0.92903172 0.91780432 0.92704392 0.94309869 0.93916696 0.89124314\n",
            " 0.83853568 0.83569596 0.804373   0.82743933 0.85559515 0.86105593\n",
            " 0.82374784 0.82518942 0.80968086 0.79532991 0.81072929 0.78019265\n",
            " 0.77073453 0.78604659 0.81046718 0.83082499 0.83049742 0.82837857\n",
            " 0.82311443 0.82274301 0.8261288  0.80505013 0.79397565 0.78038929\n",
            " 0.72877398 0.69769113 0.67097703 0.66833397 0.67049655 0.66258921\n",
            " 0.623228   0.63740416 0.60487972 0.61593233 0.59930975 0.35739716\n",
            " 0.33478952 0.28950877 0.27483019 0.33380662 0.32869527 0.42214021\n",
            " 0.48764772 0.4272515  0.37509011 0.38507243 0.34575257 0.33218521\n",
            " 0.32829365 0.33363914 0.34580973 0.36134234 0.37688434 0.38972107\n",
            " 0.39805818 0.4011713  0.39940664 0.39400038]\n",
            "12 day output [[0.38672712]]\n",
            "13 day input [0.8070378  0.87575631 0.88512696 0.8692907  0.87105998 0.85878416\n",
            " 0.85419716 0.86472556 0.87355013 0.86151455 0.88265868 0.88490858\n",
            " 0.85463405 0.91583838 0.94122022 0.95624816 0.94938952 0.93715729\n",
            " 0.9614687  0.99698564 0.97702099 0.96948509 0.99257329 0.94912741\n",
            " 0.8995871  0.9121033  0.92202003 0.90218643 0.92549314 0.98016641\n",
            " 0.97300193 0.99062935 1.         0.97887774 0.97184418 0.92903172\n",
            " 0.91780432 0.92704392 0.94309869 0.93916696 0.89124314 0.83853568\n",
            " 0.83569596 0.804373   0.82743933 0.85559515 0.86105593 0.82374784\n",
            " 0.82518942 0.80968086 0.79532991 0.81072929 0.78019265 0.77073453\n",
            " 0.78604659 0.81046718 0.83082499 0.83049742 0.82837857 0.82311443\n",
            " 0.82274301 0.8261288  0.80505013 0.79397565 0.78038929 0.72877398\n",
            " 0.69769113 0.67097703 0.66833397 0.67049655 0.66258921 0.623228\n",
            " 0.63740416 0.60487972 0.61593233 0.59930975 0.35739716 0.33478952\n",
            " 0.28950877 0.27483019 0.33380662 0.32869527 0.42214021 0.48764772\n",
            " 0.4272515  0.37509011 0.38507243 0.34575257 0.33218521 0.32829365\n",
            " 0.33363914 0.34580973 0.36134234 0.37688434 0.38972107 0.39805818\n",
            " 0.4011713  0.39940664 0.39400038 0.38672712]\n",
            "13 day output [[0.37945235]]\n",
            "14 day input [0.87575631 0.88512696 0.8692907  0.87105998 0.85878416 0.85419716\n",
            " 0.86472556 0.87355013 0.86151455 0.88265868 0.88490858 0.85463405\n",
            " 0.91583838 0.94122022 0.95624816 0.94938952 0.93715729 0.9614687\n",
            " 0.99698564 0.97702099 0.96948509 0.99257329 0.94912741 0.8995871\n",
            " 0.9121033  0.92202003 0.90218643 0.92549314 0.98016641 0.97300193\n",
            " 0.99062935 1.         0.97887774 0.97184418 0.92903172 0.91780432\n",
            " 0.92704392 0.94309869 0.93916696 0.89124314 0.83853568 0.83569596\n",
            " 0.804373   0.82743933 0.85559515 0.86105593 0.82374784 0.82518942\n",
            " 0.80968086 0.79532991 0.81072929 0.78019265 0.77073453 0.78604659\n",
            " 0.81046718 0.83082499 0.83049742 0.82837857 0.82311443 0.82274301\n",
            " 0.8261288  0.80505013 0.79397565 0.78038929 0.72877398 0.69769113\n",
            " 0.67097703 0.66833397 0.67049655 0.66258921 0.623228   0.63740416\n",
            " 0.60487972 0.61593233 0.59930975 0.35739716 0.33478952 0.28950877\n",
            " 0.27483019 0.33380662 0.32869527 0.42214021 0.48764772 0.4272515\n",
            " 0.37509011 0.38507243 0.34575257 0.33218521 0.32829365 0.33363914\n",
            " 0.34580973 0.36134234 0.37688434 0.38972107 0.39805818 0.4011713\n",
            " 0.39940664 0.39400038 0.38672712 0.37945235]\n",
            "14 day output [[0.3737131]]\n",
            "15 day input [0.88512696 0.8692907  0.87105998 0.85878416 0.85419716 0.86472556\n",
            " 0.87355013 0.86151455 0.88265868 0.88490858 0.85463405 0.91583838\n",
            " 0.94122022 0.95624816 0.94938952 0.93715729 0.9614687  0.99698564\n",
            " 0.97702099 0.96948509 0.99257329 0.94912741 0.8995871  0.9121033\n",
            " 0.92202003 0.90218643 0.92549314 0.98016641 0.97300193 0.99062935\n",
            " 1.         0.97887774 0.97184418 0.92903172 0.91780432 0.92704392\n",
            " 0.94309869 0.93916696 0.89124314 0.83853568 0.83569596 0.804373\n",
            " 0.82743933 0.85559515 0.86105593 0.82374784 0.82518942 0.80968086\n",
            " 0.79532991 0.81072929 0.78019265 0.77073453 0.78604659 0.81046718\n",
            " 0.83082499 0.83049742 0.82837857 0.82311443 0.82274301 0.8261288\n",
            " 0.80505013 0.79397565 0.78038929 0.72877398 0.69769113 0.67097703\n",
            " 0.66833397 0.67049655 0.66258921 0.623228   0.63740416 0.60487972\n",
            " 0.61593233 0.59930975 0.35739716 0.33478952 0.28950877 0.27483019\n",
            " 0.33380662 0.32869527 0.42214021 0.48764772 0.4272515  0.37509011\n",
            " 0.38507243 0.34575257 0.33218521 0.32829365 0.33363914 0.34580973\n",
            " 0.36134234 0.37688434 0.38972107 0.39805818 0.4011713  0.39940664\n",
            " 0.39400038 0.38672712 0.37945235 0.37371311]\n",
            "15 day output [[0.37043583]]\n",
            "16 day input [0.8692907  0.87105998 0.85878416 0.85419716 0.86472556 0.87355013\n",
            " 0.86151455 0.88265868 0.88490858 0.85463405 0.91583838 0.94122022\n",
            " 0.95624816 0.94938952 0.93715729 0.9614687  0.99698564 0.97702099\n",
            " 0.96948509 0.99257329 0.94912741 0.8995871  0.9121033  0.92202003\n",
            " 0.90218643 0.92549314 0.98016641 0.97300193 0.99062935 1.\n",
            " 0.97887774 0.97184418 0.92903172 0.91780432 0.92704392 0.94309869\n",
            " 0.93916696 0.89124314 0.83853568 0.83569596 0.804373   0.82743933\n",
            " 0.85559515 0.86105593 0.82374784 0.82518942 0.80968086 0.79532991\n",
            " 0.81072929 0.78019265 0.77073453 0.78604659 0.81046718 0.83082499\n",
            " 0.83049742 0.82837857 0.82311443 0.82274301 0.8261288  0.80505013\n",
            " 0.79397565 0.78038929 0.72877398 0.69769113 0.67097703 0.66833397\n",
            " 0.67049655 0.66258921 0.623228   0.63740416 0.60487972 0.61593233\n",
            " 0.59930975 0.35739716 0.33478952 0.28950877 0.27483019 0.33380662\n",
            " 0.32869527 0.42214021 0.48764772 0.4272515  0.37509011 0.38507243\n",
            " 0.34575257 0.33218521 0.32829365 0.33363914 0.34580973 0.36134234\n",
            " 0.37688434 0.38972107 0.39805818 0.4011713  0.39940664 0.39400038\n",
            " 0.38672712 0.37945235 0.37371311 0.37043583]\n",
            "16 day output [[0.3698481]]\n",
            "17 day input [0.87105998 0.85878416 0.85419716 0.86472556 0.87355013 0.86151455\n",
            " 0.88265868 0.88490858 0.85463405 0.91583838 0.94122022 0.95624816\n",
            " 0.94938952 0.93715729 0.9614687  0.99698564 0.97702099 0.96948509\n",
            " 0.99257329 0.94912741 0.8995871  0.9121033  0.92202003 0.90218643\n",
            " 0.92549314 0.98016641 0.97300193 0.99062935 1.         0.97887774\n",
            " 0.97184418 0.92903172 0.91780432 0.92704392 0.94309869 0.93916696\n",
            " 0.89124314 0.83853568 0.83569596 0.804373   0.82743933 0.85559515\n",
            " 0.86105593 0.82374784 0.82518942 0.80968086 0.79532991 0.81072929\n",
            " 0.78019265 0.77073453 0.78604659 0.81046718 0.83082499 0.83049742\n",
            " 0.82837857 0.82311443 0.82274301 0.8261288  0.80505013 0.79397565\n",
            " 0.78038929 0.72877398 0.69769113 0.67097703 0.66833397 0.67049655\n",
            " 0.66258921 0.623228   0.63740416 0.60487972 0.61593233 0.59930975\n",
            " 0.35739716 0.33478952 0.28950877 0.27483019 0.33380662 0.32869527\n",
            " 0.42214021 0.48764772 0.4272515  0.37509011 0.38507243 0.34575257\n",
            " 0.33218521 0.32829365 0.33363914 0.34580973 0.36134234 0.37688434\n",
            " 0.38972107 0.39805818 0.4011713  0.39940664 0.39400038 0.38672712\n",
            " 0.37945235 0.37371311 0.37043583 0.3698481 ]\n",
            "17 day output [[0.3715659]]\n",
            "18 day input [0.85878416 0.85419716 0.86472556 0.87355013 0.86151455 0.88265868\n",
            " 0.88490858 0.85463405 0.91583838 0.94122022 0.95624816 0.94938952\n",
            " 0.93715729 0.9614687  0.99698564 0.97702099 0.96948509 0.99257329\n",
            " 0.94912741 0.8995871  0.9121033  0.92202003 0.90218643 0.92549314\n",
            " 0.98016641 0.97300193 0.99062935 1.         0.97887774 0.97184418\n",
            " 0.92903172 0.91780432 0.92704392 0.94309869 0.93916696 0.89124314\n",
            " 0.83853568 0.83569596 0.804373   0.82743933 0.85559515 0.86105593\n",
            " 0.82374784 0.82518942 0.80968086 0.79532991 0.81072929 0.78019265\n",
            " 0.77073453 0.78604659 0.81046718 0.83082499 0.83049742 0.82837857\n",
            " 0.82311443 0.82274301 0.8261288  0.80505013 0.79397565 0.78038929\n",
            " 0.72877398 0.69769113 0.67097703 0.66833397 0.67049655 0.66258921\n",
            " 0.623228   0.63740416 0.60487972 0.61593233 0.59930975 0.35739716\n",
            " 0.33478952 0.28950877 0.27483019 0.33380662 0.32869527 0.42214021\n",
            " 0.48764772 0.4272515  0.37509011 0.38507243 0.34575257 0.33218521\n",
            " 0.32829365 0.33363914 0.34580973 0.36134234 0.37688434 0.38972107\n",
            " 0.39805818 0.4011713  0.39940664 0.39400038 0.38672712 0.37945235\n",
            " 0.37371311 0.37043583 0.3698481  0.37156591]\n",
            "18 day output [[0.37479222]]\n",
            "19 day input [0.85419716 0.86472556 0.87355013 0.86151455 0.88265868 0.88490858\n",
            " 0.85463405 0.91583838 0.94122022 0.95624816 0.94938952 0.93715729\n",
            " 0.9614687  0.99698564 0.97702099 0.96948509 0.99257329 0.94912741\n",
            " 0.8995871  0.9121033  0.92202003 0.90218643 0.92549314 0.98016641\n",
            " 0.97300193 0.99062935 1.         0.97887774 0.97184418 0.92903172\n",
            " 0.91780432 0.92704392 0.94309869 0.93916696 0.89124314 0.83853568\n",
            " 0.83569596 0.804373   0.82743933 0.85559515 0.86105593 0.82374784\n",
            " 0.82518942 0.80968086 0.79532991 0.81072929 0.78019265 0.77073453\n",
            " 0.78604659 0.81046718 0.83082499 0.83049742 0.82837857 0.82311443\n",
            " 0.82274301 0.8261288  0.80505013 0.79397565 0.78038929 0.72877398\n",
            " 0.69769113 0.67097703 0.66833397 0.67049655 0.66258921 0.623228\n",
            " 0.63740416 0.60487972 0.61593233 0.59930975 0.35739716 0.33478952\n",
            " 0.28950877 0.27483019 0.33380662 0.32869527 0.42214021 0.48764772\n",
            " 0.4272515  0.37509011 0.38507243 0.34575257 0.33218521 0.32829365\n",
            " 0.33363914 0.34580973 0.36134234 0.37688434 0.38972107 0.39805818\n",
            " 0.4011713  0.39940664 0.39400038 0.38672712 0.37945235 0.37371311\n",
            " 0.37043583 0.3698481  0.37156591 0.37479222]\n",
            "19 day output [[0.37855345]]\n",
            "20 day input [0.86472556 0.87355013 0.86151455 0.88265868 0.88490858 0.85463405\n",
            " 0.91583838 0.94122022 0.95624816 0.94938952 0.93715729 0.9614687\n",
            " 0.99698564 0.97702099 0.96948509 0.99257329 0.94912741 0.8995871\n",
            " 0.9121033  0.92202003 0.90218643 0.92549314 0.98016641 0.97300193\n",
            " 0.99062935 1.         0.97887774 0.97184418 0.92903172 0.91780432\n",
            " 0.92704392 0.94309869 0.93916696 0.89124314 0.83853568 0.83569596\n",
            " 0.804373   0.82743933 0.85559515 0.86105593 0.82374784 0.82518942\n",
            " 0.80968086 0.79532991 0.81072929 0.78019265 0.77073453 0.78604659\n",
            " 0.81046718 0.83082499 0.83049742 0.82837857 0.82311443 0.82274301\n",
            " 0.8261288  0.80505013 0.79397565 0.78038929 0.72877398 0.69769113\n",
            " 0.67097703 0.66833397 0.67049655 0.66258921 0.623228   0.63740416\n",
            " 0.60487972 0.61593233 0.59930975 0.35739716 0.33478952 0.28950877\n",
            " 0.27483019 0.33380662 0.32869527 0.42214021 0.48764772 0.4272515\n",
            " 0.37509011 0.38507243 0.34575257 0.33218521 0.32829365 0.33363914\n",
            " 0.34580973 0.36134234 0.37688434 0.38972107 0.39805818 0.4011713\n",
            " 0.39940664 0.39400038 0.38672712 0.37945235 0.37371311 0.37043583\n",
            " 0.3698481  0.37156591 0.37479222 0.37855345]\n",
            "20 day output [[0.38191968]]\n",
            "21 day input [0.87355013 0.86151455 0.88265868 0.88490858 0.85463405 0.91583838\n",
            " 0.94122022 0.95624816 0.94938952 0.93715729 0.9614687  0.99698564\n",
            " 0.97702099 0.96948509 0.99257329 0.94912741 0.8995871  0.9121033\n",
            " 0.92202003 0.90218643 0.92549314 0.98016641 0.97300193 0.99062935\n",
            " 1.         0.97887774 0.97184418 0.92903172 0.91780432 0.92704392\n",
            " 0.94309869 0.93916696 0.89124314 0.83853568 0.83569596 0.804373\n",
            " 0.82743933 0.85559515 0.86105593 0.82374784 0.82518942 0.80968086\n",
            " 0.79532991 0.81072929 0.78019265 0.77073453 0.78604659 0.81046718\n",
            " 0.83082499 0.83049742 0.82837857 0.82311443 0.82274301 0.8261288\n",
            " 0.80505013 0.79397565 0.78038929 0.72877398 0.69769113 0.67097703\n",
            " 0.66833397 0.67049655 0.66258921 0.623228   0.63740416 0.60487972\n",
            " 0.61593233 0.59930975 0.35739716 0.33478952 0.28950877 0.27483019\n",
            " 0.33380662 0.32869527 0.42214021 0.48764772 0.4272515  0.37509011\n",
            " 0.38507243 0.34575257 0.33218521 0.32829365 0.33363914 0.34580973\n",
            " 0.36134234 0.37688434 0.38972107 0.39805818 0.4011713  0.39940664\n",
            " 0.39400038 0.38672712 0.37945235 0.37371311 0.37043583 0.3698481\n",
            " 0.37156591 0.37479222 0.37855345 0.38191968]\n",
            "21 day output [[0.38417298]]\n",
            "22 day input [0.86151455 0.88265868 0.88490858 0.85463405 0.91583838 0.94122022\n",
            " 0.95624816 0.94938952 0.93715729 0.9614687  0.99698564 0.97702099\n",
            " 0.96948509 0.99257329 0.94912741 0.8995871  0.9121033  0.92202003\n",
            " 0.90218643 0.92549314 0.98016641 0.97300193 0.99062935 1.\n",
            " 0.97887774 0.97184418 0.92903172 0.91780432 0.92704392 0.94309869\n",
            " 0.93916696 0.89124314 0.83853568 0.83569596 0.804373   0.82743933\n",
            " 0.85559515 0.86105593 0.82374784 0.82518942 0.80968086 0.79532991\n",
            " 0.81072929 0.78019265 0.77073453 0.78604659 0.81046718 0.83082499\n",
            " 0.83049742 0.82837857 0.82311443 0.82274301 0.8261288  0.80505013\n",
            " 0.79397565 0.78038929 0.72877398 0.69769113 0.67097703 0.66833397\n",
            " 0.67049655 0.66258921 0.623228   0.63740416 0.60487972 0.61593233\n",
            " 0.59930975 0.35739716 0.33478952 0.28950877 0.27483019 0.33380662\n",
            " 0.32869527 0.42214021 0.48764772 0.4272515  0.37509011 0.38507243\n",
            " 0.34575257 0.33218521 0.32829365 0.33363914 0.34580973 0.36134234\n",
            " 0.37688434 0.38972107 0.39805818 0.4011713  0.39940664 0.39400038\n",
            " 0.38672712 0.37945235 0.37371311 0.37043583 0.3698481  0.37156591\n",
            " 0.37479222 0.37855345 0.38191968 0.38417298]\n",
            "22 day output [[0.38491046]]\n",
            "23 day input [0.88265868 0.88490858 0.85463405 0.91583838 0.94122022 0.95624816\n",
            " 0.94938952 0.93715729 0.9614687  0.99698564 0.97702099 0.96948509\n",
            " 0.99257329 0.94912741 0.8995871  0.9121033  0.92202003 0.90218643\n",
            " 0.92549314 0.98016641 0.97300193 0.99062935 1.         0.97887774\n",
            " 0.97184418 0.92903172 0.91780432 0.92704392 0.94309869 0.93916696\n",
            " 0.89124314 0.83853568 0.83569596 0.804373   0.82743933 0.85559515\n",
            " 0.86105593 0.82374784 0.82518942 0.80968086 0.79532991 0.81072929\n",
            " 0.78019265 0.77073453 0.78604659 0.81046718 0.83082499 0.83049742\n",
            " 0.82837857 0.82311443 0.82274301 0.8261288  0.80505013 0.79397565\n",
            " 0.78038929 0.72877398 0.69769113 0.67097703 0.66833397 0.67049655\n",
            " 0.66258921 0.623228   0.63740416 0.60487972 0.61593233 0.59930975\n",
            " 0.35739716 0.33478952 0.28950877 0.27483019 0.33380662 0.32869527\n",
            " 0.42214021 0.48764772 0.4272515  0.37509011 0.38507243 0.34575257\n",
            " 0.33218521 0.32829365 0.33363914 0.34580973 0.36134234 0.37688434\n",
            " 0.38972107 0.39805818 0.4011713  0.39940664 0.39400038 0.38672712\n",
            " 0.37945235 0.37371311 0.37043583 0.3698481  0.37156591 0.37479222\n",
            " 0.37855345 0.38191968 0.38417298 0.38491046]\n",
            "23 day output [[0.38407385]]\n",
            "24 day input [0.88490858 0.85463405 0.91583838 0.94122022 0.95624816 0.94938952\n",
            " 0.93715729 0.9614687  0.99698564 0.97702099 0.96948509 0.99257329\n",
            " 0.94912741 0.8995871  0.9121033  0.92202003 0.90218643 0.92549314\n",
            " 0.98016641 0.97300193 0.99062935 1.         0.97887774 0.97184418\n",
            " 0.92903172 0.91780432 0.92704392 0.94309869 0.93916696 0.89124314\n",
            " 0.83853568 0.83569596 0.804373   0.82743933 0.85559515 0.86105593\n",
            " 0.82374784 0.82518942 0.80968086 0.79532991 0.81072929 0.78019265\n",
            " 0.77073453 0.78604659 0.81046718 0.83082499 0.83049742 0.82837857\n",
            " 0.82311443 0.82274301 0.8261288  0.80505013 0.79397565 0.78038929\n",
            " 0.72877398 0.69769113 0.67097703 0.66833397 0.67049655 0.66258921\n",
            " 0.623228   0.63740416 0.60487972 0.61593233 0.59930975 0.35739716\n",
            " 0.33478952 0.28950877 0.27483019 0.33380662 0.32869527 0.42214021\n",
            " 0.48764772 0.4272515  0.37509011 0.38507243 0.34575257 0.33218521\n",
            " 0.32829365 0.33363914 0.34580973 0.36134234 0.37688434 0.38972107\n",
            " 0.39805818 0.4011713  0.39940664 0.39400038 0.38672712 0.37945235\n",
            " 0.37371311 0.37043583 0.3698481  0.37156591 0.37479222 0.37855345\n",
            " 0.38191968 0.38417298 0.38491046 0.38407385]\n",
            "24 day output [[0.381911]]\n",
            "25 day input [0.85463405 0.91583838 0.94122022 0.95624816 0.94938952 0.93715729\n",
            " 0.9614687  0.99698564 0.97702099 0.96948509 0.99257329 0.94912741\n",
            " 0.8995871  0.9121033  0.92202003 0.90218643 0.92549314 0.98016641\n",
            " 0.97300193 0.99062935 1.         0.97887774 0.97184418 0.92903172\n",
            " 0.91780432 0.92704392 0.94309869 0.93916696 0.89124314 0.83853568\n",
            " 0.83569596 0.804373   0.82743933 0.85559515 0.86105593 0.82374784\n",
            " 0.82518942 0.80968086 0.79532991 0.81072929 0.78019265 0.77073453\n",
            " 0.78604659 0.81046718 0.83082499 0.83049742 0.82837857 0.82311443\n",
            " 0.82274301 0.8261288  0.80505013 0.79397565 0.78038929 0.72877398\n",
            " 0.69769113 0.67097703 0.66833397 0.67049655 0.66258921 0.623228\n",
            " 0.63740416 0.60487972 0.61593233 0.59930975 0.35739716 0.33478952\n",
            " 0.28950877 0.27483019 0.33380662 0.32869527 0.42214021 0.48764772\n",
            " 0.4272515  0.37509011 0.38507243 0.34575257 0.33218521 0.32829365\n",
            " 0.33363914 0.34580973 0.36134234 0.37688434 0.38972107 0.39805818\n",
            " 0.4011713  0.39940664 0.39400038 0.38672712 0.37945235 0.37371311\n",
            " 0.37043583 0.3698481  0.37156591 0.37479222 0.37855345 0.38191968\n",
            " 0.38417298 0.38491046 0.38407385 0.38191101]\n",
            "25 day output [[0.37888187]]\n",
            "26 day input [0.91583838 0.94122022 0.95624816 0.94938952 0.93715729 0.9614687\n",
            " 0.99698564 0.97702099 0.96948509 0.99257329 0.94912741 0.8995871\n",
            " 0.9121033  0.92202003 0.90218643 0.92549314 0.98016641 0.97300193\n",
            " 0.99062935 1.         0.97887774 0.97184418 0.92903172 0.91780432\n",
            " 0.92704392 0.94309869 0.93916696 0.89124314 0.83853568 0.83569596\n",
            " 0.804373   0.82743933 0.85559515 0.86105593 0.82374784 0.82518942\n",
            " 0.80968086 0.79532991 0.81072929 0.78019265 0.77073453 0.78604659\n",
            " 0.81046718 0.83082499 0.83049742 0.82837857 0.82311443 0.82274301\n",
            " 0.8261288  0.80505013 0.79397565 0.78038929 0.72877398 0.69769113\n",
            " 0.67097703 0.66833397 0.67049655 0.66258921 0.623228   0.63740416\n",
            " 0.60487972 0.61593233 0.59930975 0.35739716 0.33478952 0.28950877\n",
            " 0.27483019 0.33380662 0.32869527 0.42214021 0.48764772 0.4272515\n",
            " 0.37509011 0.38507243 0.34575257 0.33218521 0.32829365 0.33363914\n",
            " 0.34580973 0.36134234 0.37688434 0.38972107 0.39805818 0.4011713\n",
            " 0.39940664 0.39400038 0.38672712 0.37945235 0.37371311 0.37043583\n",
            " 0.3698481  0.37156591 0.37479222 0.37855345 0.38191968 0.38417298\n",
            " 0.38491046 0.38407385 0.38191101 0.37888187]\n",
            "26 day output [[0.37553358]]\n",
            "27 day input [0.94122022 0.95624816 0.94938952 0.93715729 0.9614687  0.99698564\n",
            " 0.97702099 0.96948509 0.99257329 0.94912741 0.8995871  0.9121033\n",
            " 0.92202003 0.90218643 0.92549314 0.98016641 0.97300193 0.99062935\n",
            " 1.         0.97887774 0.97184418 0.92903172 0.91780432 0.92704392\n",
            " 0.94309869 0.93916696 0.89124314 0.83853568 0.83569596 0.804373\n",
            " 0.82743933 0.85559515 0.86105593 0.82374784 0.82518942 0.80968086\n",
            " 0.79532991 0.81072929 0.78019265 0.77073453 0.78604659 0.81046718\n",
            " 0.83082499 0.83049742 0.82837857 0.82311443 0.82274301 0.8261288\n",
            " 0.80505013 0.79397565 0.78038929 0.72877398 0.69769113 0.67097703\n",
            " 0.66833397 0.67049655 0.66258921 0.623228   0.63740416 0.60487972\n",
            " 0.61593233 0.59930975 0.35739716 0.33478952 0.28950877 0.27483019\n",
            " 0.33380662 0.32869527 0.42214021 0.48764772 0.4272515  0.37509011\n",
            " 0.38507243 0.34575257 0.33218521 0.32829365 0.33363914 0.34580973\n",
            " 0.36134234 0.37688434 0.38972107 0.39805818 0.4011713  0.39940664\n",
            " 0.39400038 0.38672712 0.37945235 0.37371311 0.37043583 0.3698481\n",
            " 0.37156591 0.37479222 0.37855345 0.38191968 0.38417298 0.38491046\n",
            " 0.38407385 0.38191101 0.37888187 0.37553358]\n",
            "27 day output [[0.3723763]]\n",
            "28 day input [0.95624816 0.94938952 0.93715729 0.9614687  0.99698564 0.97702099\n",
            " 0.96948509 0.99257329 0.94912741 0.8995871  0.9121033  0.92202003\n",
            " 0.90218643 0.92549314 0.98016641 0.97300193 0.99062935 1.\n",
            " 0.97887774 0.97184418 0.92903172 0.91780432 0.92704392 0.94309869\n",
            " 0.93916696 0.89124314 0.83853568 0.83569596 0.804373   0.82743933\n",
            " 0.85559515 0.86105593 0.82374784 0.82518942 0.80968086 0.79532991\n",
            " 0.81072929 0.78019265 0.77073453 0.78604659 0.81046718 0.83082499\n",
            " 0.83049742 0.82837857 0.82311443 0.82274301 0.8261288  0.80505013\n",
            " 0.79397565 0.78038929 0.72877398 0.69769113 0.67097703 0.66833397\n",
            " 0.67049655 0.66258921 0.623228   0.63740416 0.60487972 0.61593233\n",
            " 0.59930975 0.35739716 0.33478952 0.28950877 0.27483019 0.33380662\n",
            " 0.32869527 0.42214021 0.48764772 0.4272515  0.37509011 0.38507243\n",
            " 0.34575257 0.33218521 0.32829365 0.33363914 0.34580973 0.36134234\n",
            " 0.37688434 0.38972107 0.39805818 0.4011713  0.39940664 0.39400038\n",
            " 0.38672712 0.37945235 0.37371311 0.37043583 0.3698481  0.37156591\n",
            " 0.37479222 0.37855345 0.38191968 0.38417298 0.38491046 0.38407385\n",
            " 0.38191101 0.37888187 0.37553358 0.37237629]\n",
            "28 day output [[0.36978444]]\n",
            "29 day input [0.94938952 0.93715729 0.9614687  0.99698564 0.97702099 0.96948509\n",
            " 0.99257329 0.94912741 0.8995871  0.9121033  0.92202003 0.90218643\n",
            " 0.92549314 0.98016641 0.97300193 0.99062935 1.         0.97887774\n",
            " 0.97184418 0.92903172 0.91780432 0.92704392 0.94309869 0.93916696\n",
            " 0.89124314 0.83853568 0.83569596 0.804373   0.82743933 0.85559515\n",
            " 0.86105593 0.82374784 0.82518942 0.80968086 0.79532991 0.81072929\n",
            " 0.78019265 0.77073453 0.78604659 0.81046718 0.83082499 0.83049742\n",
            " 0.82837857 0.82311443 0.82274301 0.8261288  0.80505013 0.79397565\n",
            " 0.78038929 0.72877398 0.69769113 0.67097703 0.66833397 0.67049655\n",
            " 0.66258921 0.623228   0.63740416 0.60487972 0.61593233 0.59930975\n",
            " 0.35739716 0.33478952 0.28950877 0.27483019 0.33380662 0.32869527\n",
            " 0.42214021 0.48764772 0.4272515  0.37509011 0.38507243 0.34575257\n",
            " 0.33218521 0.32829365 0.33363914 0.34580973 0.36134234 0.37688434\n",
            " 0.38972107 0.39805818 0.4011713  0.39940664 0.39400038 0.38672712\n",
            " 0.37945235 0.37371311 0.37043583 0.3698481  0.37156591 0.37479222\n",
            " 0.37855345 0.38191968 0.38417298 0.38491046 0.38407385 0.38191101\n",
            " 0.37888187 0.37553358 0.37237629 0.36978444]\n",
            "29 day output [[0.36794427]]\n"
          ]
        }
      ]
    },
    {
      "cell_type": "code",
      "source": [
        "print(lst_output)"
      ],
      "metadata": {
        "colab": {
          "base_uri": "https://localhost:8080/"
        },
        "id": "pla6EunYXF3C",
        "outputId": "1d521991-2f17-4572-b524-986688cdc788"
      },
      "execution_count": 120,
      "outputs": [
        {
          "output_type": "stream",
          "name": "stdout",
          "text": [
            "[[0.3457525670528412], [0.33218520879745483], [0.32829365134239197], [0.33363914489746094], [0.3458097279071808], [0.36134234070777893], [0.3768843412399292], [0.3897210657596588], [0.3980581760406494], [0.4011712968349457], [0.39940664172172546], [0.394000381231308], [0.38672712445259094], [0.37945234775543213], [0.37371310591697693], [0.37043583393096924], [0.3698481023311615], [0.37156590819358826], [0.374792218208313], [0.37855345010757446], [0.3819196820259094], [0.3841729760169983], [0.3849104642868042], [0.3840738534927368], [0.3819110095500946], [0.37888187170028687], [0.3755335807800293], [0.37237629294395447], [0.3697844445705414], [0.36794427037239075]]\n"
          ]
        }
      ]
    },
    {
      "cell_type": "code",
      "source": [
        "# day_new is to store data about the previous 100 days\n",
        "day_new=np.arange(1,101)\n",
        "\n",
        "# day_pred is to store the data about the predicted 30 days\n",
        "day_pred=np.arange(101,131)"
      ],
      "metadata": {
        "id": "cMxiLsaHXMpi"
      },
      "execution_count": 121,
      "outputs": []
    },
    {
      "cell_type": "code",
      "source": [
        "len(df1)"
      ],
      "metadata": {
        "colab": {
          "base_uri": "https://localhost:8080/"
        },
        "id": "epQpqjFPXrL2",
        "outputId": "b045b094-029a-4a1b-99fe-509b5dfe0e06"
      },
      "execution_count": 122,
      "outputs": [
        {
          "output_type": "execute_result",
          "data": {
            "text/plain": [
              "1009"
            ]
          },
          "metadata": {},
          "execution_count": 122
        }
      ]
    },
    {
      "cell_type": "code",
      "source": [
        "len(df1) - 100"
      ],
      "metadata": {
        "colab": {
          "base_uri": "https://localhost:8080/"
        },
        "id": "ZQ98vJHaXuAB",
        "outputId": "4aaf2ef8-e8b4-4916-8375-e942982ddec9"
      },
      "execution_count": 123,
      "outputs": [
        {
          "output_type": "execute_result",
          "data": {
            "text/plain": [
              "909"
            ]
          },
          "metadata": {},
          "execution_count": 123
        }
      ]
    },
    {
      "cell_type": "code",
      "source": [
        "plt.plot(day_new,scaler.inverse_transform(df1[909:]))\n",
        "plt.plot(day_pred,scaler.inverse_transform(lst_output))"
      ],
      "metadata": {
        "colab": {
          "base_uri": "https://localhost:8080/",
          "height": 447
        },
        "id": "Bz-bHBYKX5cI",
        "outputId": "53e21be1-9e34-489b-9e52-4c0b63c4e38e"
      },
      "execution_count": 124,
      "outputs": [
        {
          "output_type": "execute_result",
          "data": {
            "text/plain": [
              "[<matplotlib.lines.Line2D at 0x7f2995281d00>]"
            ]
          },
          "metadata": {},
          "execution_count": 124
        },
        {
          "output_type": "display_data",
          "data": {
            "text/plain": [
              "<Figure size 640x480 with 1 Axes>"
            ],
            "image/png": "[encoded data removed]"
          },
          "metadata": {}
        }
      ]
    },
    {
      "cell_type": "code",
      "source": [
        "df3=df1.tolist()\n",
        "df3.extend(lst_output)\n",
        "plt.plot(df3[909:])"
      ],
      "metadata": {
        "colab": {
          "base_uri": "https://localhost:8080/",
          "height": 447
        },
        "id": "nhDtdCASYF1N",
        "outputId": "8b3f26dc-6807-4864-8557-aaa086ade949"
      },
      "execution_count": 127,
      "outputs": [
        {
          "output_type": "execute_result",
          "data": {
            "text/plain": [
              "[<matplotlib.lines.Line2D at 0x7f2992863760>]"
            ]
          },
          "metadata": {},
          "execution_count": 127
        },
        {
          "output_type": "display_data",
          "data": {
            "text/plain": [
              "<Figure size 640x480 with 1 Axes>"
            ],
            "image/png": "[encoded data removed]"
          },
          "metadata": {}
        }
      ]
    }
  ]
}