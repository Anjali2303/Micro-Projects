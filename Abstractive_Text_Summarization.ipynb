{
  "nbformat": 4,
  "nbformat_minor": 0,
  "metadata": {
    "colab": {
      "provenance": [],
      "collapsed_sections": [
        "5Qq-LiXZ1iba"
      ]
    },
    "kernelspec": {
      "name": "python3",
      "display_name": "Python 3"
    },
    "language_info": {
      "name": "python"
    }
  },
  "cells": [
    {
      "cell_type": "markdown",
      "source": [
        "## Installing dependencies"
      ],
      "metadata": {
        "id": "5Qq-LiXZ1iba"
      }
    },
    {
      "cell_type": "code",
      "execution_count": 81,
      "metadata": {
        "colab": {
          "base_uri": "https://localhost:8080/"
        },
        "id": "-DCMAdf01F6J",
        "outputId": "61a31b3d-1cc0-44e1-9aa9-39234a7b7bbf"
      },
      "outputs": [
        {
          "output_type": "stream",
          "name": "stderr",
          "text": [
            "[nltk_data] Downloading package punkt to /root/nltk_data...\n",
            "[nltk_data]   Package punkt is already up-to-date!\n",
            "[nltk_data] Downloading package stopwords to /root/nltk_data...\n",
            "[nltk_data]   Package stopwords is already up-to-date!\n"
          ]
        },
        {
          "output_type": "execute_result",
          "data": {
            "text/plain": [
              "True"
            ]
          },
          "metadata": {},
          "execution_count": 81
        }
      ],
      "source": [
        "import nltk\n",
        "nltk.download('punkt')\n",
        "nltk.download('stopwords')"
      ]
    },
    {
      "cell_type": "markdown",
      "source": [
        "## A sample Text Document"
      ],
      "metadata": {
        "id": "wTJ5dN7Z1tkj"
      }
    },
    {
      "cell_type": "code",
      "source": [
        "d = \"\"\" The earliest record of the enigma of the Bermuda Triangle goes as far back as Christopher Columbus’ first voyage to the New World. Upon reaching the waters of the Bermuda Triangle in 1492, Columbus reportedly experienced weird compass readings. \n",
        "He hid this from his crew to avoid throwing them into a panic. As they continued on, the atmosphere of uneasiness kept escalating. Three days later, all those onboard spotted strange lights hovering and this spooked the edgy crew. \n",
        "Many wanted to abandon the quest and return to Spain but obviously, Columbus managed to circumvent it. It is speculated that Columbus convinced his crew to forge on by chalking it up as an explainable phenomenon i.e. a fallen star (meteor). \n",
        "Columbus maintained that the lights were remnants of the great flame of fire from the fallen star, which he claimed to have witnessed on an earlier night.\n",
        "These intriguing shipping log entries by Columbus set in motion the rather mythical bordering on eerie perception of the Bermuda Triangle. Subsequent accounts of incidents at the Bermuda Triangle appear to be heavily laden with mythical influences and even paranormal vibes. \n",
        "In this regard, the story of the Ellen Austin best represents the majority of tales circulated about the Bermuda Triangle by seafarers at that time.\n",
        "It was supposed to be just another routine journey between London and New York over the Bermuda Triangle zone in the Atlantic Ocean, when the crew of the Ellen Austin (a 210-ft-long American large multi-masted ship weighing over 1800 tonnes) became embroiled in a chilling experience fit for a horror movie plot. \n",
        "In 1881, the Ellen Austin was on the last leg of its journey back to New York when, upon entering the waters of the Bermuda Triangle, it was surrounded by a sudden thick mist which blocked out all visibility. Left with no choice, the crew proceeded slowly and relied heavily on the lookout from the crow’s nest. \n",
        "After a few hours, they spotted another ship. Relieved at the prospect of company in such weird circumstances, the Ellen Austin sailed close to the other ship. The crew waited in anticipation for the fog to clear so they could make contact.\n",
        "However, when the fog eventually cleared, the other ship was found to be abandoned. Despite searching high and low, the captain’s log and the trail boards could not be found aboard the abandoned ship, rendering identification impossible. Captain Baker of the Ellen Austin made the decision to sail the mysterious ship back to New York and dispatched six of his men to man the second ship. \n",
        "Things were smooth sailing for the next couple of days until they were forced apart by a sudden storm. \n",
        "It is said that the other ship mysteriously vanished but after several hours of searching, the Ellen Austin finally caught up with it.\n",
        "Eerily, the ship was found to be empty once again with no trace of the six men who were stationed there earlier. The crew was spooked but Captain Baker managed to convince a handful of his men, this time armed with firearms, to sail the other ship in close proximity. \n",
        "Tragically, another heavy fog descended upon them once again and the unknown ship along with the men aboard disappeared for good. It remains an unsolved mystery to this day.\n",
        "Some claim that the unexplained incidents are a result of the hauntings of those who perished in the waters of the Bermuda Triangle. None are more vocal about this hypothesis than psychiatrist Dr. Kenneth McAll of Brook Lyndhurst, England. \n",
        "He theorised that the mysterious vanishing incidents are consequences of the curse of the many African slaves who had been mercilessly thrown overboard on their voyage to America. This is heavily premised on the prevalence of 18th century insurance scams by British sea captains, who defrauded insurance companies by tossing the slaves into the sea to drown, then cashing in on a claim for them.\n",
        "With stories like the Ellen Austin and the possibility of thousands of vengeful spirits, it is no surprise that these mystical and paranormal vibes have pervaded to modern times, culminating in theories where aliens are posited as a possible explanation for the numerous accounts of disorientation, navigational problems and even total disappearances within the Bermuda Triangle. \n",
        "Such theories generally revolve around alien abductions and the reasons for this range from scientific curiosity to inter-species breeding.\n",
        "One of the earliest disappearances in the Bermuda Triangle which is heavily associated with alien abduction is the Mary Celeste. In 1872, Captain Benjamin Briggs, his family and a small, trusted crew set sail from New York to Genoa on a merchant ship called the Mary Celeste. A month later, the ship was found adrift off the coast of Portugal, with not a soul on board. \n",
        "The riddle of the Mary Celeste has intrigued and mystified ever since. \n",
        "The eerily pristine condition of the Mary Celeste and its undisturbed cargo at the time of discovery added fuel to claims of aliens turning up to whisk the crew away. \n",
        "This theory was also used to explain the mysterious disappearance of the USS Cyclops where it is said that aliens beamed the entire ship into their spaceships. However, a lack of convincing evidence and heavy reliance on hearsay continue to cast doubts on the alien theory.\n",
        "Take for example the USS Cyclops incident, which represents the largest non-combat loss of life in the history of the United States Navy. In 1918, the USS Cyclops was supposed to deliver 10,800 tonnes of manganese ore (to be used in the manufacturing of munitions) from Brazil to Baltimore. \n",
        "The ship never arrived at its destination and no trace of it was ever found despite exhaustive search efforts. Mysteriously, no distress signals were sent prior to the ship’s disappearance, nor did anyone aboard the USS Cyclops respond to the radio calls made by hundreds of other American ships in the vicinity. \n",
        "In addition, the waters were relatively calm with no storms strong enough to cause the USS Cyclops to founder. To date, the lives of the 309 on board remain unaccounted for.\n",
        "The disappearances within the waters of the Bermuda Triangle all occurred at various spots and each was subjected to different circumstances. Thus, the scientific community maintains that there is no single theory that can explain all the disappearances. \n",
        "The following are some of the mainstream theories that have been put forward as plausible explanations over the years.\n",
        "The Gulf Stream is a warm ocean current flowing from the Gulf of Mexico around the Florida Straits north-eastward towards Europe. It acts like a saltwater river on the surface of the ocean. As its currents are extremely swift and turbulent, floating objects are easily washed away. \n",
        "The unique features of the Gulf Stream also make it possible for a vessel to encounter disaster at one location and for the wreckage or debris to end up in another.\n",
        "An example is the disappearance of Daniel Burack on 22 December 1967. He radioed for help from his cabin cruiser “Witchcraft”, reporting engine trouble near the Miami buoy marker one mile from the shore. However, when the Coast Guard arrived at the location 19 minutes after the distress call, the cabin cruiser and its passengers were nowhere to be found. \n",
        "The search party continued for six days, during which some 24,500 square miles were covered, but to no avail.\n",
        "The ocean bed of the Bermuda Triangle is strangely volatile. It comprises of deceptively gentle slopes, sudden deep drops and some of the deepest trenches in the world. Thus, it significantly reduces the chances of locating sunken vessels particularly as some of the deeper trenches are virtually inaccessible. In addition, the constant strong current of the Gulf Stream interfacing with reefs and marine trenches rapidly changes the topography of the sea floor. \n",
        "This in turn gives rise to many navigational hazards.\n",
        "This rapidly changing topography also explains why most rescue efforts and subsequent deep-sea salvage operations turn up nothing at all. The discovery of giant craters (about half a mile wide and 150ft deep) in the Barent Sea off the coast of Norway in March 2016 has also been used to support claims that there are large deep ocean craters on the sea floor of the Bermuda Triangle. \n",
        "The giant craters are attributed to oil leaks or methane gas bursts, trapped at different layers below the sea floor. \n",
        "This also complements the theory that if a ship is wrecked due to a methane blow out or other reason, it may drop into a crater causing the unfortunate vessel to remain hidden forever.\n",
        "Unexplained phenomenon and unsolved mysteries always elicit interest, more so when there are undiscovered secrets. Regardless of whether you are a believer or a sceptic, the mysterious Bermuda Triangle is a stark reminder that despite the technological advances made to date, there are still places which remain unexplained by science.\n",
        "\"\"\""
      ],
      "metadata": {
        "id": "mhP_w0Iy1ozP"
      },
      "execution_count": 82,
      "outputs": []
    },
    {
      "cell_type": "code",
      "source": [
        "import re\n",
        "\n",
        "d = re.sub(r'\\n|\\r', ' ', d)\n",
        "d = re.sub(r' +', ' ', d)\n",
        "d = d.strip()"
      ],
      "metadata": {
        "id": "hPKPHeLL2HDy"
      },
      "execution_count": 83,
      "outputs": []
    },
    {
      "cell_type": "markdown",
      "source": [
        "## Genism"
      ],
      "metadata": {
        "id": "KiKBX3dK5Kwx"
      }
    },
    {
      "cell_type": "markdown",
      "source": [
        "It is an open source library in python written by Radim Rehurek which is used in unsupervised topic modelling and natural language processing. It is designed to extract semantic topics from documents. It can handle large text collections."
      ],
      "metadata": {
        "id": "i6S3zF8w5T0d"
      }
    },
    {
      "cell_type": "code",
      "source": [
        "from gensim.summarization import summarize"
      ],
      "metadata": {
        "id": "wGuDv8gL4z-Q"
      },
      "execution_count": 84,
      "outputs": []
    },
    {
      "cell_type": "code",
      "source": [
        "print(summarize(d, ratio=0.2, split=False))"
      ],
      "metadata": {
        "colab": {
          "base_uri": "https://localhost:8080/"
        },
        "id": "d_3SofCW5XOl",
        "outputId": "4c3303c1-a830-4119-b459-1ce2b10141d1"
      },
      "execution_count": 85,
      "outputs": [
        {
          "output_type": "stream",
          "name": "stdout",
          "text": [
            "These intriguing shipping log entries by Columbus set in motion the rather mythical bordering on eerie perception of the Bermuda Triangle.\n",
            "It was supposed to be just another routine journey between London and New York over the Bermuda Triangle zone in the Atlantic Ocean, when the crew of the Ellen Austin (a 210-ft-long American large multi-masted ship weighing over 1800 tonnes) became embroiled in a chilling experience fit for a horror movie plot.\n",
            "In 1881, the Ellen Austin was on the last leg of its journey back to New York when, upon entering the waters of the Bermuda Triangle, it was surrounded by a sudden thick mist which blocked out all visibility.\n",
            "Captain Baker of the Ellen Austin made the decision to sail the mysterious ship back to New York and dispatched six of his men to man the second ship.\n",
            "It is said that the other ship mysteriously vanished but after several hours of searching, the Ellen Austin finally caught up with it.\n",
            "The crew was spooked but Captain Baker managed to convince a handful of his men, this time armed with firearms, to sail the other ship in close proximity.\n",
            "With stories like the Ellen Austin and the possibility of thousands of vengeful spirits, it is no surprise that these mystical and paranormal vibes have pervaded to modern times, culminating in theories where aliens are posited as a possible explanation for the numerous accounts of disorientation, navigational problems and even total disappearances within the Bermuda Triangle.\n",
            "One of the earliest disappearances in the Bermuda Triangle which is heavily associated with alien abduction is the Mary Celeste.\n",
            "In 1872, Captain Benjamin Briggs, his family and a small, trusted crew set sail from New York to Genoa on a merchant ship called the Mary Celeste.\n",
            "The eerily pristine condition of the Mary Celeste and its undisturbed cargo at the time of discovery added fuel to claims of aliens turning up to whisk the crew away.\n",
            "This theory was also used to explain the mysterious disappearance of the USS Cyclops where it is said that aliens beamed the entire ship into their spaceships.\n",
            "Mysteriously, no distress signals were sent prior to the ship’s disappearance, nor did anyone aboard the USS Cyclops respond to the radio calls made by hundreds of other American ships in the vicinity.\n",
            "The disappearances within the waters of the Bermuda Triangle all occurred at various spots and each was subjected to different circumstances.\n"
          ]
        }
      ]
    },
    {
      "cell_type": "code",
      "source": [
        "sentences = nltk.sent_tokenize(d)\n",
        "len(sentences)"
      ],
      "metadata": {
        "colab": {
          "base_uri": "https://localhost:8080/"
        },
        "id": "OFxMrhRm5fvE",
        "outputId": "4b53de4d-0ece-4e24-c18b-4eb8c55bd1ae"
      },
      "execution_count": 86,
      "outputs": [
        {
          "output_type": "execute_result",
          "data": {
            "text/plain": [
              "68"
            ]
          },
          "metadata": {},
          "execution_count": 86
        }
      ]
    },
    {
      "cell_type": "markdown",
      "source": [
        "## Text Pre-Processing"
      ],
      "metadata": {
        "id": "Wjxv5lau5vC2"
      }
    },
    {
      "cell_type": "code",
      "source": [
        "import numpy as np\n",
        "stop_words = nltk.corpus.stopwords.words('english')"
      ],
      "metadata": {
        "id": "p_imuDn05r7g"
      },
      "execution_count": 87,
      "outputs": []
    },
    {
      "cell_type": "code",
      "source": [
        "def normalize_document(doc):\n",
        "\n",
        "    # lower case and remove special characters\\whitespaces\n",
        "    # Here, re.I represents IgnoreCase\n",
        "    # re.A represents ASCII AND performs ASCII-only matching instead of full Unicode matching\n",
        "    doc = re.sub(r'[^a-zA-Z\\s]', '', doc, re.I|re.A)\n",
        "    doc = re.sub(r'\\n|\\r', ' ', doc)\n",
        "    doc = re.sub(r' +', ' ', doc)\n",
        "    doc = doc.strip()\n",
        "    doc = doc.lower()\n",
        "    doc = doc.strip()\n",
        "\n",
        "    # tokenize document\n",
        "    tokens = nltk.word_tokenize(doc)\n",
        "\n",
        "    # filter stopwords out of document\n",
        "    filtered_tokens = [token for token in tokens if token not in stop_words]\n",
        "\n",
        "    # re-create document from filtered tokens\n",
        "    doc = ' '.join(filtered_tokens)\n",
        "\n",
        "    return doc"
      ],
      "metadata": {
        "id": "9bHhCux552sM"
      },
      "execution_count": 88,
      "outputs": []
    },
    {
      "cell_type": "code",
      "source": [
        "normalized_corpus = np.vectorize(normalize_document)\n",
        "normalized_sentences = normalized_corpus(sentences)\n",
        "normalized_sentences[:3]"
      ],
      "metadata": {
        "colab": {
          "base_uri": "https://localhost:8080/"
        },
        "id": "E1_KQBWi7FDa",
        "outputId": "86643280-654d-4977-be35-cd33b38ff1b5"
      },
      "execution_count": 89,
      "outputs": [
        {
          "output_type": "execute_result",
          "data": {
            "text/plain": [
              "array(['earliest record enigma bermuda triangle goes far back christopher columbus first voyage new world',\n",
              "       'upon reaching waters bermuda triangle columbus reportedly experienced weird compass readings',\n",
              "       'hid crew avoid throwing panic'], dtype='<U283')"
            ]
          },
          "metadata": {},
          "execution_count": 89
        }
      ]
    },
    {
      "cell_type": "markdown",
      "source": [
        "## Feature Engineering"
      ],
      "metadata": {
        "id": "Rb04jGhn87Pq"
      }
    },
    {
      "cell_type": "code",
      "source": [
        "from sklearn.feature_extraction.text import TfidfVectorizer\n",
        "import pandas as pd"
      ],
      "metadata": {
        "id": "nmu5lwcn82nK"
      },
      "execution_count": 90,
      "outputs": []
    },
    {
      "cell_type": "code",
      "source": [
        "tv = TfidfVectorizer(min_df=0., max_df=1., use_idf=True)\n",
        "dt_matrix = tv.fit_transform(normalized_sentences)\n",
        "dt_matrix = dt_matrix.toarray()\n",
        "vocab = tv.get_feature_names()\n",
        "td_matrix = dt_matrix.T"
      ],
      "metadata": {
        "id": "IyJO5kHn9Amj",
        "colab": {
          "base_uri": "https://localhost:8080/"
        },
        "outputId": "3386acf8-e9d7-42cf-d81f-5f02beaa0094"
      },
      "execution_count": 91,
      "outputs": [
        {
          "output_type": "stream",
          "name": "stderr",
          "text": [
            "/usr/local/lib/python3.8/dist-packages/sklearn/utils/deprecation.py:87: FutureWarning: Function get_feature_names is deprecated; get_feature_names is deprecated in 1.0 and will be removed in 1.2. Please use get_feature_names_out instead.\n",
            "  warnings.warn(msg, category=FutureWarning)\n"
          ]
        }
      ]
    },
    {
      "cell_type": "code",
      "source": [
        "print(td_matrix.shape)"
      ],
      "metadata": {
        "colab": {
          "base_uri": "https://localhost:8080/"
        },
        "id": "JFPWSVdg-Jol",
        "outputId": "fab22869-3538-4d94-fd7f-00ac39095bd8"
      },
      "execution_count": 92,
      "outputs": [
        {
          "output_type": "stream",
          "name": "stdout",
          "text": [
            "(552, 68)\n"
          ]
        }
      ]
    },
    {
      "cell_type": "code",
      "source": [
        "pd.DataFrame(np.round(td_matrix, 2), index=vocab).head(10)"
      ],
      "metadata": {
        "colab": {
          "base_uri": "https://localhost:8080/",
          "height": 392
        },
        "id": "hz9z1PrU-Lhd",
        "outputId": "5ec72de4-da54-4331-abf2-519d16fbc0ea"
      },
      "execution_count": 93,
      "outputs": [
        {
          "output_type": "execute_result",
          "data": {
            "text/plain": [
              "             0    1    2    3    4     5    6    7    8    9   ...   58   59  \\\n",
              "abandon     0.0  0.0  0.0  0.0  0.0  0.33  0.0  0.0  0.0  0.0  ...  0.0  0.0   \n",
              "abandoned   0.0  0.0  0.0  0.0  0.0  0.00  0.0  0.0  0.0  0.0  ...  0.0  0.0   \n",
              "abduction   0.0  0.0  0.0  0.0  0.0  0.00  0.0  0.0  0.0  0.0  ...  0.0  0.0   \n",
              "abductions  0.0  0.0  0.0  0.0  0.0  0.00  0.0  0.0  0.0  0.0  ...  0.0  0.0   \n",
              "aboard      0.0  0.0  0.0  0.0  0.0  0.00  0.0  0.0  0.0  0.0  ...  0.0  0.0   \n",
              "accounts    0.0  0.0  0.0  0.0  0.0  0.00  0.0  0.0  0.0  0.0  ...  0.0  0.0   \n",
              "acts        0.0  0.0  0.0  0.0  0.0  0.00  0.0  0.0  0.0  0.0  ...  0.0  0.0   \n",
              "added       0.0  0.0  0.0  0.0  0.0  0.00  0.0  0.0  0.0  0.0  ...  0.0  0.0   \n",
              "addition    0.0  0.0  0.0  0.0  0.0  0.00  0.0  0.0  0.0  0.0  ...  0.0  0.0   \n",
              "adrift      0.0  0.0  0.0  0.0  0.0  0.00  0.0  0.0  0.0  0.0  ...  0.0  0.0   \n",
              "\n",
              "              60   61   62   63   64   65   66   67  \n",
              "abandon     0.00  0.0  0.0  0.0  0.0  0.0  0.0  0.0  \n",
              "abandoned   0.00  0.0  0.0  0.0  0.0  0.0  0.0  0.0  \n",
              "abduction   0.00  0.0  0.0  0.0  0.0  0.0  0.0  0.0  \n",
              "abductions  0.00  0.0  0.0  0.0  0.0  0.0  0.0  0.0  \n",
              "aboard      0.00  0.0  0.0  0.0  0.0  0.0  0.0  0.0  \n",
              "accounts    0.00  0.0  0.0  0.0  0.0  0.0  0.0  0.0  \n",
              "acts        0.00  0.0  0.0  0.0  0.0  0.0  0.0  0.0  \n",
              "added       0.00  0.0  0.0  0.0  0.0  0.0  0.0  0.0  \n",
              "addition    0.26  0.0  0.0  0.0  0.0  0.0  0.0  0.0  \n",
              "adrift      0.00  0.0  0.0  0.0  0.0  0.0  0.0  0.0  \n",
              "\n",
              "[10 rows x 68 columns]"
            ],
            "text/html": [
              "\n",
              "  <div id=\"df-b0bb6a6c-ba5e-41f9-9e92-3f15c12753cd\">\n",
              "    <div class=\"colab-df-container\">\n",
              "      <div>\n",
              "<style scoped>\n",
              "    .dataframe tbody tr th:only-of-type {\n",
              "        vertical-align: middle;\n",
              "    }\n",
              "\n",
              "    .dataframe tbody tr th {\n",
              "        vertical-align: top;\n",
              "    }\n",
              "\n",
              "    .dataframe thead th {\n",
              "        text-align: right;\n",
              "    }\n",
              "</style>\n",
              "<table border=\"1\" class=\"dataframe\">\n",
              "  <thead>\n",
              "    <tr style=\"text-align: right;\">\n",
              "      <th></th>\n",
              "      <th>0</th>\n",
              "      <th>1</th>\n",
              "      <th>2</th>\n",
              "      <th>3</th>\n",
              "      <th>4</th>\n",
              "      <th>5</th>\n",
              "      <th>6</th>\n",
              "      <th>7</th>\n",
              "      <th>8</th>\n",
              "      <th>9</th>\n",
              "      <th>...</th>\n",
              "      <th>58</th>\n",
              "      <th>59</th>\n",
              "      <th>60</th>\n",
              "      <th>61</th>\n",
              "      <th>62</th>\n",
              "      <th>63</th>\n",
              "      <th>64</th>\n",
              "      <th>65</th>\n",
              "      <th>66</th>\n",
              "      <th>67</th>\n",
              "    </tr>\n",
              "  </thead>\n",
              "  <tbody>\n",
              "    <tr>\n",
              "      <th>abandon</th>\n",
              "      <td>0.0</td>\n",
              "      <td>0.0</td>\n",
              "      <td>0.0</td>\n",
              "      <td>0.0</td>\n",
              "      <td>0.0</td>\n",
              "      <td>0.33</td>\n",
              "      <td>0.0</td>\n",
              "      <td>0.0</td>\n",
              "      <td>0.0</td>\n",
              "      <td>0.0</td>\n",
              "      <td>...</td>\n",
              "      <td>0.0</td>\n",
              "      <td>0.0</td>\n",
              "      <td>0.00</td>\n",
              "      <td>0.0</td>\n",
              "      <td>0.0</td>\n",
              "      <td>0.0</td>\n",
              "      <td>0.0</td>\n",
              "      <td>0.0</td>\n",
              "      <td>0.0</td>\n",
              "      <td>0.0</td>\n",
              "    </tr>\n",
              "    <tr>\n",
              "      <th>abandoned</th>\n",
              "      <td>0.0</td>\n",
              "      <td>0.0</td>\n",
              "      <td>0.0</td>\n",
              "      <td>0.0</td>\n",
              "      <td>0.0</td>\n",
              "      <td>0.00</td>\n",
              "      <td>0.0</td>\n",
              "      <td>0.0</td>\n",
              "      <td>0.0</td>\n",
              "      <td>0.0</td>\n",
              "      <td>...</td>\n",
              "      <td>0.0</td>\n",
              "      <td>0.0</td>\n",
              "      <td>0.00</td>\n",
              "      <td>0.0</td>\n",
              "      <td>0.0</td>\n",
              "      <td>0.0</td>\n",
              "      <td>0.0</td>\n",
              "      <td>0.0</td>\n",
              "      <td>0.0</td>\n",
              "      <td>0.0</td>\n",
              "    </tr>\n",
              "    <tr>\n",
              "      <th>abduction</th>\n",
              "      <td>0.0</td>\n",
              "      <td>0.0</td>\n",
              "      <td>0.0</td>\n",
              "      <td>0.0</td>\n",
              "      <td>0.0</td>\n",
              "      <td>0.00</td>\n",
              "      <td>0.0</td>\n",
              "      <td>0.0</td>\n",
              "      <td>0.0</td>\n",
              "      <td>0.0</td>\n",
              "      <td>...</td>\n",
              "      <td>0.0</td>\n",
              "      <td>0.0</td>\n",
              "      <td>0.00</td>\n",
              "      <td>0.0</td>\n",
              "      <td>0.0</td>\n",
              "      <td>0.0</td>\n",
              "      <td>0.0</td>\n",
              "      <td>0.0</td>\n",
              "      <td>0.0</td>\n",
              "      <td>0.0</td>\n",
              "    </tr>\n",
              "    <tr>\n",
              "      <th>abductions</th>\n",
              "      <td>0.0</td>\n",
              "      <td>0.0</td>\n",
              "      <td>0.0</td>\n",
              "      <td>0.0</td>\n",
              "      <td>0.0</td>\n",
              "      <td>0.00</td>\n",
              "      <td>0.0</td>\n",
              "      <td>0.0</td>\n",
              "      <td>0.0</td>\n",
              "      <td>0.0</td>\n",
              "      <td>...</td>\n",
              "      <td>0.0</td>\n",
              "      <td>0.0</td>\n",
              "      <td>0.00</td>\n",
              "      <td>0.0</td>\n",
              "      <td>0.0</td>\n",
              "      <td>0.0</td>\n",
              "      <td>0.0</td>\n",
              "      <td>0.0</td>\n",
              "      <td>0.0</td>\n",
              "      <td>0.0</td>\n",
              "    </tr>\n",
              "    <tr>\n",
              "      <th>aboard</th>\n",
              "      <td>0.0</td>\n",
              "      <td>0.0</td>\n",
              "      <td>0.0</td>\n",
              "      <td>0.0</td>\n",
              "      <td>0.0</td>\n",
              "      <td>0.00</td>\n",
              "      <td>0.0</td>\n",
              "      <td>0.0</td>\n",
              "      <td>0.0</td>\n",
              "      <td>0.0</td>\n",
              "      <td>...</td>\n",
              "      <td>0.0</td>\n",
              "      <td>0.0</td>\n",
              "      <td>0.00</td>\n",
              "      <td>0.0</td>\n",
              "      <td>0.0</td>\n",
              "      <td>0.0</td>\n",
              "      <td>0.0</td>\n",
              "      <td>0.0</td>\n",
              "      <td>0.0</td>\n",
              "      <td>0.0</td>\n",
              "    </tr>\n",
              "    <tr>\n",
              "      <th>accounts</th>\n",
              "      <td>0.0</td>\n",
              "      <td>0.0</td>\n",
              "      <td>0.0</td>\n",
              "      <td>0.0</td>\n",
              "      <td>0.0</td>\n",
              "      <td>0.00</td>\n",
              "      <td>0.0</td>\n",
              "      <td>0.0</td>\n",
              "      <td>0.0</td>\n",
              "      <td>0.0</td>\n",
              "      <td>...</td>\n",
              "      <td>0.0</td>\n",
              "      <td>0.0</td>\n",
              "      <td>0.00</td>\n",
              "      <td>0.0</td>\n",
              "      <td>0.0</td>\n",
              "      <td>0.0</td>\n",
              "      <td>0.0</td>\n",
              "      <td>0.0</td>\n",
              "      <td>0.0</td>\n",
              "      <td>0.0</td>\n",
              "    </tr>\n",
              "    <tr>\n",
              "      <th>acts</th>\n",
              "      <td>0.0</td>\n",
              "      <td>0.0</td>\n",
              "      <td>0.0</td>\n",
              "      <td>0.0</td>\n",
              "      <td>0.0</td>\n",
              "      <td>0.00</td>\n",
              "      <td>0.0</td>\n",
              "      <td>0.0</td>\n",
              "      <td>0.0</td>\n",
              "      <td>0.0</td>\n",
              "      <td>...</td>\n",
              "      <td>0.0</td>\n",
              "      <td>0.0</td>\n",
              "      <td>0.00</td>\n",
              "      <td>0.0</td>\n",
              "      <td>0.0</td>\n",
              "      <td>0.0</td>\n",
              "      <td>0.0</td>\n",
              "      <td>0.0</td>\n",
              "      <td>0.0</td>\n",
              "      <td>0.0</td>\n",
              "    </tr>\n",
              "    <tr>\n",
              "      <th>added</th>\n",
              "      <td>0.0</td>\n",
              "      <td>0.0</td>\n",
              "      <td>0.0</td>\n",
              "      <td>0.0</td>\n",
              "      <td>0.0</td>\n",
              "      <td>0.00</td>\n",
              "      <td>0.0</td>\n",
              "      <td>0.0</td>\n",
              "      <td>0.0</td>\n",
              "      <td>0.0</td>\n",
              "      <td>...</td>\n",
              "      <td>0.0</td>\n",
              "      <td>0.0</td>\n",
              "      <td>0.00</td>\n",
              "      <td>0.0</td>\n",
              "      <td>0.0</td>\n",
              "      <td>0.0</td>\n",
              "      <td>0.0</td>\n",
              "      <td>0.0</td>\n",
              "      <td>0.0</td>\n",
              "      <td>0.0</td>\n",
              "    </tr>\n",
              "    <tr>\n",
              "      <th>addition</th>\n",
              "      <td>0.0</td>\n",
              "      <td>0.0</td>\n",
              "      <td>0.0</td>\n",
              "      <td>0.0</td>\n",
              "      <td>0.0</td>\n",
              "      <td>0.00</td>\n",
              "      <td>0.0</td>\n",
              "      <td>0.0</td>\n",
              "      <td>0.0</td>\n",
              "      <td>0.0</td>\n",
              "      <td>...</td>\n",
              "      <td>0.0</td>\n",
              "      <td>0.0</td>\n",
              "      <td>0.26</td>\n",
              "      <td>0.0</td>\n",
              "      <td>0.0</td>\n",
              "      <td>0.0</td>\n",
              "      <td>0.0</td>\n",
              "      <td>0.0</td>\n",
              "      <td>0.0</td>\n",
              "      <td>0.0</td>\n",
              "    </tr>\n",
              "    <tr>\n",
              "      <th>adrift</th>\n",
              "      <td>0.0</td>\n",
              "      <td>0.0</td>\n",
              "      <td>0.0</td>\n",
              "      <td>0.0</td>\n",
              "      <td>0.0</td>\n",
              "      <td>0.00</td>\n",
              "      <td>0.0</td>\n",
              "      <td>0.0</td>\n",
              "      <td>0.0</td>\n",
              "      <td>0.0</td>\n",
              "      <td>...</td>\n",
              "      <td>0.0</td>\n",
              "      <td>0.0</td>\n",
              "      <td>0.00</td>\n",
              "      <td>0.0</td>\n",
              "      <td>0.0</td>\n",
              "      <td>0.0</td>\n",
              "      <td>0.0</td>\n",
              "      <td>0.0</td>\n",
              "      <td>0.0</td>\n",
              "      <td>0.0</td>\n",
              "    </tr>\n",
              "  </tbody>\n",
              "</table>\n",
              "<p>10 rows × 68 columns</p>\n",
              "</div>\n",
              "      <button class=\"colab-df-convert\" onclick=\"convertToInteractive('df-b0bb6a6c-ba5e-41f9-9e92-3f15c12753cd')\"\n",
              "              title=\"Convert this dataframe to an interactive table.\"\n",
              "              style=\"display:none;\">\n",
              "        \n",
              "  <svg xmlns=\"http://www.w3.org/2000/svg\" height=\"24px\"viewBox=\"0 0 24 24\"\n",
              "       width=\"24px\">\n",
              "    <path d=\"M0 0h24v24H0V0z\" fill=\"none\"/>\n",
              "    <path d=\"M18.56 5.44l.94 2.06.94-2.06 2.06-.94-2.06-.94-.94-2.06-.94 2.06-2.06.94zm-11 1L8.5 8.5l.94-2.06 2.06-.94-2.06-.94L8.5 2.5l-.94 2.06-2.06.94zm10 10l.94 2.06.94-2.06 2.06-.94-2.06-.94-.94-2.06-.94 2.06-2.06.94z\"/><path d=\"M17.41 7.96l-1.37-1.37c-.4-.4-.92-.59-1.43-.59-.52 0-1.04.2-1.43.59L10.3 9.45l-7.72 7.72c-.78.78-.78 2.05 0 2.83L4 21.41c.39.39.9.59 1.41.59.51 0 1.02-.2 1.41-.59l7.78-7.78 2.81-2.81c.8-.78.8-2.07 0-2.86zM5.41 20L4 18.59l7.72-7.72 1.47 1.35L5.41 20z\"/>\n",
              "  </svg>\n",
              "      </button>\n",
              "      \n",
              "  <style>\n",
              "    .colab-df-container {\n",
              "      display:flex;\n",
              "      flex-wrap:wrap;\n",
              "      gap: 12px;\n",
              "    }\n",
              "\n",
              "    .colab-df-convert {\n",
              "      background-color: #E8F0FE;\n",
              "      border: none;\n",
              "      border-radius: 50%;\n",
              "      cursor: pointer;\n",
              "      display: none;\n",
              "      fill: #1967D2;\n",
              "      height: 32px;\n",
              "      padding: 0 0 0 0;\n",
              "      width: 32px;\n",
              "    }\n",
              "\n",
              "    .colab-df-convert:hover {\n",
              "      background-color: #E2EBFA;\n",
              "      box-shadow: 0px 1px 2px rgba(60, 64, 67, 0.3), 0px 1px 3px 1px rgba(60, 64, 67, 0.15);\n",
              "      fill: #174EA6;\n",
              "    }\n",
              "\n",
              "    [theme=dark] .colab-df-convert {\n",
              "      background-color: #3B4455;\n",
              "      fill: #D2E3FC;\n",
              "    }\n",
              "\n",
              "    [theme=dark] .colab-df-convert:hover {\n",
              "      background-color: #434B5C;\n",
              "      box-shadow: 0px 1px 3px 1px rgba(0, 0, 0, 0.15);\n",
              "      filter: drop-shadow(0px 1px 2px rgba(0, 0, 0, 0.3));\n",
              "      fill: #FFFFFF;\n",
              "    }\n",
              "  </style>\n",
              "\n",
              "      <script>\n",
              "        const buttonEl =\n",
              "          document.querySelector('#df-b0bb6a6c-ba5e-41f9-9e92-3f15c12753cd button.colab-df-convert');\n",
              "        buttonEl.style.display =\n",
              "          google.colab.kernel.accessAllowed ? 'block' : 'none';\n",
              "\n",
              "        async function convertToInteractive(key) {\n",
              "          const element = document.querySelector('#df-b0bb6a6c-ba5e-41f9-9e92-3f15c12753cd');\n",
              "          const dataTable =\n",
              "            await google.colab.kernel.invokeFunction('convertToInteractive',\n",
              "                                                     [key], {});\n",
              "          if (!dataTable) return;\n",
              "\n",
              "          const docLinkHtml = 'Like what you see? Visit the ' +\n",
              "            '<a target=\"_blank\" href=https://colab.research.google.com/notebooks/data_table.ipynb>data table notebook</a>'\n",
              "            + ' to learn more about interactive tables.';\n",
              "          element.innerHTML = '';\n",
              "          dataTable['output_type'] = 'display_data';\n",
              "          await google.colab.output.renderOutput(dataTable, element);\n",
              "          const docLink = document.createElement('div');\n",
              "          docLink.innerHTML = docLinkHtml;\n",
              "          element.appendChild(docLink);\n",
              "        }\n",
              "      </script>\n",
              "    </div>\n",
              "  </div>\n",
              "  "
            ]
          },
          "metadata": {},
          "execution_count": 93
        }
      ]
    },
    {
      "cell_type": "markdown",
      "source": [
        "##Latent Semantic Analysis"
      ],
      "metadata": {
        "id": "IUPNh4Uf-V_B"
      }
    },
    {
      "cell_type": "markdown",
      "source": [
        "LSI is a process found in Natural Language Processing (NLP). NLP is a subset of linguistics and information engineering, with a focus on how machines interpret human language. A key part of this study is distributional semantics. This model helps us understand and classify words with similar contextual meanings within large data sets."
      ],
      "metadata": {
        "id": "54tn4epGgdLW"
      }
    },
    {
      "cell_type": "markdown",
      "source": [
        "Developed in the 1980s, LSI uses a mathematical method that makes information retrieval more accurate. This method works by identifying the hidden contextual relationships between words. It may help you to break it down like this:\n",
        "\n",
        "Latent → Hidden\n",
        "\n",
        "Semantic → Relationships Between Words\n",
        "\n",
        "Indexing → Information Retrieval"
      ],
      "metadata": {
        "id": "KJE-Kg8LghAC"
      }
    },
    {
      "cell_type": "code",
      "source": [
        "from scipy.sparse.linalg import svds"
      ],
      "metadata": {
        "id": "kkn1VqX3-M6h"
      },
      "execution_count": 94,
      "outputs": []
    },
    {
      "cell_type": "code",
      "source": [
        "def low_rank_svd(matrix, singular_count=2):\n",
        "    u, s, vt = svds(matrix, k=singular_count)\n",
        "    return u, s, vt"
      ],
      "metadata": {
        "id": "aY0jPvH85TdN"
      },
      "execution_count": 95,
      "outputs": []
    },
    {
      "cell_type": "code",
      "source": [
        "num_sentences = 8\n",
        "num_topics = 3\n",
        "term_topic, singular_values, topic_document=low_rank_svd(td_matrix, singular_count=num_topics)"
      ],
      "metadata": {
        "id": "F_OjnZKZ5UyQ"
      },
      "execution_count": 96,
      "outputs": []
    },
    {
      "cell_type": "code",
      "source": [
        "# removing singular values below threshold                                 \n",
        "sv_threshold = 0.5\n",
        "min_sigma_value = max(singular_values) * sv_threshold\n",
        "singular_values[singular_values < min_sigma_value] = 0\n",
        "salience_scores = np.sqrt(np.dot(np.square(singular_values), np.square(topic_document)))\n",
        "top_sentence_indices = (-salience_scores).argsort()[:num_sentences]\n",
        "print('\\n'.join(np.array(sentences)[top_sentence_indices]))"
      ],
      "metadata": {
        "colab": {
          "base_uri": "https://localhost:8080/"
        },
        "id": "GbMgw2WuLzBP",
        "outputId": "915d1c44-42a2-4f67-8e3f-cfb58f0a1a37"
      },
      "execution_count": 97,
      "outputs": [
        {
          "output_type": "stream",
          "name": "stdout",
          "text": [
            "Captain Baker of the Ellen Austin made the decision to sail the mysterious ship back to New York and dispatched six of his men to man the second ship.\n",
            "In 1881, the Ellen Austin was on the last leg of its journey back to New York when, upon entering the waters of the Bermuda Triangle, it was surrounded by a sudden thick mist which blocked out all visibility.\n",
            "The discovery of giant craters (about half a mile wide and 150ft deep) in the Barent Sea off the coast of Norway in March 2016 has also been used to support claims that there are large deep ocean craters on the sea floor of the Bermuda Triangle.\n",
            "In addition, the constant strong current of the Gulf Stream interfacing with reefs and marine trenches rapidly changes the topography of the sea floor.\n",
            "This theory was also used to explain the mysterious disappearance of the USS Cyclops where it is said that aliens beamed the entire ship into their spaceships.\n",
            "Eerily, the ship was found to be empty once again with no trace of the six men who were stationed there earlier.\n",
            "Some claim that the unexplained incidents are a result of the hauntings of those who perished in the waters of the Bermuda Triangle.\n",
            "The crew was spooked but Captain Baker managed to convince a handful of his men, this time armed with firearms, to sail the other ship in close proximity.\n"
          ]
        }
      ]
    },
    {
      "cell_type": "markdown",
      "source": [
        "## Similarity Matrix & Graph"
      ],
      "metadata": {
        "id": "RavskOdZY-Wg"
      }
    },
    {
      "cell_type": "code",
      "source": [
        "similarity_matrix = np.matmul(dt_matrix, dt_matrix.T)\n",
        "print(similarity_matrix.shape)\n",
        "np.round(similarity_matrix, 3)"
      ],
      "metadata": {
        "colab": {
          "base_uri": "https://localhost:8080/"
        },
        "id": "llJyo65hYR8-",
        "outputId": "834ffea9-9d6a-4947-9e8e-854aaa196e2a"
      },
      "execution_count": 98,
      "outputs": [
        {
          "output_type": "stream",
          "name": "stdout",
          "text": [
            "(68, 68)\n"
          ]
        },
        {
          "output_type": "execute_result",
          "data": {
            "text/plain": [
              "array([[1.   , 0.12 , 0.   , ..., 0.   , 0.   , 0.047],\n",
              "       [0.12 , 1.   , 0.   , ..., 0.   , 0.   , 0.054],\n",
              "       [0.   , 0.   , 1.   , ..., 0.   , 0.   , 0.   ],\n",
              "       ...,\n",
              "       [0.   , 0.   , 0.   , ..., 1.   , 0.   , 0.045],\n",
              "       [0.   , 0.   , 0.   , ..., 0.   , 1.   , 0.062],\n",
              "       [0.047, 0.054, 0.   , ..., 0.045, 0.062, 1.   ]])"
            ]
          },
          "metadata": {},
          "execution_count": 98
        }
      ]
    },
    {
      "cell_type": "code",
      "source": [
        "import networkx\n",
        "\n",
        "similarity_graph = networkx.from_numpy_array(similarity_matrix)\n",
        "similarity_graph"
      ],
      "metadata": {
        "colab": {
          "base_uri": "https://localhost:8080/"
        },
        "id": "kY1x0BkzZG7n",
        "outputId": "9f45fd50-8037-454a-feb1-49bf0c600c1d"
      },
      "execution_count": 99,
      "outputs": [
        {
          "output_type": "execute_result",
          "data": {
            "text/plain": [
              "<networkx.classes.graph.Graph at 0x7f63ed993a90>"
            ]
          },
          "metadata": {},
          "execution_count": 99
        }
      ]
    },
    {
      "cell_type": "code",
      "source": [
        "import matplotlib.pyplot as plt\n",
        "%matplotlib inline\n",
        "\n",
        "plt.figure(figsize=(12, 6))\n",
        "networkx.draw_networkx(similarity_graph, node_color='lime')"
      ],
      "metadata": {
        "colab": {
          "base_uri": "https://localhost:8080/",
          "height": 357
        },
        "id": "g38CicmYZM4V",
        "outputId": "29446057-fdf3-4e6b-c7be-0e9c2457ff01"
      },
      "execution_count": 100,
      "outputs": [
        {
          "output_type": "display_data",
          "data": {
            "text/plain": [
              "<Figure size 864x432 with 1 Axes>"
            ],
            "image/png": "[encoded data removed]"
          },
          "metadata": {}
        }
      ]
    }
  ]
}